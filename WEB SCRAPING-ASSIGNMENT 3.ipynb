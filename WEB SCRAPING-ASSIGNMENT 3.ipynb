{
 "cells": [
  {
   "cell_type": "code",
   "execution_count": 1,
   "id": "de9c7fa6",
   "metadata": {},
   "outputs": [
    {
     "name": "stdout",
     "output_type": "stream",
     "text": [
      "Requirement already satisfied: selenium in c:\\users\\pc\\anaconda3\\lib\\site-packages (4.19.0)\n",
      "Requirement already satisfied: urllib3[socks]<3,>=1.26 in c:\\users\\pc\\anaconda3\\lib\\site-packages (from selenium) (1.26.16)\n",
      "Requirement already satisfied: trio~=0.17 in c:\\users\\pc\\anaconda3\\lib\\site-packages (from selenium) (0.25.0)\n",
      "Requirement already satisfied: trio-websocket~=0.9 in c:\\users\\pc\\anaconda3\\lib\\site-packages (from selenium) (0.11.1)\n",
      "Requirement already satisfied: certifi>=2021.10.8 in c:\\users\\pc\\anaconda3\\lib\\site-packages (from selenium) (2023.5.7)\n",
      "Requirement already satisfied: typing_extensions>=4.9.0 in c:\\users\\pc\\anaconda3\\lib\\site-packages (from selenium) (4.10.0)\n",
      "Requirement already satisfied: attrs>=23.2.0 in c:\\users\\pc\\anaconda3\\lib\\site-packages (from trio~=0.17->selenium) (23.2.0)\n",
      "Requirement already satisfied: sortedcontainers in c:\\users\\pc\\anaconda3\\lib\\site-packages (from trio~=0.17->selenium) (2.4.0)\n",
      "Requirement already satisfied: idna in c:\\users\\pc\\anaconda3\\lib\\site-packages (from trio~=0.17->selenium) (3.4)\n",
      "Requirement already satisfied: outcome in c:\\users\\pc\\anaconda3\\lib\\site-packages (from trio~=0.17->selenium) (1.3.0.post0)\n",
      "Requirement already satisfied: sniffio>=1.3.0 in c:\\users\\pc\\anaconda3\\lib\\site-packages (from trio~=0.17->selenium) (1.3.1)\n",
      "Requirement already satisfied: cffi>=1.14 in c:\\users\\pc\\anaconda3\\lib\\site-packages (from trio~=0.17->selenium) (1.15.1)\n",
      "Requirement already satisfied: wsproto>=0.14 in c:\\users\\pc\\anaconda3\\lib\\site-packages (from trio-websocket~=0.9->selenium) (1.2.0)\n",
      "Requirement already satisfied: PySocks!=1.5.7,<2.0,>=1.5.6 in c:\\users\\pc\\anaconda3\\lib\\site-packages (from urllib3[socks]<3,>=1.26->selenium) (1.7.1)\n",
      "Requirement already satisfied: pycparser in c:\\users\\pc\\anaconda3\\lib\\site-packages (from cffi>=1.14->trio~=0.17->selenium) (2.21)\n",
      "Requirement already satisfied: h11<1,>=0.9.0 in c:\\users\\pc\\anaconda3\\lib\\site-packages (from wsproto>=0.14->trio-websocket~=0.9->selenium) (0.14.0)\n"
     ]
    }
   ],
   "source": [
    "!pip install selenium"
   ]
  },
  {
   "cell_type": "code",
   "execution_count": 2,
   "id": "6201d63e",
   "metadata": {},
   "outputs": [],
   "source": [
    "import selenium \n",
    "from selenium import webdriver\n",
    "from selenium.webdriver.common.by import By\n",
    "import pandas as pd\n",
    "from selenium.common.exceptions import NoSuchElementException\n",
    "from selenium.common.exceptions import StaleElementReferenceException\n",
    "from selenium.webdriver.support.ui import WebDriverWait\n",
    "from selenium.webdriver.support import expected_conditions as EC\n",
    "import requests\n",
    "import warnings\n",
    "warnings.filterwarnings ('ignore')\n",
    "import time"
   ]
  },
  {
   "cell_type": "markdown",
   "id": "ff721b1c",
   "metadata": {},
   "source": [
    "1. Write a python program which searches all the product under a particular product from www.amazon.in. The product to be searched will be taken as input from user. For e.g. If user input is ‘guitar’. Then search for guitars."
   ]
  },
  {
   "cell_type": "code",
   "execution_count": 3,
   "id": "20c2e069",
   "metadata": {},
   "outputs": [
    {
     "name": "stdout",
     "output_type": "stream",
     "text": [
      "Enter item: Guitars\n"
     ]
    }
   ],
   "source": [
    "user = input('Enter item: ')"
   ]
  },
  {
   "cell_type": "markdown",
   "id": "b96dc7d1",
   "metadata": {},
   "source": [
    "2. In the above question, now scrape the following details of each product listed in first 3 pages of your search results and save it in a data frame and csv. In case if any product has less than 3 pages in search results then scrape all the products available under that product name. Details to be scraped are: \"Brand\n",
    "Name\", \"Name of the Product\", \"Price\", \"Return/Exchange\", \"Expected Delivery\", \"Availability\" and\n",
    "“Product URL”. In case, if any of the details are missing for any of the product then replace it by “-“."
   ]
  },
  {
   "cell_type": "code",
   "execution_count": 4,
   "id": "45e7f917",
   "metadata": {},
   "outputs": [],
   "source": [
    "driver=webdriver.Chrome()"
   ]
  },
  {
   "cell_type": "code",
   "execution_count": 5,
   "id": "65d1b1d7",
   "metadata": {},
   "outputs": [],
   "source": [
    "driver.get('https://www.amazon.in/')"
   ]
  },
  {
   "cell_type": "code",
   "execution_count": 6,
   "id": "faf7ced0",
   "metadata": {},
   "outputs": [],
   "source": [
    "designation=driver.find_element(By.XPATH,'/html/body/div[1]/header/div/div[1]/div[2]/div/form/div[2]/div[1]/input')\n",
    "designation.send_keys('guitars')"
   ]
  },
  {
   "cell_type": "code",
   "execution_count": 7,
   "id": "03f6085c",
   "metadata": {},
   "outputs": [],
   "source": [
    "search_button=driver.find_element(By.XPATH,'/html/body/div[1]/header/div/div[1]/div[2]/div/form/div[3]/div/span/input')\n",
    "search_button.click()"
   ]
  },
  {
   "cell_type": "code",
   "execution_count": 8,
   "id": "7c28ec48",
   "metadata": {},
   "outputs": [],
   "source": [
    "product_url=[]\n",
    "start = 0\n",
    "end = 3\n",
    "\n",
    "for page in range(start,end):\n",
    "    url=driver.find_elements(By.XPATH,'//a[@class=\"a-link-normal s-underline-text s-underline-link-text s-link-style a-text-normal\"]')\n",
    "    for i in url:\n",
    "        product_url.append(i.get_attribute('href'))\n",
    "    next_page=driver.find_elements(By.XPATH,'/html/body/div[1]/div[1]/div[1]/div[1]/div/span[1]/div[1]/div[67]/div/div/span/a[3]' )\n",
    "    time.sleep(3)"
   ]
  },
  {
   "cell_type": "code",
   "execution_count": 9,
   "id": "d9f17768",
   "metadata": {},
   "outputs": [
    {
     "data": {
      "text/plain": [
       "183"
      ]
     },
     "execution_count": 9,
     "metadata": {},
     "output_type": "execute_result"
    }
   ],
   "source": [
    "len(product_url)"
   ]
  },
  {
   "cell_type": "code",
   "execution_count": 10,
   "id": "4f47f7f4",
   "metadata": {},
   "outputs": [
    {
     "data": {
      "text/plain": [
       "['https://www.amazon.in/sspa/click?ie=UTF8&spc=MToyNzE4Mzk3MDg0ODQ0MTE3OjE3MTQxODMwNTQ6c3BfYXRmOjMwMDE1NTQ4NDMyMzgzMjo6MDo6&url=%2FMedellin-Acoustic-Guitar-learning-course%2Fdp%2FB0CGRX6ZMF%2Fref%3Dsr_1_1_sspa%3Fcrid%3DZHTUQUYV52AT%26dib%3DeyJ2IjoiMSJ9.Y1UxTEOx24iAUysPbVbJ2YwwrqWm2xZqTl7W4yWOzDKhKueS755oeD551GNy1OU2rn6RnVG5k26W8bMZy29yELEmq_QwQ6AAwZFU0BRfQ80T7aiHqQobn4Nybe5o6ceWpVdVY5EVnUe2FWZQ0DXHfGCfdHnz13aLOtLN-6rLVNUYJJcIVVmqzid9yX_1AMAAICrnvV3p1gA30TxSw-DHFhII0K4p1ei1cDGjAcLq960aQTHgLu_zX4SPXlMq8AywJEPNxovFzcJjXMAqI9HSpCuttCEh4z_mwH8MxU-0B54.RYi2dFN3mw5jBagRSpWCJcFaua419Tln2ssUD3voils%26dib_tag%3Dse%26keywords%3Dguitars%26qid%3D1714183054%26sprefix%3Dguitars%252Caps%252C263%26sr%3D8-1-spons%26sp_csd%3Dd2lkZ2V0TmFtZT1zcF9hdGY%26psc%3D1',\n",
       " 'https://www.amazon.in/sspa/click?ie=UTF8&spc=MToyNzE4Mzk3MDg0ODQ0MTE3OjE3MTQxODMwNTQ6c3BfYXRmOjMwMDAxNTUzNzk3OTIzMjo6MDo6&url=%2FKadence-Frontier-Acoustic-Guitar-Strings%2Fdp%2FB078GTJP5Y%2Fref%3Dsr_1_2_sspa%3Fcrid%3DZHTUQUYV52AT%26dib%3DeyJ2IjoiMSJ9.Y1UxTEOx24iAUysPbVbJ2YwwrqWm2xZqTl7W4yWOzDKhKueS755oeD551GNy1OU2rn6RnVG5k26W8bMZy29yELEmq_QwQ6AAwZFU0BRfQ80T7aiHqQobn4Nybe5o6ceWpVdVY5EVnUe2FWZQ0DXHfGCfdHnz13aLOtLN-6rLVNUYJJcIVVmqzid9yX_1AMAAICrnvV3p1gA30TxSw-DHFhII0K4p1ei1cDGjAcLq960aQTHgLu_zX4SPXlMq8AywJEPNxovFzcJjXMAqI9HSpCuttCEh4z_mwH8MxU-0B54.RYi2dFN3mw5jBagRSpWCJcFaua419Tln2ssUD3voils%26dib_tag%3Dse%26keywords%3Dguitars%26qid%3D1714183054%26sprefix%3Dguitars%252Caps%252C263%26sr%3D8-2-spons%26sp_csd%3Dd2lkZ2V0TmFtZT1zcF9hdGY%26psc%3D1',\n",
       " 'https://www.amazon.in/sspa/click?ie=UTF8&spc=MToyNzE4Mzk3MDg0ODQ0MTE3OjE3MTQxODMwNTQ6c3BfYXRmOjIwMDk2NjA4NzUwNDk4OjowOjo&url=%2FKadence-Frontier-Acoustic-Guitar-Strings%2Fdp%2FB01GDZ46AA%2Fref%3Dsr_1_3_sspa%3Fcrid%3DZHTUQUYV52AT%26dib%3DeyJ2IjoiMSJ9.Y1UxTEOx24iAUysPbVbJ2YwwrqWm2xZqTl7W4yWOzDKhKueS755oeD551GNy1OU2rn6RnVG5k26W8bMZy29yELEmq_QwQ6AAwZFU0BRfQ80T7aiHqQobn4Nybe5o6ceWpVdVY5EVnUe2FWZQ0DXHfGCfdHnz13aLOtLN-6rLVNUYJJcIVVmqzid9yX_1AMAAICrnvV3p1gA30TxSw-DHFhII0K4p1ei1cDGjAcLq960aQTHgLu_zX4SPXlMq8AywJEPNxovFzcJjXMAqI9HSpCuttCEh4z_mwH8MxU-0B54.RYi2dFN3mw5jBagRSpWCJcFaua419Tln2ssUD3voils%26dib_tag%3Dse%26keywords%3Dguitars%26qid%3D1714183054%26sprefix%3Dguitars%252Caps%252C263%26sr%3D8-3-spons%26sp_csd%3Dd2lkZ2V0TmFtZT1zcF9hdGY%26psc%3D1',\n",
       " 'https://www.amazon.in/sspa/click?ie=UTF8&spc=MToyNzE4Mzk3MDg0ODQ0MTE3OjE3MTQxODMwNTQ6c3BfYXRmOjMwMDE1NTQ4NDMyMzczMjo6MDo6&url=%2FMedellin-Acoustic-Guitar-learning-Strings%2Fdp%2FB0CCNSN6S4%2Fref%3Dsr_1_4_sspa%3Fcrid%3DZHTUQUYV52AT%26dib%3DeyJ2IjoiMSJ9.Y1UxTEOx24iAUysPbVbJ2YwwrqWm2xZqTl7W4yWOzDKhKueS755oeD551GNy1OU2rn6RnVG5k26W8bMZy29yELEmq_QwQ6AAwZFU0BRfQ80T7aiHqQobn4Nybe5o6ceWpVdVY5EVnUe2FWZQ0DXHfGCfdHnz13aLOtLN-6rLVNUYJJcIVVmqzid9yX_1AMAAICrnvV3p1gA30TxSw-DHFhII0K4p1ei1cDGjAcLq960aQTHgLu_zX4SPXlMq8AywJEPNxovFzcJjXMAqI9HSpCuttCEh4z_mwH8MxU-0B54.RYi2dFN3mw5jBagRSpWCJcFaua419Tln2ssUD3voils%26dib_tag%3Dse%26keywords%3Dguitars%26qid%3D1714183054%26sprefix%3Dguitars%252Caps%252C263%26sr%3D8-4-spons%26sp_csd%3Dd2lkZ2V0TmFtZT1zcF9hdGY%26psc%3D1',\n",
       " 'https://www.amazon.in/Ju%C3%A2rez-Acoustic-Guitar-Cutaway-Strings/dp/B0BCQNLXVM/ref=sr_1_5?crid=ZHTUQUYV52AT&dib=eyJ2IjoiMSJ9.Y1UxTEOx24iAUysPbVbJ2YwwrqWm2xZqTl7W4yWOzDKhKueS755oeD551GNy1OU2rn6RnVG5k26W8bMZy29yELEmq_QwQ6AAwZFU0BRfQ80T7aiHqQobn4Nybe5o6ceWpVdVY5EVnUe2FWZQ0DXHfGCfdHnz13aLOtLN-6rLVNUYJJcIVVmqzid9yX_1AMAAICrnvV3p1gA30TxSw-DHFhII0K4p1ei1cDGjAcLq960aQTHgLu_zX4SPXlMq8AywJEPNxovFzcJjXMAqI9HSpCuttCEh4z_mwH8MxU-0B54.RYi2dFN3mw5jBagRSpWCJcFaua419Tln2ssUD3voils&dib_tag=se&keywords=guitars&qid=1714183054&sprefix=guitars%2Caps%2C263&sr=8-5',\n",
       " 'https://www.amazon.in/Juarez-Acoustic-Cutaway-038C-Strings/dp/B017NPCSLI/ref=sr_1_6?crid=ZHTUQUYV52AT&dib=eyJ2IjoiMSJ9.Y1UxTEOx24iAUysPbVbJ2YwwrqWm2xZqTl7W4yWOzDKhKueS755oeD551GNy1OU2rn6RnVG5k26W8bMZy29yELEmq_QwQ6AAwZFU0BRfQ80T7aiHqQobn4Nybe5o6ceWpVdVY5EVnUe2FWZQ0DXHfGCfdHnz13aLOtLN-6rLVNUYJJcIVVmqzid9yX_1AMAAICrnvV3p1gA30TxSw-DHFhII0K4p1ei1cDGjAcLq960aQTHgLu_zX4SPXlMq8AywJEPNxovFzcJjXMAqI9HSpCuttCEh4z_mwH8MxU-0B54.RYi2dFN3mw5jBagRSpWCJcFaua419Tln2ssUD3voils&dib_tag=se&keywords=guitars&qid=1714183054&sprefix=guitars%2Caps%2C263&sr=8-6',\n",
       " 'https://www.amazon.in/Intern-INT-38C-Acoustic-Guitar-Black/dp/B073B6TQQY/ref=sr_1_7?crid=ZHTUQUYV52AT&dib=eyJ2IjoiMSJ9.Y1UxTEOx24iAUysPbVbJ2YwwrqWm2xZqTl7W4yWOzDKhKueS755oeD551GNy1OU2rn6RnVG5k26W8bMZy29yELEmq_QwQ6AAwZFU0BRfQ80T7aiHqQobn4Nybe5o6ceWpVdVY5EVnUe2FWZQ0DXHfGCfdHnz13aLOtLN-6rLVNUYJJcIVVmqzid9yX_1AMAAICrnvV3p1gA30TxSw-DHFhII0K4p1ei1cDGjAcLq960aQTHgLu_zX4SPXlMq8AywJEPNxovFzcJjXMAqI9HSpCuttCEh4z_mwH8MxU-0B54.RYi2dFN3mw5jBagRSpWCJcFaua419Tln2ssUD3voils&dib_tag=se&keywords=guitars&qid=1714183054&sprefix=guitars%2Caps%2C263&sr=8-7',\n",
       " 'https://www.amazon.in/Acoustic-Cutaway-RDS-Strings-Sunburst/dp/B076QGY91P/ref=sr_1_8?crid=ZHTUQUYV52AT&dib=eyJ2IjoiMSJ9.Y1UxTEOx24iAUysPbVbJ2YwwrqWm2xZqTl7W4yWOzDKhKueS755oeD551GNy1OU2rn6RnVG5k26W8bMZy29yELEmq_QwQ6AAwZFU0BRfQ80T7aiHqQobn4Nybe5o6ceWpVdVY5EVnUe2FWZQ0DXHfGCfdHnz13aLOtLN-6rLVNUYJJcIVVmqzid9yX_1AMAAICrnvV3p1gA30TxSw-DHFhII0K4p1ei1cDGjAcLq960aQTHgLu_zX4SPXlMq8AywJEPNxovFzcJjXMAqI9HSpCuttCEh4z_mwH8MxU-0B54.RYi2dFN3mw5jBagRSpWCJcFaua419Tln2ssUD3voils&dib_tag=se&keywords=guitars&qid=1714183054&sprefix=guitars%2Caps%2C263&sr=8-8',\n",
       " 'https://www.amazon.in/Medellin-Acoustic-Guitar-learning-course/dp/B0CGRX6ZMF/ref=sr_1_9?crid=ZHTUQUYV52AT&dib=eyJ2IjoiMSJ9.Y1UxTEOx24iAUysPbVbJ2YwwrqWm2xZqTl7W4yWOzDKhKueS755oeD551GNy1OU2rn6RnVG5k26W8bMZy29yELEmq_QwQ6AAwZFU0BRfQ80T7aiHqQobn4Nybe5o6ceWpVdVY5EVnUe2FWZQ0DXHfGCfdHnz13aLOtLN-6rLVNUYJJcIVVmqzid9yX_1AMAAICrnvV3p1gA30TxSw-DHFhII0K4p1ei1cDGjAcLq960aQTHgLu_zX4SPXlMq8AywJEPNxovFzcJjXMAqI9HSpCuttCEh4z_mwH8MxU-0B54.RYi2dFN3mw5jBagRSpWCJcFaua419Tln2ssUD3voils&dib_tag=se&keywords=guitars&qid=1714183054&sprefix=guitars%2Caps%2C263&sr=8-9',\n",
       " 'https://www.amazon.in/Ju%C3%A2rez-JRZ38C-WH-Strings-Acoustic/dp/B072MFK4L6/ref=sr_1_10?crid=ZHTUQUYV52AT&dib=eyJ2IjoiMSJ9.Y1UxTEOx24iAUysPbVbJ2YwwrqWm2xZqTl7W4yWOzDKhKueS755oeD551GNy1OU2rn6RnVG5k26W8bMZy29yELEmq_QwQ6AAwZFU0BRfQ80T7aiHqQobn4Nybe5o6ceWpVdVY5EVnUe2FWZQ0DXHfGCfdHnz13aLOtLN-6rLVNUYJJcIVVmqzid9yX_1AMAAICrnvV3p1gA30TxSw-DHFhII0K4p1ei1cDGjAcLq960aQTHgLu_zX4SPXlMq8AywJEPNxovFzcJjXMAqI9HSpCuttCEh4z_mwH8MxU-0B54.RYi2dFN3mw5jBagRSpWCJcFaua419Tln2ssUD3voils&dib_tag=se&keywords=guitars&qid=1714183054&sprefix=guitars%2Caps%2C263&sr=8-10',\n",
       " 'https://www.amazon.in/JUAREZ-JRZ38C-Acoustic-Sunburst-Strings/dp/B01FYYTDS6/ref=sr_1_11?crid=ZHTUQUYV52AT&dib=eyJ2IjoiMSJ9.Y1UxTEOx24iAUysPbVbJ2YwwrqWm2xZqTl7W4yWOzDKhKueS755oeD551GNy1OU2rn6RnVG5k26W8bMZy29yELEmq_QwQ6AAwZFU0BRfQ80T7aiHqQobn4Nybe5o6ceWpVdVY5EVnUe2FWZQ0DXHfGCfdHnz13aLOtLN-6rLVNUYJJcIVVmqzid9yX_1AMAAICrnvV3p1gA30TxSw-DHFhII0K4p1ei1cDGjAcLq960aQTHgLu_zX4SPXlMq8AywJEPNxovFzcJjXMAqI9HSpCuttCEh4z_mwH8MxU-0B54.RYi2dFN3mw5jBagRSpWCJcFaua419Tln2ssUD3voils&dib_tag=se&keywords=guitars&qid=1714183054&sprefix=guitars%2Caps%2C263&sr=8-11',\n",
       " 'https://www.amazon.in/Yamaha-F280-Acoustic-Guitar-Natural/dp/B08317Y4VP/ref=sr_1_12?crid=ZHTUQUYV52AT&dib=eyJ2IjoiMSJ9.Y1UxTEOx24iAUysPbVbJ2YwwrqWm2xZqTl7W4yWOzDKhKueS755oeD551GNy1OU2rn6RnVG5k26W8bMZy29yELEmq_QwQ6AAwZFU0BRfQ80T7aiHqQobn4Nybe5o6ceWpVdVY5EVnUe2FWZQ0DXHfGCfdHnz13aLOtLN-6rLVNUYJJcIVVmqzid9yX_1AMAAICrnvV3p1gA30TxSw-DHFhII0K4p1ei1cDGjAcLq960aQTHgLu_zX4SPXlMq8AywJEPNxovFzcJjXMAqI9HSpCuttCEh4z_mwH8MxU-0B54.RYi2dFN3mw5jBagRSpWCJcFaua419Tln2ssUD3voils&dib_tag=se&keywords=guitars&qid=1714183054&sprefix=guitars%2Caps%2C263&sr=8-12',\n",
       " 'https://www.amazon.in/JUAREZ-JRZ38C-Acoustic-Sunburst-Strings/dp/B01FYYTDTU/ref=sr_1_13?crid=ZHTUQUYV52AT&dib=eyJ2IjoiMSJ9.Y1UxTEOx24iAUysPbVbJ2YwwrqWm2xZqTl7W4yWOzDKhKueS755oeD551GNy1OU2rn6RnVG5k26W8bMZy29yELEmq_QwQ6AAwZFU0BRfQ80T7aiHqQobn4Nybe5o6ceWpVdVY5EVnUe2FWZQ0DXHfGCfdHnz13aLOtLN-6rLVNUYJJcIVVmqzid9yX_1AMAAICrnvV3p1gA30TxSw-DHFhII0K4p1ei1cDGjAcLq960aQTHgLu_zX4SPXlMq8AywJEPNxovFzcJjXMAqI9HSpCuttCEh4z_mwH8MxU-0B54.RYi2dFN3mw5jBagRSpWCJcFaua419Tln2ssUD3voils&dib_tag=se&keywords=guitars&qid=1714183054&sprefix=guitars%2Caps%2C263&sr=8-13',\n",
       " 'https://www.amazon.in/Kadence-Frontier-Acoustic-Guitar-Strings/dp/B078GTJP5Y/ref=sr_1_14?crid=ZHTUQUYV52AT&dib=eyJ2IjoiMSJ9.Y1UxTEOx24iAUysPbVbJ2YwwrqWm2xZqTl7W4yWOzDKhKueS755oeD551GNy1OU2rn6RnVG5k26W8bMZy29yELEmq_QwQ6AAwZFU0BRfQ80T7aiHqQobn4Nybe5o6ceWpVdVY5EVnUe2FWZQ0DXHfGCfdHnz13aLOtLN-6rLVNUYJJcIVVmqzid9yX_1AMAAICrnvV3p1gA30TxSw-DHFhII0K4p1ei1cDGjAcLq960aQTHgLu_zX4SPXlMq8AywJEPNxovFzcJjXMAqI9HSpCuttCEh4z_mwH8MxU-0B54.RYi2dFN3mw5jBagRSpWCJcFaua419Tln2ssUD3voils&dib_tag=se&keywords=guitars&qid=1714183054&sprefix=guitars%2Caps%2C263&sr=8-14',\n",
       " 'https://www.amazon.in/Acoustic-Strings-Rosette-Rosewood-Fretboard/dp/B09FPQX7RN/ref=sr_1_15?crid=ZHTUQUYV52AT&dib=eyJ2IjoiMSJ9.Y1UxTEOx24iAUysPbVbJ2YwwrqWm2xZqTl7W4yWOzDKhKueS755oeD551GNy1OU2rn6RnVG5k26W8bMZy29yELEmq_QwQ6AAwZFU0BRfQ80T7aiHqQobn4Nybe5o6ceWpVdVY5EVnUe2FWZQ0DXHfGCfdHnz13aLOtLN-6rLVNUYJJcIVVmqzid9yX_1AMAAICrnvV3p1gA30TxSw-DHFhII0K4p1ei1cDGjAcLq960aQTHgLu_zX4SPXlMq8AywJEPNxovFzcJjXMAqI9HSpCuttCEh4z_mwH8MxU-0B54.RYi2dFN3mw5jBagRSpWCJcFaua419Tln2ssUD3voils&dib_tag=se&keywords=guitars&qid=1714183054&sprefix=guitars%2Caps%2C263&sr=8-15',\n",
       " 'https://www.amazon.in/Henrix-Acoustic-Guitar-Die-cast-Dual-action/dp/B07VNDW6QF/ref=sr_1_16?crid=ZHTUQUYV52AT&dib=eyJ2IjoiMSJ9.Y1UxTEOx24iAUysPbVbJ2YwwrqWm2xZqTl7W4yWOzDKhKueS755oeD551GNy1OU2rn6RnVG5k26W8bMZy29yELEmq_QwQ6AAwZFU0BRfQ80T7aiHqQobn4Nybe5o6ceWpVdVY5EVnUe2FWZQ0DXHfGCfdHnz13aLOtLN-6rLVNUYJJcIVVmqzid9yX_1AMAAICrnvV3p1gA30TxSw-DHFhII0K4p1ei1cDGjAcLq960aQTHgLu_zX4SPXlMq8AywJEPNxovFzcJjXMAqI9HSpCuttCEh4z_mwH8MxU-0B54.RYi2dFN3mw5jBagRSpWCJcFaua419Tln2ssUD3voils&dib_tag=se&keywords=guitars&qid=1714183054&sprefix=guitars%2Caps%2C263&sr=8-16',\n",
       " 'https://www.amazon.in/Yamaha-FSX80C-Acoustic-Cutaway-Natural/dp/B09HL3GFZF/ref=sr_1_17?crid=ZHTUQUYV52AT&dib=eyJ2IjoiMSJ9.Y1UxTEOx24iAUysPbVbJ2YwwrqWm2xZqTl7W4yWOzDKhKueS755oeD551GNy1OU2rn6RnVG5k26W8bMZy29yELEmq_QwQ6AAwZFU0BRfQ80T7aiHqQobn4Nybe5o6ceWpVdVY5EVnUe2FWZQ0DXHfGCfdHnz13aLOtLN-6rLVNUYJJcIVVmqzid9yX_1AMAAICrnvV3p1gA30TxSw-DHFhII0K4p1ei1cDGjAcLq960aQTHgLu_zX4SPXlMq8AywJEPNxovFzcJjXMAqI9HSpCuttCEh4z_mwH8MxU-0B54.RYi2dFN3mw5jBagRSpWCJcFaua419Tln2ssUD3voils&dib_tag=se&keywords=guitars&qid=1714183054&sprefix=guitars%2Caps%2C263&sr=8-17',\n",
       " 'https://www.amazon.in/JRZ38C-VTS-Strings-Acoustic-Cutaway/dp/B072MFLQC9/ref=sr_1_18?crid=ZHTUQUYV52AT&dib=eyJ2IjoiMSJ9.Y1UxTEOx24iAUysPbVbJ2YwwrqWm2xZqTl7W4yWOzDKhKueS755oeD551GNy1OU2rn6RnVG5k26W8bMZy29yELEmq_QwQ6AAwZFU0BRfQ80T7aiHqQobn4Nybe5o6ceWpVdVY5EVnUe2FWZQ0DXHfGCfdHnz13aLOtLN-6rLVNUYJJcIVVmqzid9yX_1AMAAICrnvV3p1gA30TxSw-DHFhII0K4p1ei1cDGjAcLq960aQTHgLu_zX4SPXlMq8AywJEPNxovFzcJjXMAqI9HSpCuttCEh4z_mwH8MxU-0B54.RYi2dFN3mw5jBagRSpWCJcFaua419Tln2ssUD3voils&dib_tag=se&keywords=guitars&qid=1714183054&sprefix=guitars%2Caps%2C263&sr=8-18',\n",
       " 'https://www.amazon.in/Intern-Acoustic-Steel-string-plectrums-INT-38C-WH/dp/B09LR94Z2X/ref=sr_1_19?crid=ZHTUQUYV52AT&dib=eyJ2IjoiMSJ9.Y1UxTEOx24iAUysPbVbJ2YwwrqWm2xZqTl7W4yWOzDKhKueS755oeD551GNy1OU2rn6RnVG5k26W8bMZy29yELEmq_QwQ6AAwZFU0BRfQ80T7aiHqQobn4Nybe5o6ceWpVdVY5EVnUe2FWZQ0DXHfGCfdHnz13aLOtLN-6rLVNUYJJcIVVmqzid9yX_1AMAAICrnvV3p1gA30TxSw-DHFhII0K4p1ei1cDGjAcLq960aQTHgLu_zX4SPXlMq8AywJEPNxovFzcJjXMAqI9HSpCuttCEh4z_mwH8MxU-0B54.RYi2dFN3mw5jBagRSpWCJcFaua419Tln2ssUD3voils&dib_tag=se&keywords=guitars&qid=1714183054&sprefix=guitars%2Caps%2C263&sr=8-19',\n",
       " 'https://www.amazon.in/JUAREZ-JRZ38C-TBLSNA/dp/B0BCQKQ6CS/ref=sr_1_20?crid=ZHTUQUYV52AT&dib=eyJ2IjoiMSJ9.Y1UxTEOx24iAUysPbVbJ2YwwrqWm2xZqTl7W4yWOzDKhKueS755oeD551GNy1OU2rn6RnVG5k26W8bMZy29yELEmq_QwQ6AAwZFU0BRfQ80T7aiHqQobn4Nybe5o6ceWpVdVY5EVnUe2FWZQ0DXHfGCfdHnz13aLOtLN-6rLVNUYJJcIVVmqzid9yX_1AMAAICrnvV3p1gA30TxSw-DHFhII0K4p1ei1cDGjAcLq960aQTHgLu_zX4SPXlMq8AywJEPNxovFzcJjXMAqI9HSpCuttCEh4z_mwH8MxU-0B54.RYi2dFN3mw5jBagRSpWCJcFaua419Tln2ssUD3voils&dib_tag=se&keywords=guitars&qid=1714183054&sprefix=guitars%2Caps%2C263&sr=8-20',\n",
       " 'https://www.amazon.in/sspa/click?ie=UTF8&spc=MToyNzE4Mzk3MDg0ODQ0MTE3OjE3MTQxODMwNTQ6c3BfbXRmOjMwMDE1NTQ4NDMyMzYzMjo6MDo6&url=%2FMedellin-Acoustic-Guitar-learning-Strings%2Fdp%2FB0CCNSN9BV%2Fref%3Dsr_1_21_sspa%3Fcrid%3DZHTUQUYV52AT%26dib%3DeyJ2IjoiMSJ9.Y1UxTEOx24iAUysPbVbJ2YwwrqWm2xZqTl7W4yWOzDKhKueS755oeD551GNy1OU2rn6RnVG5k26W8bMZy29yELEmq_QwQ6AAwZFU0BRfQ80T7aiHqQobn4Nybe5o6ceWpVdVY5EVnUe2FWZQ0DXHfGCfdHnz13aLOtLN-6rLVNUYJJcIVVmqzid9yX_1AMAAICrnvV3p1gA30TxSw-DHFhII0K4p1ei1cDGjAcLq960aQTHgLu_zX4SPXlMq8AywJEPNxovFzcJjXMAqI9HSpCuttCEh4z_mwH8MxU-0B54.RYi2dFN3mw5jBagRSpWCJcFaua419Tln2ssUD3voils%26dib_tag%3Dse%26keywords%3Dguitars%26qid%3D1714183054%26sprefix%3Dguitars%252Caps%252C263%26sr%3D8-21-spons%26sp_csd%3Dd2lkZ2V0TmFtZT1zcF9tdGY%26psc%3D1',\n",
       " 'https://www.amazon.in/sspa/click?ie=UTF8&spc=MToyNzE4Mzk3MDg0ODQ0MTE3OjE3MTQxODMwNTQ6c3BfbXRmOjIwMDg4NDY1OTA5NDA0OjowOjo&url=%2FHenrix-Cutaway-Acoustic-Die-Cast-Tuners%2Fdp%2FB07KMXDXBV%2Fref%3Dsr_1_22_sspa%3Fcrid%3DZHTUQUYV52AT%26dib%3DeyJ2IjoiMSJ9.Y1UxTEOx24iAUysPbVbJ2YwwrqWm2xZqTl7W4yWOzDKhKueS755oeD551GNy1OU2rn6RnVG5k26W8bMZy29yELEmq_QwQ6AAwZFU0BRfQ80T7aiHqQobn4Nybe5o6ceWpVdVY5EVnUe2FWZQ0DXHfGCfdHnz13aLOtLN-6rLVNUYJJcIVVmqzid9yX_1AMAAICrnvV3p1gA30TxSw-DHFhII0K4p1ei1cDGjAcLq960aQTHgLu_zX4SPXlMq8AywJEPNxovFzcJjXMAqI9HSpCuttCEh4z_mwH8MxU-0B54.RYi2dFN3mw5jBagRSpWCJcFaua419Tln2ssUD3voils%26dib_tag%3Dse%26keywords%3Dguitars%26qid%3D1714183054%26sprefix%3Dguitars%252Caps%252C263%26sr%3D8-22-spons%26sp_csd%3Dd2lkZ2V0TmFtZT1zcF9tdGY%26psc%3D1',\n",
       " 'https://www.amazon.in/sspa/click?ie=UTF8&spc=MToyNzE4Mzk3MDg0ODQ0MTE3OjE3MTQxODMwNTQ6c3BfbXRmOjIwMTAzNTI4NjU2Nzk4OjowOjo&url=%2FBlueberry-Acoustic-Inbuilt-Strings-Classic%2Fdp%2FB09VLF7G2D%2Fref%3Dsr_1_23_sspa%3Fcrid%3DZHTUQUYV52AT%26dib%3DeyJ2IjoiMSJ9.Y1UxTEOx24iAUysPbVbJ2YwwrqWm2xZqTl7W4yWOzDKhKueS755oeD551GNy1OU2rn6RnVG5k26W8bMZy29yELEmq_QwQ6AAwZFU0BRfQ80T7aiHqQobn4Nybe5o6ceWpVdVY5EVnUe2FWZQ0DXHfGCfdHnz13aLOtLN-6rLVNUYJJcIVVmqzid9yX_1AMAAICrnvV3p1gA30TxSw-DHFhII0K4p1ei1cDGjAcLq960aQTHgLu_zX4SPXlMq8AywJEPNxovFzcJjXMAqI9HSpCuttCEh4z_mwH8MxU-0B54.RYi2dFN3mw5jBagRSpWCJcFaua419Tln2ssUD3voils%26dib_tag%3Dse%26keywords%3Dguitars%26qid%3D1714183054%26sprefix%3Dguitars%252Caps%252C263%26sr%3D8-23-spons%26sp_csd%3Dd2lkZ2V0TmFtZT1zcF9tdGY%26psc%3D1',\n",
       " 'https://www.amazon.in/sspa/click?ie=UTF8&spc=MToyNzE4Mzk3MDg0ODQ0MTE3OjE3MTQxODMwNTQ6c3BfbXRmOjMwMDE0MTgzMjcwNjkzMjo6MDo6&url=%2FRichtone-B239C-Natural-cutaway-Acoustic%2Fdp%2FB0CNW9RZ9D%2Fref%3Dsr_1_24_sspa%3Fcrid%3DZHTUQUYV52AT%26dib%3DeyJ2IjoiMSJ9.Y1UxTEOx24iAUysPbVbJ2YwwrqWm2xZqTl7W4yWOzDKhKueS755oeD551GNy1OU2rn6RnVG5k26W8bMZy29yELEmq_QwQ6AAwZFU0BRfQ80T7aiHqQobn4Nybe5o6ceWpVdVY5EVnUe2FWZQ0DXHfGCfdHnz13aLOtLN-6rLVNUYJJcIVVmqzid9yX_1AMAAICrnvV3p1gA30TxSw-DHFhII0K4p1ei1cDGjAcLq960aQTHgLu_zX4SPXlMq8AywJEPNxovFzcJjXMAqI9HSpCuttCEh4z_mwH8MxU-0B54.RYi2dFN3mw5jBagRSpWCJcFaua419Tln2ssUD3voils%26dib_tag%3Dse%26keywords%3Dguitars%26qid%3D1714183054%26sprefix%3Dguitars%252Caps%252C263%26sr%3D8-24-spons%26sp_csd%3Dd2lkZ2V0TmFtZT1zcF9tdGY%26psc%3D1',\n",
       " 'https://www.amazon.in/JUAREZ-JRZ38C-Acoustic-Natural-Strings/dp/B01FYYTDWC/ref=sr_1_25?crid=ZHTUQUYV52AT&dib=eyJ2IjoiMSJ9.Y1UxTEOx24iAUysPbVbJ2YwwrqWm2xZqTl7W4yWOzDKhKueS755oeD551GNy1OU2rn6RnVG5k26W8bMZy29yELEmq_QwQ6AAwZFU0BRfQ80T7aiHqQobn4Nybe5o6ceWpVdVY5EVnUe2FWZQ0DXHfGCfdHnz13aLOtLN-6rLVNUYJJcIVVmqzid9yX_1AMAAICrnvV3p1gA30TxSw-DHFhII0K4p1ei1cDGjAcLq960aQTHgLu_zX4SPXlMq8AywJEPNxovFzcJjXMAqI9HSpCuttCEh4z_mwH8MxU-0B54.RYi2dFN3mw5jBagRSpWCJcFaua419Tln2ssUD3voils&dib_tag=se&keywords=guitars&qid=1714183054&sprefix=guitars%2Caps%2C263&sr=8-25',\n",
       " 'https://www.amazon.in/JUAREZ-JRZ38C-Handed-Acoustic-Strings/dp/B01FYYTDX6/ref=sr_1_26?crid=ZHTUQUYV52AT&dib=eyJ2IjoiMSJ9.Y1UxTEOx24iAUysPbVbJ2YwwrqWm2xZqTl7W4yWOzDKhKueS755oeD551GNy1OU2rn6RnVG5k26W8bMZy29yELEmq_QwQ6AAwZFU0BRfQ80T7aiHqQobn4Nybe5o6ceWpVdVY5EVnUe2FWZQ0DXHfGCfdHnz13aLOtLN-6rLVNUYJJcIVVmqzid9yX_1AMAAICrnvV3p1gA30TxSw-DHFhII0K4p1ei1cDGjAcLq960aQTHgLu_zX4SPXlMq8AywJEPNxovFzcJjXMAqI9HSpCuttCEh4z_mwH8MxU-0B54.RYi2dFN3mw5jBagRSpWCJcFaua419Tln2ssUD3voils&dib_tag=se&keywords=guitars&qid=1714183054&sprefix=guitars%2Caps%2C263&sr=8-26',\n",
       " 'https://www.amazon.in/Juarez-Strings-Acoustic-Cutaway-Zebrawood/dp/B072Q9L8DG/ref=sr_1_27?crid=ZHTUQUYV52AT&dib=eyJ2IjoiMSJ9.Y1UxTEOx24iAUysPbVbJ2YwwrqWm2xZqTl7W4yWOzDKhKueS755oeD551GNy1OU2rn6RnVG5k26W8bMZy29yELEmq_QwQ6AAwZFU0BRfQ80T7aiHqQobn4Nybe5o6ceWpVdVY5EVnUe2FWZQ0DXHfGCfdHnz13aLOtLN-6rLVNUYJJcIVVmqzid9yX_1AMAAICrnvV3p1gA30TxSw-DHFhII0K4p1ei1cDGjAcLq960aQTHgLu_zX4SPXlMq8AywJEPNxovFzcJjXMAqI9HSpCuttCEh4z_mwH8MxU-0B54.RYi2dFN3mw5jBagRSpWCJcFaua419Tln2ssUD3voils&dib_tag=se&keywords=guitars&qid=1714183054&sprefix=guitars%2Caps%2C263&sr=8-27',\n",
       " 'https://www.amazon.in/YAMAHA-FS80C-CONCERT-CUTAWAY-GUITAR/dp/B08WBBVMVJ/ref=sr_1_28?crid=ZHTUQUYV52AT&dib=eyJ2IjoiMSJ9.Y1UxTEOx24iAUysPbVbJ2YwwrqWm2xZqTl7W4yWOzDKhKueS755oeD551GNy1OU2rn6RnVG5k26W8bMZy29yELEmq_QwQ6AAwZFU0BRfQ80T7aiHqQobn4Nybe5o6ceWpVdVY5EVnUe2FWZQ0DXHfGCfdHnz13aLOtLN-6rLVNUYJJcIVVmqzid9yX_1AMAAICrnvV3p1gA30TxSw-DHFhII0K4p1ei1cDGjAcLq960aQTHgLu_zX4SPXlMq8AywJEPNxovFzcJjXMAqI9HSpCuttCEh4z_mwH8MxU-0B54.RYi2dFN3mw5jBagRSpWCJcFaua419Tln2ssUD3voils&dib_tag=se&keywords=guitars&qid=1714183054&sprefix=guitars%2Caps%2C263&sr=8-28',\n",
       " 'https://www.amazon.in/Yamaha-Classical-Guitar-C40-02/dp/B003UGCUFE/ref=sr_1_29?crid=ZHTUQUYV52AT&dib=eyJ2IjoiMSJ9.Y1UxTEOx24iAUysPbVbJ2YwwrqWm2xZqTl7W4yWOzDKhKueS755oeD551GNy1OU2rn6RnVG5k26W8bMZy29yELEmq_QwQ6AAwZFU0BRfQ80T7aiHqQobn4Nybe5o6ceWpVdVY5EVnUe2FWZQ0DXHfGCfdHnz13aLOtLN-6rLVNUYJJcIVVmqzid9yX_1AMAAICrnvV3p1gA30TxSw-DHFhII0K4p1ei1cDGjAcLq960aQTHgLu_zX4SPXlMq8AywJEPNxovFzcJjXMAqI9HSpCuttCEh4z_mwH8MxU-0B54.RYi2dFN3mw5jBagRSpWCJcFaua419Tln2ssUD3voils&dib_tag=se&keywords=guitars&qid=1714183054&sprefix=guitars%2Caps%2C263&sr=8-29',\n",
       " 'https://www.amazon.in/JUAREZ-JRZ38C-BKNA/dp/B0BCQNVPRB/ref=sr_1_30?crid=ZHTUQUYV52AT&dib=eyJ2IjoiMSJ9.Y1UxTEOx24iAUysPbVbJ2YwwrqWm2xZqTl7W4yWOzDKhKueS755oeD551GNy1OU2rn6RnVG5k26W8bMZy29yELEmq_QwQ6AAwZFU0BRfQ80T7aiHqQobn4Nybe5o6ceWpVdVY5EVnUe2FWZQ0DXHfGCfdHnz13aLOtLN-6rLVNUYJJcIVVmqzid9yX_1AMAAICrnvV3p1gA30TxSw-DHFhII0K4p1ei1cDGjAcLq960aQTHgLu_zX4SPXlMq8AywJEPNxovFzcJjXMAqI9HSpCuttCEh4z_mwH8MxU-0B54.RYi2dFN3mw5jBagRSpWCJcFaua419Tln2ssUD3voils&dib_tag=se&keywords=guitars&qid=1714183054&sprefix=guitars%2Caps%2C263&sr=8-30',\n",
       " 'https://www.amazon.in/Juarez-Acoustic-Cutaway-BK-Strings/dp/B076T3RHMG/ref=sr_1_31?crid=ZHTUQUYV52AT&dib=eyJ2IjoiMSJ9.Y1UxTEOx24iAUysPbVbJ2YwwrqWm2xZqTl7W4yWOzDKhKueS755oeD551GNy1OU2rn6RnVG5k26W8bMZy29yELEmq_QwQ6AAwZFU0BRfQ80T7aiHqQobn4Nybe5o6ceWpVdVY5EVnUe2FWZQ0DXHfGCfdHnz13aLOtLN-6rLVNUYJJcIVVmqzid9yX_1AMAAICrnvV3p1gA30TxSw-DHFhII0K4p1ei1cDGjAcLq960aQTHgLu_zX4SPXlMq8AywJEPNxovFzcJjXMAqI9HSpCuttCEh4z_mwH8MxU-0B54.RYi2dFN3mw5jBagRSpWCJcFaua419Tln2ssUD3voils&dib_tag=se&keywords=guitars&qid=1714183054&sprefix=guitars%2Caps%2C263&sr=8-31',\n",
       " 'https://www.amazon.in/Yamaha-FS-100C-6-String-Acoustic-without/dp/B00PAS9CK6/ref=sr_1_32?crid=ZHTUQUYV52AT&dib=eyJ2IjoiMSJ9.Y1UxTEOx24iAUysPbVbJ2YwwrqWm2xZqTl7W4yWOzDKhKueS755oeD551GNy1OU2rn6RnVG5k26W8bMZy29yELEmq_QwQ6AAwZFU0BRfQ80T7aiHqQobn4Nybe5o6ceWpVdVY5EVnUe2FWZQ0DXHfGCfdHnz13aLOtLN-6rLVNUYJJcIVVmqzid9yX_1AMAAICrnvV3p1gA30TxSw-DHFhII0K4p1ei1cDGjAcLq960aQTHgLu_zX4SPXlMq8AywJEPNxovFzcJjXMAqI9HSpCuttCEh4z_mwH8MxU-0B54.RYi2dFN3mw5jBagRSpWCJcFaua419Tln2ssUD3voils&dib_tag=se&keywords=guitars&qid=1714183054&sprefix=guitars%2Caps%2C263&sr=8-32',\n",
       " 'https://www.amazon.in/Juarez-JRZ-ST01-6-String-Electric-Without/dp/B01FYZSOGM/ref=sr_1_33?crid=ZHTUQUYV52AT&dib=eyJ2IjoiMSJ9.Y1UxTEOx24iAUysPbVbJ2YwwrqWm2xZqTl7W4yWOzDKhKueS755oeD551GNy1OU2rn6RnVG5k26W8bMZy29yELEmq_QwQ6AAwZFU0BRfQ80T7aiHqQobn4Nybe5o6ceWpVdVY5EVnUe2FWZQ0DXHfGCfdHnz13aLOtLN-6rLVNUYJJcIVVmqzid9yX_1AMAAICrnvV3p1gA30TxSw-DHFhII0K4p1ei1cDGjAcLq960aQTHgLu_zX4SPXlMq8AywJEPNxovFzcJjXMAqI9HSpCuttCEh4z_mwH8MxU-0B54.RYi2dFN3mw5jBagRSpWCJcFaua419Tln2ssUD3voils&dib_tag=se&keywords=guitars&qid=1714183054&sprefix=guitars%2Caps%2C263&sr=8-33',\n",
       " 'https://www.amazon.in/Intern-38-inch-Cutaway-Design-Acoustic/dp/B07X4PN85R/ref=sr_1_34?crid=ZHTUQUYV52AT&dib=eyJ2IjoiMSJ9.Y1UxTEOx24iAUysPbVbJ2YwwrqWm2xZqTl7W4yWOzDKhKueS755oeD551GNy1OU2rn6RnVG5k26W8bMZy29yELEmq_QwQ6AAwZFU0BRfQ80T7aiHqQobn4Nybe5o6ceWpVdVY5EVnUe2FWZQ0DXHfGCfdHnz13aLOtLN-6rLVNUYJJcIVVmqzid9yX_1AMAAICrnvV3p1gA30TxSw-DHFhII0K4p1ei1cDGjAcLq960aQTHgLu_zX4SPXlMq8AywJEPNxovFzcJjXMAqI9HSpCuttCEh4z_mwH8MxU-0B54.RYi2dFN3mw5jBagRSpWCJcFaua419Tln2ssUD3voils&dib_tag=se&keywords=guitars&qid=1714183054&sprefix=guitars%2Caps%2C263&sr=8-34',\n",
       " 'https://www.amazon.in/Yamaha-FSX80C-Acoustic-Cutaway-Guitar/dp/B09HL5WFDX/ref=sr_1_35?crid=ZHTUQUYV52AT&dib=eyJ2IjoiMSJ9.Y1UxTEOx24iAUysPbVbJ2YwwrqWm2xZqTl7W4yWOzDKhKueS755oeD551GNy1OU2rn6RnVG5k26W8bMZy29yELEmq_QwQ6AAwZFU0BRfQ80T7aiHqQobn4Nybe5o6ceWpVdVY5EVnUe2FWZQ0DXHfGCfdHnz13aLOtLN-6rLVNUYJJcIVVmqzid9yX_1AMAAICrnvV3p1gA30TxSw-DHFhII0K4p1ei1cDGjAcLq960aQTHgLu_zX4SPXlMq8AywJEPNxovFzcJjXMAqI9HSpCuttCEh4z_mwH8MxU-0B54.RYi2dFN3mw5jBagRSpWCJcFaua419Tln2ssUD3voils&dib_tag=se&keywords=guitars&qid=1714183054&sprefix=guitars%2Caps%2C263&sr=8-35',\n",
       " 'https://www.amazon.in/Kadence-Frontier-Acoustic-Guitar-Strings/dp/B01GDZ46AA/ref=sr_1_36?crid=ZHTUQUYV52AT&dib=eyJ2IjoiMSJ9.Y1UxTEOx24iAUysPbVbJ2YwwrqWm2xZqTl7W4yWOzDKhKueS755oeD551GNy1OU2rn6RnVG5k26W8bMZy29yELEmq_QwQ6AAwZFU0BRfQ80T7aiHqQobn4Nybe5o6ceWpVdVY5EVnUe2FWZQ0DXHfGCfdHnz13aLOtLN-6rLVNUYJJcIVVmqzid9yX_1AMAAICrnvV3p1gA30TxSw-DHFhII0K4p1ei1cDGjAcLq960aQTHgLu_zX4SPXlMq8AywJEPNxovFzcJjXMAqI9HSpCuttCEh4z_mwH8MxU-0B54.RYi2dFN3mw5jBagRSpWCJcFaua419Tln2ssUD3voils&dib_tag=se&keywords=guitars&qid=1714183054&sprefix=guitars%2Caps%2C263&sr=8-36',\n",
       " 'https://www.amazon.in/Kadence-Acoustica-Electric-Acoustic-fretboard/dp/B0CZ8RQYS1/ref=sr_1_37?crid=ZHTUQUYV52AT&dib=eyJ2IjoiMSJ9.Y1UxTEOx24iAUysPbVbJ2YwwrqWm2xZqTl7W4yWOzDKhKueS755oeD551GNy1OU2rn6RnVG5k26W8bMZy29yELEmq_QwQ6AAwZFU0BRfQ80T7aiHqQobn4Nybe5o6ceWpVdVY5EVnUe2FWZQ0DXHfGCfdHnz13aLOtLN-6rLVNUYJJcIVVmqzid9yX_1AMAAICrnvV3p1gA30TxSw-DHFhII0K4p1ei1cDGjAcLq960aQTHgLu_zX4SPXlMq8AywJEPNxovFzcJjXMAqI9HSpCuttCEh4z_mwH8MxU-0B54.RYi2dFN3mw5jBagRSpWCJcFaua419Tln2ssUD3voils&dib_tag=se&keywords=guitars&qid=1714183054&sprefix=guitars%2Caps%2C263&sr=8-37',\n",
       " 'https://www.amazon.in/YAMAHA-NATURAL-CONCERT-CUTAWAY-GUITAR/dp/B08KW4DRKL/ref=sr_1_38?crid=ZHTUQUYV52AT&dib=eyJ2IjoiMSJ9.Y1UxTEOx24iAUysPbVbJ2YwwrqWm2xZqTl7W4yWOzDKhKueS755oeD551GNy1OU2rn6RnVG5k26W8bMZy29yELEmq_QwQ6AAwZFU0BRfQ80T7aiHqQobn4Nybe5o6ceWpVdVY5EVnUe2FWZQ0DXHfGCfdHnz13aLOtLN-6rLVNUYJJcIVVmqzid9yX_1AMAAICrnvV3p1gA30TxSw-DHFhII0K4p1ei1cDGjAcLq960aQTHgLu_zX4SPXlMq8AywJEPNxovFzcJjXMAqI9HSpCuttCEh4z_mwH8MxU-0B54.RYi2dFN3mw5jBagRSpWCJcFaua419Tln2ssUD3voils&dib_tag=se&keywords=guitars&qid=1714183054&sprefix=guitars%2Caps%2C263&sr=8-38',\n",
       " 'https://www.amazon.in/JUAREZ-JRZ38C-Handed-Acoustic-Strings/dp/B01FYYTDW2/ref=sr_1_39?crid=ZHTUQUYV52AT&dib=eyJ2IjoiMSJ9.Y1UxTEOx24iAUysPbVbJ2YwwrqWm2xZqTl7W4yWOzDKhKueS755oeD551GNy1OU2rn6RnVG5k26W8bMZy29yELEmq_QwQ6AAwZFU0BRfQ80T7aiHqQobn4Nybe5o6ceWpVdVY5EVnUe2FWZQ0DXHfGCfdHnz13aLOtLN-6rLVNUYJJcIVVmqzid9yX_1AMAAICrnvV3p1gA30TxSw-DHFhII0K4p1ei1cDGjAcLq960aQTHgLu_zX4SPXlMq8AywJEPNxovFzcJjXMAqI9HSpCuttCEh4z_mwH8MxU-0B54.RYi2dFN3mw5jBagRSpWCJcFaua419Tln2ssUD3voils&dib_tag=se&keywords=guitars&qid=1714183054&sprefix=guitars%2Caps%2C263&sr=8-39',\n",
       " 'https://www.amazon.in/Strings-Straps-String-winder-Polishing/dp/B07RV9FJ2Z/ref=sr_1_40?crid=ZHTUQUYV52AT&dib=eyJ2IjoiMSJ9.Y1UxTEOx24iAUysPbVbJ2YwwrqWm2xZqTl7W4yWOzDKhKueS755oeD551GNy1OU2rn6RnVG5k26W8bMZy29yELEmq_QwQ6AAwZFU0BRfQ80T7aiHqQobn4Nybe5o6ceWpVdVY5EVnUe2FWZQ0DXHfGCfdHnz13aLOtLN-6rLVNUYJJcIVVmqzid9yX_1AMAAICrnvV3p1gA30TxSw-DHFhII0K4p1ei1cDGjAcLq960aQTHgLu_zX4SPXlMq8AywJEPNxovFzcJjXMAqI9HSpCuttCEh4z_mwH8MxU-0B54.RYi2dFN3mw5jBagRSpWCJcFaua419Tln2ssUD3voils&dib_tag=se&keywords=guitars&qid=1714183054&sprefix=guitars%2Caps%2C263&sr=8-40',\n",
       " 'https://www.amazon.in/Medellin-Acoustic-Guitar-learning-Strings/dp/B0CCNSN9BV/ref=sr_1_41?crid=ZHTUQUYV52AT&dib=eyJ2IjoiMSJ9.Y1UxTEOx24iAUysPbVbJ2YwwrqWm2xZqTl7W4yWOzDKhKueS755oeD551GNy1OU2rn6RnVG5k26W8bMZy29yELEmq_QwQ6AAwZFU0BRfQ80T7aiHqQobn4Nybe5o6ceWpVdVY5EVnUe2FWZQ0DXHfGCfdHnz13aLOtLN-6rLVNUYJJcIVVmqzid9yX_1AMAAICrnvV3p1gA30TxSw-DHFhII0K4p1ei1cDGjAcLq960aQTHgLu_zX4SPXlMq8AywJEPNxovFzcJjXMAqI9HSpCuttCEh4z_mwH8MxU-0B54.RYi2dFN3mw5jBagRSpWCJcFaua419Tln2ssUD3voils&dib_tag=se&keywords=guitars&qid=1714183054&sprefix=guitars%2Caps%2C263&sr=8-41',\n",
       " 'https://www.amazon.in/Yamaha-F310-6-Strings-Acoustic-Natural/dp/B000RVYW7E/ref=sr_1_42?crid=ZHTUQUYV52AT&dib=eyJ2IjoiMSJ9.Y1UxTEOx24iAUysPbVbJ2YwwrqWm2xZqTl7W4yWOzDKhKueS755oeD551GNy1OU2rn6RnVG5k26W8bMZy29yELEmq_QwQ6AAwZFU0BRfQ80T7aiHqQobn4Nybe5o6ceWpVdVY5EVnUe2FWZQ0DXHfGCfdHnz13aLOtLN-6rLVNUYJJcIVVmqzid9yX_1AMAAICrnvV3p1gA30TxSw-DHFhII0K4p1ei1cDGjAcLq960aQTHgLu_zX4SPXlMq8AywJEPNxovFzcJjXMAqI9HSpCuttCEh4z_mwH8MxU-0B54.RYi2dFN3mw5jBagRSpWCJcFaua419Tln2ssUD3voils&dib_tag=se&keywords=guitars&qid=1714183054&sprefix=guitars%2Caps%2C263&sr=8-42',\n",
       " 'https://www.amazon.in/JUAREZ-JRZ38C-3TSNA/dp/B0BCQQRDF3/ref=sr_1_43?crid=ZHTUQUYV52AT&dib=eyJ2IjoiMSJ9.Y1UxTEOx24iAUysPbVbJ2YwwrqWm2xZqTl7W4yWOzDKhKueS755oeD551GNy1OU2rn6RnVG5k26W8bMZy29yELEmq_QwQ6AAwZFU0BRfQ80T7aiHqQobn4Nybe5o6ceWpVdVY5EVnUe2FWZQ0DXHfGCfdHnz13aLOtLN-6rLVNUYJJcIVVmqzid9yX_1AMAAICrnvV3p1gA30TxSw-DHFhII0K4p1ei1cDGjAcLq960aQTHgLu_zX4SPXlMq8AywJEPNxovFzcJjXMAqI9HSpCuttCEh4z_mwH8MxU-0B54.RYi2dFN3mw5jBagRSpWCJcFaua419Tln2ssUD3voils&dib_tag=se&keywords=guitars&qid=1714183054&sprefix=guitars%2Caps%2C263&sr=8-43',\n",
       " 'https://www.amazon.in/Kadence-Slowhand-Premium-Acoustic-Instrument/dp/B077SZ667X/ref=sr_1_44?crid=ZHTUQUYV52AT&dib=eyJ2IjoiMSJ9.Y1UxTEOx24iAUysPbVbJ2YwwrqWm2xZqTl7W4yWOzDKhKueS755oeD551GNy1OU2rn6RnVG5k26W8bMZy29yELEmq_QwQ6AAwZFU0BRfQ80T7aiHqQobn4Nybe5o6ceWpVdVY5EVnUe2FWZQ0DXHfGCfdHnz13aLOtLN-6rLVNUYJJcIVVmqzid9yX_1AMAAICrnvV3p1gA30TxSw-DHFhII0K4p1ei1cDGjAcLq960aQTHgLu_zX4SPXlMq8AywJEPNxovFzcJjXMAqI9HSpCuttCEh4z_mwH8MxU-0B54.RYi2dFN3mw5jBagRSpWCJcFaua419Tln2ssUD3voils&dib_tag=se&keywords=guitars&qid=1714183054&sprefix=guitars%2Caps%2C263&sr=8-44',\n",
       " 'https://www.amazon.in/Yamaha-Acoustic-Guitar-Tobacco-Sunburst/dp/B08VXR74Q2/ref=sr_1_45?crid=ZHTUQUYV52AT&dib=eyJ2IjoiMSJ9.Y1UxTEOx24iAUysPbVbJ2YwwrqWm2xZqTl7W4yWOzDKhKueS755oeD551GNy1OU2rn6RnVG5k26W8bMZy29yELEmq_QwQ6AAwZFU0BRfQ80T7aiHqQobn4Nybe5o6ceWpVdVY5EVnUe2FWZQ0DXHfGCfdHnz13aLOtLN-6rLVNUYJJcIVVmqzid9yX_1AMAAICrnvV3p1gA30TxSw-DHFhII0K4p1ei1cDGjAcLq960aQTHgLu_zX4SPXlMq8AywJEPNxovFzcJjXMAqI9HSpCuttCEh4z_mwH8MxU-0B54.RYi2dFN3mw5jBagRSpWCJcFaua419Tln2ssUD3voils&dib_tag=se&keywords=guitars&qid=1714183054&sprefix=guitars%2Caps%2C263&sr=8-45',\n",
       " 'https://www.amazon.in/Yamaha-C40MII-Acoustic-Concert-Guitar/dp/B005LG2JRK/ref=sr_1_46?crid=ZHTUQUYV52AT&dib=eyJ2IjoiMSJ9.Y1UxTEOx24iAUysPbVbJ2YwwrqWm2xZqTl7W4yWOzDKhKueS755oeD551GNy1OU2rn6RnVG5k26W8bMZy29yELEmq_QwQ6AAwZFU0BRfQ80T7aiHqQobn4Nybe5o6ceWpVdVY5EVnUe2FWZQ0DXHfGCfdHnz13aLOtLN-6rLVNUYJJcIVVmqzid9yX_1AMAAICrnvV3p1gA30TxSw-DHFhII0K4p1ei1cDGjAcLq960aQTHgLu_zX4SPXlMq8AywJEPNxovFzcJjXMAqI9HSpCuttCEh4z_mwH8MxU-0B54.RYi2dFN3mw5jBagRSpWCJcFaua419Tln2ssUD3voils&dib_tag=se&keywords=guitars&qid=1714183054&sprefix=guitars%2Caps%2C263&sr=8-46',\n",
       " 'https://www.amazon.in/Kadence-Acoustica-Acoustic-Guitar-Zebra/dp/B07KXNKLJ2/ref=sr_1_47?crid=ZHTUQUYV52AT&dib=eyJ2IjoiMSJ9.Y1UxTEOx24iAUysPbVbJ2YwwrqWm2xZqTl7W4yWOzDKhKueS755oeD551GNy1OU2rn6RnVG5k26W8bMZy29yELEmq_QwQ6AAwZFU0BRfQ80T7aiHqQobn4Nybe5o6ceWpVdVY5EVnUe2FWZQ0DXHfGCfdHnz13aLOtLN-6rLVNUYJJcIVVmqzid9yX_1AMAAICrnvV3p1gA30TxSw-DHFhII0K4p1ei1cDGjAcLq960aQTHgLu_zX4SPXlMq8AywJEPNxovFzcJjXMAqI9HSpCuttCEh4z_mwH8MxU-0B54.RYi2dFN3mw5jBagRSpWCJcFaua419Tln2ssUD3voils&dib_tag=se&keywords=guitars&qid=1714183054&sprefix=guitars%2Caps%2C263&sr=8-47',\n",
       " 'https://www.amazon.in/Kadence-Professional-Acoustic-Rosewood-Natural/dp/B0CC927DLN/ref=sr_1_48?crid=ZHTUQUYV52AT&dib=eyJ2IjoiMSJ9.Y1UxTEOx24iAUysPbVbJ2YwwrqWm2xZqTl7W4yWOzDKhKueS755oeD551GNy1OU2rn6RnVG5k26W8bMZy29yELEmq_QwQ6AAwZFU0BRfQ80T7aiHqQobn4Nybe5o6ceWpVdVY5EVnUe2FWZQ0DXHfGCfdHnz13aLOtLN-6rLVNUYJJcIVVmqzid9yX_1AMAAICrnvV3p1gA30TxSw-DHFhII0K4p1ei1cDGjAcLq960aQTHgLu_zX4SPXlMq8AywJEPNxovFzcJjXMAqI9HSpCuttCEh4z_mwH8MxU-0B54.RYi2dFN3mw5jBagRSpWCJcFaua419Tln2ssUD3voils&dib_tag=se&keywords=guitars&qid=1714183054&sprefix=guitars%2Caps%2C263&sr=8-48',\n",
       " 'https://www.amazon.in/Fender-FA-235E-Concert-Bodied-Acoustic/dp/B07BCQ7P7Z/ref=sr_1_49?crid=ZHTUQUYV52AT&dib=eyJ2IjoiMSJ9.Y1UxTEOx24iAUysPbVbJ2YwwrqWm2xZqTl7W4yWOzDKhKueS755oeD551GNy1OU2rn6RnVG5k26W8bMZy29yELEmq_QwQ6AAwZFU0BRfQ80T7aiHqQobn4Nybe5o6ceWpVdVY5EVnUe2FWZQ0DXHfGCfdHnz13aLOtLN-6rLVNUYJJcIVVmqzid9yX_1AMAAICrnvV3p1gA30TxSw-DHFhII0K4p1ei1cDGjAcLq960aQTHgLu_zX4SPXlMq8AywJEPNxovFzcJjXMAqI9HSpCuttCEh4z_mwH8MxU-0B54.RYi2dFN3mw5jBagRSpWCJcFaua419Tln2ssUD3voils&dib_tag=se&keywords=guitars&qid=1714183054&sprefix=guitars%2Caps%2C263&sr=8-49',\n",
       " 'https://www.amazon.in/yamaha-acoustic-guitar-Dreadnought-Plectrums/dp/B07KB8VP6X/ref=sr_1_50?crid=ZHTUQUYV52AT&dib=eyJ2IjoiMSJ9.Y1UxTEOx24iAUysPbVbJ2YwwrqWm2xZqTl7W4yWOzDKhKueS755oeD551GNy1OU2rn6RnVG5k26W8bMZy29yELEmq_QwQ6AAwZFU0BRfQ80T7aiHqQobn4Nybe5o6ceWpVdVY5EVnUe2FWZQ0DXHfGCfdHnz13aLOtLN-6rLVNUYJJcIVVmqzid9yX_1AMAAICrnvV3p1gA30TxSw-DHFhII0K4p1ei1cDGjAcLq960aQTHgLu_zX4SPXlMq8AywJEPNxovFzcJjXMAqI9HSpCuttCEh4z_mwH8MxU-0B54.RYi2dFN3mw5jBagRSpWCJcFaua419Tln2ssUD3voils&dib_tag=se&keywords=guitars&qid=1714183054&sprefix=guitars%2Caps%2C263&sr=8-50',\n",
       " 'https://www.amazon.in/Juarez-Acoustic-Guitar-Cutaway-JRZ38CT/dp/B01N3TTYJQ/ref=sr_1_51?crid=ZHTUQUYV52AT&dib=eyJ2IjoiMSJ9.Y1UxTEOx24iAUysPbVbJ2YwwrqWm2xZqTl7W4yWOzDKhKueS755oeD551GNy1OU2rn6RnVG5k26W8bMZy29yELEmq_QwQ6AAwZFU0BRfQ80T7aiHqQobn4Nybe5o6ceWpVdVY5EVnUe2FWZQ0DXHfGCfdHnz13aLOtLN-6rLVNUYJJcIVVmqzid9yX_1AMAAICrnvV3p1gA30TxSw-DHFhII0K4p1ei1cDGjAcLq960aQTHgLu_zX4SPXlMq8AywJEPNxovFzcJjXMAqI9HSpCuttCEh4z_mwH8MxU-0B54.RYi2dFN3mw5jBagRSpWCJcFaua419Tln2ssUD3voils&dib_tag=se&keywords=guitars&qid=1714183054&sprefix=guitars%2Caps%2C263&sr=8-51',\n",
       " 'https://www.amazon.in/Vault-ST1-Premium-Electric-Guitar/dp/B09GLYSJ8W/ref=sr_1_52?crid=ZHTUQUYV52AT&dib=eyJ2IjoiMSJ9.Y1UxTEOx24iAUysPbVbJ2YwwrqWm2xZqTl7W4yWOzDKhKueS755oeD551GNy1OU2rn6RnVG5k26W8bMZy29yELEmq_QwQ6AAwZFU0BRfQ80T7aiHqQobn4Nybe5o6ceWpVdVY5EVnUe2FWZQ0DXHfGCfdHnz13aLOtLN-6rLVNUYJJcIVVmqzid9yX_1AMAAICrnvV3p1gA30TxSw-DHFhII0K4p1ei1cDGjAcLq960aQTHgLu_zX4SPXlMq8AywJEPNxovFzcJjXMAqI9HSpCuttCEh4z_mwH8MxU-0B54.RYi2dFN3mw5jBagRSpWCJcFaua419Tln2ssUD3voils&dib_tag=se&keywords=guitars&qid=1714183054&sprefix=guitars%2Caps%2C263&sr=8-52',\n",
       " 'https://www.amazon.in/Donner-Silent-Guitar-Mahogany/dp/B09Q8CXL2K/ref=sr_1_53?crid=ZHTUQUYV52AT&dib=eyJ2IjoiMSJ9.Y1UxTEOx24iAUysPbVbJ2YwwrqWm2xZqTl7W4yWOzDKhKueS755oeD551GNy1OU2rn6RnVG5k26W8bMZy29yELEmq_QwQ6AAwZFU0BRfQ80T7aiHqQobn4Nybe5o6ceWpVdVY5EVnUe2FWZQ0DXHfGCfdHnz13aLOtLN-6rLVNUYJJcIVVmqzid9yX_1AMAAICrnvV3p1gA30TxSw-DHFhII0K4p1ei1cDGjAcLq960aQTHgLu_zX4SPXlMq8AywJEPNxovFzcJjXMAqI9HSpCuttCEh4z_mwH8MxU-0B54.RYi2dFN3mw5jBagRSpWCJcFaua419Tln2ssUD3voils&dib_tag=se&keywords=guitars&qid=1714183054&sprefix=guitars%2Caps%2C263&sr=8-53',\n",
       " 'https://www.amazon.in/Ultimate-Concert-Cutaway-Acoustic-Bajaao/dp/B08WHWKKV5/ref=sr_1_54?crid=ZHTUQUYV52AT&dib=eyJ2IjoiMSJ9.Y1UxTEOx24iAUysPbVbJ2YwwrqWm2xZqTl7W4yWOzDKhKueS755oeD551GNy1OU2rn6RnVG5k26W8bMZy29yELEmq_QwQ6AAwZFU0BRfQ80T7aiHqQobn4Nybe5o6ceWpVdVY5EVnUe2FWZQ0DXHfGCfdHnz13aLOtLN-6rLVNUYJJcIVVmqzid9yX_1AMAAICrnvV3p1gA30TxSw-DHFhII0K4p1ei1cDGjAcLq960aQTHgLu_zX4SPXlMq8AywJEPNxovFzcJjXMAqI9HSpCuttCEh4z_mwH8MxU-0B54.RYi2dFN3mw5jBagRSpWCJcFaua419Tln2ssUD3voils&dib_tag=se&keywords=guitars&qid=1714183054&sprefix=guitars%2Caps%2C263&sr=8-54',\n",
       " 'https://www.amazon.in/Ibanez-GRGR221PA-Electric-Guitar-Burst/dp/B08SHLHBGT/ref=sr_1_55?crid=ZHTUQUYV52AT&dib=eyJ2IjoiMSJ9.Y1UxTEOx24iAUysPbVbJ2YwwrqWm2xZqTl7W4yWOzDKhKueS755oeD551GNy1OU2rn6RnVG5k26W8bMZy29yELEmq_QwQ6AAwZFU0BRfQ80T7aiHqQobn4Nybe5o6ceWpVdVY5EVnUe2FWZQ0DXHfGCfdHnz13aLOtLN-6rLVNUYJJcIVVmqzid9yX_1AMAAICrnvV3p1gA30TxSw-DHFhII0K4p1ei1cDGjAcLq960aQTHgLu_zX4SPXlMq8AywJEPNxovFzcJjXMAqI9HSpCuttCEh4z_mwH8MxU-0B54.RYi2dFN3mw5jBagRSpWCJcFaua419Tln2ssUD3voils&dib_tag=se&keywords=guitars&qid=1714183054&sprefix=guitars%2Caps%2C263&sr=8-55',\n",
       " 'https://www.amazon.in/Cort-AD810-Dreadnought-Acoustic-Guitar/dp/B07G4CB8FQ/ref=sr_1_56?crid=ZHTUQUYV52AT&dib=eyJ2IjoiMSJ9.Y1UxTEOx24iAUysPbVbJ2YwwrqWm2xZqTl7W4yWOzDKhKueS755oeD551GNy1OU2rn6RnVG5k26W8bMZy29yELEmq_QwQ6AAwZFU0BRfQ80T7aiHqQobn4Nybe5o6ceWpVdVY5EVnUe2FWZQ0DXHfGCfdHnz13aLOtLN-6rLVNUYJJcIVVmqzid9yX_1AMAAICrnvV3p1gA30TxSw-DHFhII0K4p1ei1cDGjAcLq960aQTHgLu_zX4SPXlMq8AywJEPNxovFzcJjXMAqI9HSpCuttCEh4z_mwH8MxU-0B54.RYi2dFN3mw5jBagRSpWCJcFaua419Tln2ssUD3voils&dib_tag=se&keywords=guitars&qid=1714183054&sprefix=guitars%2Caps%2C263&sr=8-56',\n",
       " 'https://www.amazon.in/sspa/click?ie=UTF8&spc=MToyNzE4Mzk3MDg0ODQ0MTE3OjE3MTQxODMwNTQ6c3BfYnRmOjIwMTI3OTkwMDI5Mzk4OjowOjo&url=%2FBlueberry-VIP-341-Natural-Acoustic%2Fdp%2FB0BVVJ8VG5%2Fref%3Dsr_1_57_sspa%3Fcrid%3DZHTUQUYV52AT%26dib%3DeyJ2IjoiMSJ9.Y1UxTEOx24iAUysPbVbJ2YwwrqWm2xZqTl7W4yWOzDKhKueS755oeD551GNy1OU2rn6RnVG5k26W8bMZy29yELEmq_QwQ6AAwZFU0BRfQ80T7aiHqQobn4Nybe5o6ceWpVdVY5EVnUe2FWZQ0DXHfGCfdHnz13aLOtLN-6rLVNUYJJcIVVmqzid9yX_1AMAAICrnvV3p1gA30TxSw-DHFhII0K4p1ei1cDGjAcLq960aQTHgLu_zX4SPXlMq8AywJEPNxovFzcJjXMAqI9HSpCuttCEh4z_mwH8MxU-0B54.RYi2dFN3mw5jBagRSpWCJcFaua419Tln2ssUD3voils%26dib_tag%3Dse%26keywords%3Dguitars%26qid%3D1714183054%26sprefix%3Dguitars%252Caps%252C263%26sr%3D8-57-spons%26sp_csd%3Dd2lkZ2V0TmFtZT1zcF9idGY%26psc%3D1',\n",
       " 'https://www.amazon.in/sspa/click?ie=UTF8&spc=MToyNzE4Mzk3MDg0ODQ0MTE3OjE3MTQxODMwNTQ6c3BfYnRmOjIwMDc4MzM2ODg1Nzk4OjowOjo&url=%2FFestra-Trussrod-Acoustic-Strings-Classic%2Fdp%2FB09VLF711S%2Fref%3Dsr_1_58_sspa%3Fcrid%3DZHTUQUYV52AT%26dib%3DeyJ2IjoiMSJ9.Y1UxTEOx24iAUysPbVbJ2YwwrqWm2xZqTl7W4yWOzDKhKueS755oeD551GNy1OU2rn6RnVG5k26W8bMZy29yELEmq_QwQ6AAwZFU0BRfQ80T7aiHqQobn4Nybe5o6ceWpVdVY5EVnUe2FWZQ0DXHfGCfdHnz13aLOtLN-6rLVNUYJJcIVVmqzid9yX_1AMAAICrnvV3p1gA30TxSw-DHFhII0K4p1ei1cDGjAcLq960aQTHgLu_zX4SPXlMq8AywJEPNxovFzcJjXMAqI9HSpCuttCEh4z_mwH8MxU-0B54.RYi2dFN3mw5jBagRSpWCJcFaua419Tln2ssUD3voils%26dib_tag%3Dse%26keywords%3Dguitars%26qid%3D1714183054%26sprefix%3Dguitars%252Caps%252C263%26sr%3D8-58-spons%26sp_csd%3Dd2lkZ2V0TmFtZT1zcF9idGY%26psc%3D1',\n",
       " 'https://www.amazon.in/sspa/click?ie=UTF8&spc=MToyNzE4Mzk3MDg0ODQ0MTE3OjE3MTQxODMwNTQ6c3BfYnRmOjIwMTI3OTkwMDI4Mzk4OjowOjo&url=%2FBlueberry-VIP-400-40Inch-TrussRod-Acoustic%2Fdp%2FB0BVYY6ND2%2Fref%3Dsr_1_59_sspa%3Fcrid%3DZHTUQUYV52AT%26dib%3DeyJ2IjoiMSJ9.Y1UxTEOx24iAUysPbVbJ2YwwrqWm2xZqTl7W4yWOzDKhKueS755oeD551GNy1OU2rn6RnVG5k26W8bMZy29yELEmq_QwQ6AAwZFU0BRfQ80T7aiHqQobn4Nybe5o6ceWpVdVY5EVnUe2FWZQ0DXHfGCfdHnz13aLOtLN-6rLVNUYJJcIVVmqzid9yX_1AMAAICrnvV3p1gA30TxSw-DHFhII0K4p1ei1cDGjAcLq960aQTHgLu_zX4SPXlMq8AywJEPNxovFzcJjXMAqI9HSpCuttCEh4z_mwH8MxU-0B54.RYi2dFN3mw5jBagRSpWCJcFaua419Tln2ssUD3voils%26dib_tag%3Dse%26keywords%3Dguitars%26qid%3D1714183054%26sprefix%3Dguitars%252Caps%252C263%26sr%3D8-59-spons%26sp_csd%3Dd2lkZ2V0TmFtZT1zcF9idGY%26psc%3D1',\n",
       " 'https://www.amazon.in/sspa/click?ie=UTF8&spc=MToyNzE4Mzk3MDg0ODQ0MTE3OjE3MTQxODMwNTQ6c3BfYnRmOjIwMDkyNjI0MDIxNTk4OjowOjo&url=%2FDreadnought-Acoustic-Gig-Bag-Strings-Polishing%2Fdp%2FB0BJJRJVHY%2Fref%3Dsr_1_60_sspa%3Fcrid%3DZHTUQUYV52AT%26dib%3DeyJ2IjoiMSJ9.Y1UxTEOx24iAUysPbVbJ2YwwrqWm2xZqTl7W4yWOzDKhKueS755oeD551GNy1OU2rn6RnVG5k26W8bMZy29yELEmq_QwQ6AAwZFU0BRfQ80T7aiHqQobn4Nybe5o6ceWpVdVY5EVnUe2FWZQ0DXHfGCfdHnz13aLOtLN-6rLVNUYJJcIVVmqzid9yX_1AMAAICrnvV3p1gA30TxSw-DHFhII0K4p1ei1cDGjAcLq960aQTHgLu_zX4SPXlMq8AywJEPNxovFzcJjXMAqI9HSpCuttCEh4z_mwH8MxU-0B54.RYi2dFN3mw5jBagRSpWCJcFaua419Tln2ssUD3voils%26dib_tag%3Dse%26keywords%3Dguitars%26qid%3D1714183054%26sprefix%3Dguitars%252Caps%252C263%26sr%3D8-60-spons%26sp_csd%3Dd2lkZ2V0TmFtZT1zcF9idGY%26psc%3D1',\n",
       " 'https://aax-eu.amazon.in/x/c/RGRlWwsIoHcnPd0aQ4Bk3k0AAAGPHUWkkAMAAAH2AQBvbm9fdHhuX2JpZDEgICBvbm9fdHhuX2ltcDEgICABdUyM/https://www.amazon.in/Inrali-Guitar-String-Winder-Cutter/dp/B08VWQ2SRB/ref=sxbs_sbv_search_btf?content-id=amzn1.sym.29651f77-3164-4105-8e83-b08340dd52f0%3Aamzn1.sym.29651f77-3164-4105-8e83-b08340dd52f0&crid=ZHTUQUYV52AT&cv_ct_cx=guitars&dib=eyJ2IjoiMSJ9.bECI8gwH2lwUSU7Ry8xMnQ.glSCNHN53jBLtTAUFXm8mtgBa21MVwd5iu5Luere0i4&dib_tag=se&keywords=guitars&pd_rd_i=B08VWQ2SRB&pd_rd_r=018bb5e8-5881-4469-89f0-a81ef22066cc&pd_rd_w=W5Msx&pd_rd_wg=OpzDs&pf_rd_p=29651f77-3164-4105-8e83-b08340dd52f0&pf_rd_r=AFD2TJSSD836PC3RS02M&qid=1714183054&sbo=RZvfv%2F%2FHxDF%2BO5021pAnSA%3D%3D&sprefix=guitars%2Caps%2C263&sr=1-1-25dedf61-9bde-4412-952b-c956ef4fc546',\n",
       " 'https://www.amazon.in/sspa/click?ie=UTF8&spc=MToyNzE4Mzk3MDg0ODQ0MTE3OjE3MTQxODMwNTQ6c3BfYXRmOjMwMDE1NTQ4NDMyMzgzMjo6MDo6&url=%2FMedellin-Acoustic-Guitar-learning-course%2Fdp%2FB0CGRX6ZMF%2Fref%3Dsr_1_1_sspa%3Fcrid%3DZHTUQUYV52AT%26dib%3DeyJ2IjoiMSJ9.Y1UxTEOx24iAUysPbVbJ2YwwrqWm2xZqTl7W4yWOzDKhKueS755oeD551GNy1OU2rn6RnVG5k26W8bMZy29yELEmq_QwQ6AAwZFU0BRfQ80T7aiHqQobn4Nybe5o6ceWpVdVY5EVnUe2FWZQ0DXHfGCfdHnz13aLOtLN-6rLVNUYJJcIVVmqzid9yX_1AMAAICrnvV3p1gA30TxSw-DHFhII0K4p1ei1cDGjAcLq960aQTHgLu_zX4SPXlMq8AywJEPNxovFzcJjXMAqI9HSpCuttCEh4z_mwH8MxU-0B54.RYi2dFN3mw5jBagRSpWCJcFaua419Tln2ssUD3voils%26dib_tag%3Dse%26keywords%3Dguitars%26qid%3D1714183054%26sprefix%3Dguitars%252Caps%252C263%26sr%3D8-1-spons%26sp_csd%3Dd2lkZ2V0TmFtZT1zcF9hdGY%26psc%3D1',\n",
       " 'https://www.amazon.in/sspa/click?ie=UTF8&spc=MToyNzE4Mzk3MDg0ODQ0MTE3OjE3MTQxODMwNTQ6c3BfYXRmOjMwMDAxNTUzNzk3OTIzMjo6MDo6&url=%2FKadence-Frontier-Acoustic-Guitar-Strings%2Fdp%2FB078GTJP5Y%2Fref%3Dsr_1_2_sspa%3Fcrid%3DZHTUQUYV52AT%26dib%3DeyJ2IjoiMSJ9.Y1UxTEOx24iAUysPbVbJ2YwwrqWm2xZqTl7W4yWOzDKhKueS755oeD551GNy1OU2rn6RnVG5k26W8bMZy29yELEmq_QwQ6AAwZFU0BRfQ80T7aiHqQobn4Nybe5o6ceWpVdVY5EVnUe2FWZQ0DXHfGCfdHnz13aLOtLN-6rLVNUYJJcIVVmqzid9yX_1AMAAICrnvV3p1gA30TxSw-DHFhII0K4p1ei1cDGjAcLq960aQTHgLu_zX4SPXlMq8AywJEPNxovFzcJjXMAqI9HSpCuttCEh4z_mwH8MxU-0B54.RYi2dFN3mw5jBagRSpWCJcFaua419Tln2ssUD3voils%26dib_tag%3Dse%26keywords%3Dguitars%26qid%3D1714183054%26sprefix%3Dguitars%252Caps%252C263%26sr%3D8-2-spons%26sp_csd%3Dd2lkZ2V0TmFtZT1zcF9hdGY%26psc%3D1',\n",
       " 'https://www.amazon.in/sspa/click?ie=UTF8&spc=MToyNzE4Mzk3MDg0ODQ0MTE3OjE3MTQxODMwNTQ6c3BfYXRmOjIwMDk2NjA4NzUwNDk4OjowOjo&url=%2FKadence-Frontier-Acoustic-Guitar-Strings%2Fdp%2FB01GDZ46AA%2Fref%3Dsr_1_3_sspa%3Fcrid%3DZHTUQUYV52AT%26dib%3DeyJ2IjoiMSJ9.Y1UxTEOx24iAUysPbVbJ2YwwrqWm2xZqTl7W4yWOzDKhKueS755oeD551GNy1OU2rn6RnVG5k26W8bMZy29yELEmq_QwQ6AAwZFU0BRfQ80T7aiHqQobn4Nybe5o6ceWpVdVY5EVnUe2FWZQ0DXHfGCfdHnz13aLOtLN-6rLVNUYJJcIVVmqzid9yX_1AMAAICrnvV3p1gA30TxSw-DHFhII0K4p1ei1cDGjAcLq960aQTHgLu_zX4SPXlMq8AywJEPNxovFzcJjXMAqI9HSpCuttCEh4z_mwH8MxU-0B54.RYi2dFN3mw5jBagRSpWCJcFaua419Tln2ssUD3voils%26dib_tag%3Dse%26keywords%3Dguitars%26qid%3D1714183054%26sprefix%3Dguitars%252Caps%252C263%26sr%3D8-3-spons%26sp_csd%3Dd2lkZ2V0TmFtZT1zcF9hdGY%26psc%3D1',\n",
       " 'https://www.amazon.in/sspa/click?ie=UTF8&spc=MToyNzE4Mzk3MDg0ODQ0MTE3OjE3MTQxODMwNTQ6c3BfYXRmOjMwMDE1NTQ4NDMyMzczMjo6MDo6&url=%2FMedellin-Acoustic-Guitar-learning-Strings%2Fdp%2FB0CCNSN6S4%2Fref%3Dsr_1_4_sspa%3Fcrid%3DZHTUQUYV52AT%26dib%3DeyJ2IjoiMSJ9.Y1UxTEOx24iAUysPbVbJ2YwwrqWm2xZqTl7W4yWOzDKhKueS755oeD551GNy1OU2rn6RnVG5k26W8bMZy29yELEmq_QwQ6AAwZFU0BRfQ80T7aiHqQobn4Nybe5o6ceWpVdVY5EVnUe2FWZQ0DXHfGCfdHnz13aLOtLN-6rLVNUYJJcIVVmqzid9yX_1AMAAICrnvV3p1gA30TxSw-DHFhII0K4p1ei1cDGjAcLq960aQTHgLu_zX4SPXlMq8AywJEPNxovFzcJjXMAqI9HSpCuttCEh4z_mwH8MxU-0B54.RYi2dFN3mw5jBagRSpWCJcFaua419Tln2ssUD3voils%26dib_tag%3Dse%26keywords%3Dguitars%26qid%3D1714183054%26sprefix%3Dguitars%252Caps%252C263%26sr%3D8-4-spons%26sp_csd%3Dd2lkZ2V0TmFtZT1zcF9hdGY%26psc%3D1',\n",
       " 'https://www.amazon.in/Ju%C3%A2rez-Acoustic-Guitar-Cutaway-Strings/dp/B0BCQNLXVM/ref=sr_1_5?crid=ZHTUQUYV52AT&dib=eyJ2IjoiMSJ9.Y1UxTEOx24iAUysPbVbJ2YwwrqWm2xZqTl7W4yWOzDKhKueS755oeD551GNy1OU2rn6RnVG5k26W8bMZy29yELEmq_QwQ6AAwZFU0BRfQ80T7aiHqQobn4Nybe5o6ceWpVdVY5EVnUe2FWZQ0DXHfGCfdHnz13aLOtLN-6rLVNUYJJcIVVmqzid9yX_1AMAAICrnvV3p1gA30TxSw-DHFhII0K4p1ei1cDGjAcLq960aQTHgLu_zX4SPXlMq8AywJEPNxovFzcJjXMAqI9HSpCuttCEh4z_mwH8MxU-0B54.RYi2dFN3mw5jBagRSpWCJcFaua419Tln2ssUD3voils&dib_tag=se&keywords=guitars&qid=1714183054&sprefix=guitars%2Caps%2C263&sr=8-5',\n",
       " 'https://www.amazon.in/Juarez-Acoustic-Cutaway-038C-Strings/dp/B017NPCSLI/ref=sr_1_6?crid=ZHTUQUYV52AT&dib=eyJ2IjoiMSJ9.Y1UxTEOx24iAUysPbVbJ2YwwrqWm2xZqTl7W4yWOzDKhKueS755oeD551GNy1OU2rn6RnVG5k26W8bMZy29yELEmq_QwQ6AAwZFU0BRfQ80T7aiHqQobn4Nybe5o6ceWpVdVY5EVnUe2FWZQ0DXHfGCfdHnz13aLOtLN-6rLVNUYJJcIVVmqzid9yX_1AMAAICrnvV3p1gA30TxSw-DHFhII0K4p1ei1cDGjAcLq960aQTHgLu_zX4SPXlMq8AywJEPNxovFzcJjXMAqI9HSpCuttCEh4z_mwH8MxU-0B54.RYi2dFN3mw5jBagRSpWCJcFaua419Tln2ssUD3voils&dib_tag=se&keywords=guitars&qid=1714183054&sprefix=guitars%2Caps%2C263&sr=8-6',\n",
       " 'https://www.amazon.in/Intern-INT-38C-Acoustic-Guitar-Black/dp/B073B6TQQY/ref=sr_1_7?crid=ZHTUQUYV52AT&dib=eyJ2IjoiMSJ9.Y1UxTEOx24iAUysPbVbJ2YwwrqWm2xZqTl7W4yWOzDKhKueS755oeD551GNy1OU2rn6RnVG5k26W8bMZy29yELEmq_QwQ6AAwZFU0BRfQ80T7aiHqQobn4Nybe5o6ceWpVdVY5EVnUe2FWZQ0DXHfGCfdHnz13aLOtLN-6rLVNUYJJcIVVmqzid9yX_1AMAAICrnvV3p1gA30TxSw-DHFhII0K4p1ei1cDGjAcLq960aQTHgLu_zX4SPXlMq8AywJEPNxovFzcJjXMAqI9HSpCuttCEh4z_mwH8MxU-0B54.RYi2dFN3mw5jBagRSpWCJcFaua419Tln2ssUD3voils&dib_tag=se&keywords=guitars&qid=1714183054&sprefix=guitars%2Caps%2C263&sr=8-7',\n",
       " 'https://www.amazon.in/Acoustic-Cutaway-RDS-Strings-Sunburst/dp/B076QGY91P/ref=sr_1_8?crid=ZHTUQUYV52AT&dib=eyJ2IjoiMSJ9.Y1UxTEOx24iAUysPbVbJ2YwwrqWm2xZqTl7W4yWOzDKhKueS755oeD551GNy1OU2rn6RnVG5k26W8bMZy29yELEmq_QwQ6AAwZFU0BRfQ80T7aiHqQobn4Nybe5o6ceWpVdVY5EVnUe2FWZQ0DXHfGCfdHnz13aLOtLN-6rLVNUYJJcIVVmqzid9yX_1AMAAICrnvV3p1gA30TxSw-DHFhII0K4p1ei1cDGjAcLq960aQTHgLu_zX4SPXlMq8AywJEPNxovFzcJjXMAqI9HSpCuttCEh4z_mwH8MxU-0B54.RYi2dFN3mw5jBagRSpWCJcFaua419Tln2ssUD3voils&dib_tag=se&keywords=guitars&qid=1714183054&sprefix=guitars%2Caps%2C263&sr=8-8',\n",
       " 'https://www.amazon.in/Medellin-Acoustic-Guitar-learning-course/dp/B0CGRX6ZMF/ref=sr_1_9?crid=ZHTUQUYV52AT&dib=eyJ2IjoiMSJ9.Y1UxTEOx24iAUysPbVbJ2YwwrqWm2xZqTl7W4yWOzDKhKueS755oeD551GNy1OU2rn6RnVG5k26W8bMZy29yELEmq_QwQ6AAwZFU0BRfQ80T7aiHqQobn4Nybe5o6ceWpVdVY5EVnUe2FWZQ0DXHfGCfdHnz13aLOtLN-6rLVNUYJJcIVVmqzid9yX_1AMAAICrnvV3p1gA30TxSw-DHFhII0K4p1ei1cDGjAcLq960aQTHgLu_zX4SPXlMq8AywJEPNxovFzcJjXMAqI9HSpCuttCEh4z_mwH8MxU-0B54.RYi2dFN3mw5jBagRSpWCJcFaua419Tln2ssUD3voils&dib_tag=se&keywords=guitars&qid=1714183054&sprefix=guitars%2Caps%2C263&sr=8-9',\n",
       " 'https://www.amazon.in/Ju%C3%A2rez-JRZ38C-WH-Strings-Acoustic/dp/B072MFK4L6/ref=sr_1_10?crid=ZHTUQUYV52AT&dib=eyJ2IjoiMSJ9.Y1UxTEOx24iAUysPbVbJ2YwwrqWm2xZqTl7W4yWOzDKhKueS755oeD551GNy1OU2rn6RnVG5k26W8bMZy29yELEmq_QwQ6AAwZFU0BRfQ80T7aiHqQobn4Nybe5o6ceWpVdVY5EVnUe2FWZQ0DXHfGCfdHnz13aLOtLN-6rLVNUYJJcIVVmqzid9yX_1AMAAICrnvV3p1gA30TxSw-DHFhII0K4p1ei1cDGjAcLq960aQTHgLu_zX4SPXlMq8AywJEPNxovFzcJjXMAqI9HSpCuttCEh4z_mwH8MxU-0B54.RYi2dFN3mw5jBagRSpWCJcFaua419Tln2ssUD3voils&dib_tag=se&keywords=guitars&qid=1714183054&sprefix=guitars%2Caps%2C263&sr=8-10',\n",
       " 'https://www.amazon.in/JUAREZ-JRZ38C-Acoustic-Sunburst-Strings/dp/B01FYYTDS6/ref=sr_1_11?crid=ZHTUQUYV52AT&dib=eyJ2IjoiMSJ9.Y1UxTEOx24iAUysPbVbJ2YwwrqWm2xZqTl7W4yWOzDKhKueS755oeD551GNy1OU2rn6RnVG5k26W8bMZy29yELEmq_QwQ6AAwZFU0BRfQ80T7aiHqQobn4Nybe5o6ceWpVdVY5EVnUe2FWZQ0DXHfGCfdHnz13aLOtLN-6rLVNUYJJcIVVmqzid9yX_1AMAAICrnvV3p1gA30TxSw-DHFhII0K4p1ei1cDGjAcLq960aQTHgLu_zX4SPXlMq8AywJEPNxovFzcJjXMAqI9HSpCuttCEh4z_mwH8MxU-0B54.RYi2dFN3mw5jBagRSpWCJcFaua419Tln2ssUD3voils&dib_tag=se&keywords=guitars&qid=1714183054&sprefix=guitars%2Caps%2C263&sr=8-11',\n",
       " 'https://www.amazon.in/Yamaha-F280-Acoustic-Guitar-Natural/dp/B08317Y4VP/ref=sr_1_12?crid=ZHTUQUYV52AT&dib=eyJ2IjoiMSJ9.Y1UxTEOx24iAUysPbVbJ2YwwrqWm2xZqTl7W4yWOzDKhKueS755oeD551GNy1OU2rn6RnVG5k26W8bMZy29yELEmq_QwQ6AAwZFU0BRfQ80T7aiHqQobn4Nybe5o6ceWpVdVY5EVnUe2FWZQ0DXHfGCfdHnz13aLOtLN-6rLVNUYJJcIVVmqzid9yX_1AMAAICrnvV3p1gA30TxSw-DHFhII0K4p1ei1cDGjAcLq960aQTHgLu_zX4SPXlMq8AywJEPNxovFzcJjXMAqI9HSpCuttCEh4z_mwH8MxU-0B54.RYi2dFN3mw5jBagRSpWCJcFaua419Tln2ssUD3voils&dib_tag=se&keywords=guitars&qid=1714183054&sprefix=guitars%2Caps%2C263&sr=8-12',\n",
       " 'https://www.amazon.in/JUAREZ-JRZ38C-Acoustic-Sunburst-Strings/dp/B01FYYTDTU/ref=sr_1_13?crid=ZHTUQUYV52AT&dib=eyJ2IjoiMSJ9.Y1UxTEOx24iAUysPbVbJ2YwwrqWm2xZqTl7W4yWOzDKhKueS755oeD551GNy1OU2rn6RnVG5k26W8bMZy29yELEmq_QwQ6AAwZFU0BRfQ80T7aiHqQobn4Nybe5o6ceWpVdVY5EVnUe2FWZQ0DXHfGCfdHnz13aLOtLN-6rLVNUYJJcIVVmqzid9yX_1AMAAICrnvV3p1gA30TxSw-DHFhII0K4p1ei1cDGjAcLq960aQTHgLu_zX4SPXlMq8AywJEPNxovFzcJjXMAqI9HSpCuttCEh4z_mwH8MxU-0B54.RYi2dFN3mw5jBagRSpWCJcFaua419Tln2ssUD3voils&dib_tag=se&keywords=guitars&qid=1714183054&sprefix=guitars%2Caps%2C263&sr=8-13',\n",
       " 'https://www.amazon.in/Kadence-Frontier-Acoustic-Guitar-Strings/dp/B078GTJP5Y/ref=sr_1_14?crid=ZHTUQUYV52AT&dib=eyJ2IjoiMSJ9.Y1UxTEOx24iAUysPbVbJ2YwwrqWm2xZqTl7W4yWOzDKhKueS755oeD551GNy1OU2rn6RnVG5k26W8bMZy29yELEmq_QwQ6AAwZFU0BRfQ80T7aiHqQobn4Nybe5o6ceWpVdVY5EVnUe2FWZQ0DXHfGCfdHnz13aLOtLN-6rLVNUYJJcIVVmqzid9yX_1AMAAICrnvV3p1gA30TxSw-DHFhII0K4p1ei1cDGjAcLq960aQTHgLu_zX4SPXlMq8AywJEPNxovFzcJjXMAqI9HSpCuttCEh4z_mwH8MxU-0B54.RYi2dFN3mw5jBagRSpWCJcFaua419Tln2ssUD3voils&dib_tag=se&keywords=guitars&qid=1714183054&sprefix=guitars%2Caps%2C263&sr=8-14',\n",
       " 'https://www.amazon.in/Acoustic-Strings-Rosette-Rosewood-Fretboard/dp/B09FPQX7RN/ref=sr_1_15?crid=ZHTUQUYV52AT&dib=eyJ2IjoiMSJ9.Y1UxTEOx24iAUysPbVbJ2YwwrqWm2xZqTl7W4yWOzDKhKueS755oeD551GNy1OU2rn6RnVG5k26W8bMZy29yELEmq_QwQ6AAwZFU0BRfQ80T7aiHqQobn4Nybe5o6ceWpVdVY5EVnUe2FWZQ0DXHfGCfdHnz13aLOtLN-6rLVNUYJJcIVVmqzid9yX_1AMAAICrnvV3p1gA30TxSw-DHFhII0K4p1ei1cDGjAcLq960aQTHgLu_zX4SPXlMq8AywJEPNxovFzcJjXMAqI9HSpCuttCEh4z_mwH8MxU-0B54.RYi2dFN3mw5jBagRSpWCJcFaua419Tln2ssUD3voils&dib_tag=se&keywords=guitars&qid=1714183054&sprefix=guitars%2Caps%2C263&sr=8-15',\n",
       " 'https://www.amazon.in/Henrix-Acoustic-Guitar-Die-cast-Dual-action/dp/B07VNDW6QF/ref=sr_1_16?crid=ZHTUQUYV52AT&dib=eyJ2IjoiMSJ9.Y1UxTEOx24iAUysPbVbJ2YwwrqWm2xZqTl7W4yWOzDKhKueS755oeD551GNy1OU2rn6RnVG5k26W8bMZy29yELEmq_QwQ6AAwZFU0BRfQ80T7aiHqQobn4Nybe5o6ceWpVdVY5EVnUe2FWZQ0DXHfGCfdHnz13aLOtLN-6rLVNUYJJcIVVmqzid9yX_1AMAAICrnvV3p1gA30TxSw-DHFhII0K4p1ei1cDGjAcLq960aQTHgLu_zX4SPXlMq8AywJEPNxovFzcJjXMAqI9HSpCuttCEh4z_mwH8MxU-0B54.RYi2dFN3mw5jBagRSpWCJcFaua419Tln2ssUD3voils&dib_tag=se&keywords=guitars&qid=1714183054&sprefix=guitars%2Caps%2C263&sr=8-16',\n",
       " 'https://www.amazon.in/Yamaha-FSX80C-Acoustic-Cutaway-Natural/dp/B09HL3GFZF/ref=sr_1_17?crid=ZHTUQUYV52AT&dib=eyJ2IjoiMSJ9.Y1UxTEOx24iAUysPbVbJ2YwwrqWm2xZqTl7W4yWOzDKhKueS755oeD551GNy1OU2rn6RnVG5k26W8bMZy29yELEmq_QwQ6AAwZFU0BRfQ80T7aiHqQobn4Nybe5o6ceWpVdVY5EVnUe2FWZQ0DXHfGCfdHnz13aLOtLN-6rLVNUYJJcIVVmqzid9yX_1AMAAICrnvV3p1gA30TxSw-DHFhII0K4p1ei1cDGjAcLq960aQTHgLu_zX4SPXlMq8AywJEPNxovFzcJjXMAqI9HSpCuttCEh4z_mwH8MxU-0B54.RYi2dFN3mw5jBagRSpWCJcFaua419Tln2ssUD3voils&dib_tag=se&keywords=guitars&qid=1714183054&sprefix=guitars%2Caps%2C263&sr=8-17',\n",
       " 'https://www.amazon.in/JRZ38C-VTS-Strings-Acoustic-Cutaway/dp/B072MFLQC9/ref=sr_1_18?crid=ZHTUQUYV52AT&dib=eyJ2IjoiMSJ9.Y1UxTEOx24iAUysPbVbJ2YwwrqWm2xZqTl7W4yWOzDKhKueS755oeD551GNy1OU2rn6RnVG5k26W8bMZy29yELEmq_QwQ6AAwZFU0BRfQ80T7aiHqQobn4Nybe5o6ceWpVdVY5EVnUe2FWZQ0DXHfGCfdHnz13aLOtLN-6rLVNUYJJcIVVmqzid9yX_1AMAAICrnvV3p1gA30TxSw-DHFhII0K4p1ei1cDGjAcLq960aQTHgLu_zX4SPXlMq8AywJEPNxovFzcJjXMAqI9HSpCuttCEh4z_mwH8MxU-0B54.RYi2dFN3mw5jBagRSpWCJcFaua419Tln2ssUD3voils&dib_tag=se&keywords=guitars&qid=1714183054&sprefix=guitars%2Caps%2C263&sr=8-18',\n",
       " 'https://www.amazon.in/Intern-Acoustic-Steel-string-plectrums-INT-38C-WH/dp/B09LR94Z2X/ref=sr_1_19?crid=ZHTUQUYV52AT&dib=eyJ2IjoiMSJ9.Y1UxTEOx24iAUysPbVbJ2YwwrqWm2xZqTl7W4yWOzDKhKueS755oeD551GNy1OU2rn6RnVG5k26W8bMZy29yELEmq_QwQ6AAwZFU0BRfQ80T7aiHqQobn4Nybe5o6ceWpVdVY5EVnUe2FWZQ0DXHfGCfdHnz13aLOtLN-6rLVNUYJJcIVVmqzid9yX_1AMAAICrnvV3p1gA30TxSw-DHFhII0K4p1ei1cDGjAcLq960aQTHgLu_zX4SPXlMq8AywJEPNxovFzcJjXMAqI9HSpCuttCEh4z_mwH8MxU-0B54.RYi2dFN3mw5jBagRSpWCJcFaua419Tln2ssUD3voils&dib_tag=se&keywords=guitars&qid=1714183054&sprefix=guitars%2Caps%2C263&sr=8-19',\n",
       " 'https://www.amazon.in/JUAREZ-JRZ38C-TBLSNA/dp/B0BCQKQ6CS/ref=sr_1_20?crid=ZHTUQUYV52AT&dib=eyJ2IjoiMSJ9.Y1UxTEOx24iAUysPbVbJ2YwwrqWm2xZqTl7W4yWOzDKhKueS755oeD551GNy1OU2rn6RnVG5k26W8bMZy29yELEmq_QwQ6AAwZFU0BRfQ80T7aiHqQobn4Nybe5o6ceWpVdVY5EVnUe2FWZQ0DXHfGCfdHnz13aLOtLN-6rLVNUYJJcIVVmqzid9yX_1AMAAICrnvV3p1gA30TxSw-DHFhII0K4p1ei1cDGjAcLq960aQTHgLu_zX4SPXlMq8AywJEPNxovFzcJjXMAqI9HSpCuttCEh4z_mwH8MxU-0B54.RYi2dFN3mw5jBagRSpWCJcFaua419Tln2ssUD3voils&dib_tag=se&keywords=guitars&qid=1714183054&sprefix=guitars%2Caps%2C263&sr=8-20',\n",
       " 'https://www.amazon.in/sspa/click?ie=UTF8&spc=MToyNzE4Mzk3MDg0ODQ0MTE3OjE3MTQxODMwNTQ6c3BfbXRmOjMwMDE1NTQ4NDMyMzYzMjo6MDo6&url=%2FMedellin-Acoustic-Guitar-learning-Strings%2Fdp%2FB0CCNSN9BV%2Fref%3Dsr_1_21_sspa%3Fcrid%3DZHTUQUYV52AT%26dib%3DeyJ2IjoiMSJ9.Y1UxTEOx24iAUysPbVbJ2YwwrqWm2xZqTl7W4yWOzDKhKueS755oeD551GNy1OU2rn6RnVG5k26W8bMZy29yELEmq_QwQ6AAwZFU0BRfQ80T7aiHqQobn4Nybe5o6ceWpVdVY5EVnUe2FWZQ0DXHfGCfdHnz13aLOtLN-6rLVNUYJJcIVVmqzid9yX_1AMAAICrnvV3p1gA30TxSw-DHFhII0K4p1ei1cDGjAcLq960aQTHgLu_zX4SPXlMq8AywJEPNxovFzcJjXMAqI9HSpCuttCEh4z_mwH8MxU-0B54.RYi2dFN3mw5jBagRSpWCJcFaua419Tln2ssUD3voils%26dib_tag%3Dse%26keywords%3Dguitars%26qid%3D1714183054%26sprefix%3Dguitars%252Caps%252C263%26sr%3D8-21-spons%26sp_csd%3Dd2lkZ2V0TmFtZT1zcF9tdGY%26psc%3D1',\n",
       " 'https://www.amazon.in/sspa/click?ie=UTF8&spc=MToyNzE4Mzk3MDg0ODQ0MTE3OjE3MTQxODMwNTQ6c3BfbXRmOjIwMDg4NDY1OTA5NDA0OjowOjo&url=%2FHenrix-Cutaway-Acoustic-Die-Cast-Tuners%2Fdp%2FB07KMXDXBV%2Fref%3Dsr_1_22_sspa%3Fcrid%3DZHTUQUYV52AT%26dib%3DeyJ2IjoiMSJ9.Y1UxTEOx24iAUysPbVbJ2YwwrqWm2xZqTl7W4yWOzDKhKueS755oeD551GNy1OU2rn6RnVG5k26W8bMZy29yELEmq_QwQ6AAwZFU0BRfQ80T7aiHqQobn4Nybe5o6ceWpVdVY5EVnUe2FWZQ0DXHfGCfdHnz13aLOtLN-6rLVNUYJJcIVVmqzid9yX_1AMAAICrnvV3p1gA30TxSw-DHFhII0K4p1ei1cDGjAcLq960aQTHgLu_zX4SPXlMq8AywJEPNxovFzcJjXMAqI9HSpCuttCEh4z_mwH8MxU-0B54.RYi2dFN3mw5jBagRSpWCJcFaua419Tln2ssUD3voils%26dib_tag%3Dse%26keywords%3Dguitars%26qid%3D1714183054%26sprefix%3Dguitars%252Caps%252C263%26sr%3D8-22-spons%26sp_csd%3Dd2lkZ2V0TmFtZT1zcF9tdGY%26psc%3D1',\n",
       " 'https://www.amazon.in/sspa/click?ie=UTF8&spc=MToyNzE4Mzk3MDg0ODQ0MTE3OjE3MTQxODMwNTQ6c3BfbXRmOjIwMTAzNTI4NjU2Nzk4OjowOjo&url=%2FBlueberry-Acoustic-Inbuilt-Strings-Classic%2Fdp%2FB09VLF7G2D%2Fref%3Dsr_1_23_sspa%3Fcrid%3DZHTUQUYV52AT%26dib%3DeyJ2IjoiMSJ9.Y1UxTEOx24iAUysPbVbJ2YwwrqWm2xZqTl7W4yWOzDKhKueS755oeD551GNy1OU2rn6RnVG5k26W8bMZy29yELEmq_QwQ6AAwZFU0BRfQ80T7aiHqQobn4Nybe5o6ceWpVdVY5EVnUe2FWZQ0DXHfGCfdHnz13aLOtLN-6rLVNUYJJcIVVmqzid9yX_1AMAAICrnvV3p1gA30TxSw-DHFhII0K4p1ei1cDGjAcLq960aQTHgLu_zX4SPXlMq8AywJEPNxovFzcJjXMAqI9HSpCuttCEh4z_mwH8MxU-0B54.RYi2dFN3mw5jBagRSpWCJcFaua419Tln2ssUD3voils%26dib_tag%3Dse%26keywords%3Dguitars%26qid%3D1714183054%26sprefix%3Dguitars%252Caps%252C263%26sr%3D8-23-spons%26sp_csd%3Dd2lkZ2V0TmFtZT1zcF9tdGY%26psc%3D1',\n",
       " 'https://www.amazon.in/sspa/click?ie=UTF8&spc=MToyNzE4Mzk3MDg0ODQ0MTE3OjE3MTQxODMwNTQ6c3BfbXRmOjMwMDE0MTgzMjcwNjkzMjo6MDo6&url=%2FRichtone-B239C-Natural-cutaway-Acoustic%2Fdp%2FB0CNW9RZ9D%2Fref%3Dsr_1_24_sspa%3Fcrid%3DZHTUQUYV52AT%26dib%3DeyJ2IjoiMSJ9.Y1UxTEOx24iAUysPbVbJ2YwwrqWm2xZqTl7W4yWOzDKhKueS755oeD551GNy1OU2rn6RnVG5k26W8bMZy29yELEmq_QwQ6AAwZFU0BRfQ80T7aiHqQobn4Nybe5o6ceWpVdVY5EVnUe2FWZQ0DXHfGCfdHnz13aLOtLN-6rLVNUYJJcIVVmqzid9yX_1AMAAICrnvV3p1gA30TxSw-DHFhII0K4p1ei1cDGjAcLq960aQTHgLu_zX4SPXlMq8AywJEPNxovFzcJjXMAqI9HSpCuttCEh4z_mwH8MxU-0B54.RYi2dFN3mw5jBagRSpWCJcFaua419Tln2ssUD3voils%26dib_tag%3Dse%26keywords%3Dguitars%26qid%3D1714183054%26sprefix%3Dguitars%252Caps%252C263%26sr%3D8-24-spons%26sp_csd%3Dd2lkZ2V0TmFtZT1zcF9tdGY%26psc%3D1',\n",
       " 'https://www.amazon.in/JUAREZ-JRZ38C-Acoustic-Natural-Strings/dp/B01FYYTDWC/ref=sr_1_25?crid=ZHTUQUYV52AT&dib=eyJ2IjoiMSJ9.Y1UxTEOx24iAUysPbVbJ2YwwrqWm2xZqTl7W4yWOzDKhKueS755oeD551GNy1OU2rn6RnVG5k26W8bMZy29yELEmq_QwQ6AAwZFU0BRfQ80T7aiHqQobn4Nybe5o6ceWpVdVY5EVnUe2FWZQ0DXHfGCfdHnz13aLOtLN-6rLVNUYJJcIVVmqzid9yX_1AMAAICrnvV3p1gA30TxSw-DHFhII0K4p1ei1cDGjAcLq960aQTHgLu_zX4SPXlMq8AywJEPNxovFzcJjXMAqI9HSpCuttCEh4z_mwH8MxU-0B54.RYi2dFN3mw5jBagRSpWCJcFaua419Tln2ssUD3voils&dib_tag=se&keywords=guitars&qid=1714183054&sprefix=guitars%2Caps%2C263&sr=8-25',\n",
       " 'https://www.amazon.in/JUAREZ-JRZ38C-Handed-Acoustic-Strings/dp/B01FYYTDX6/ref=sr_1_26?crid=ZHTUQUYV52AT&dib=eyJ2IjoiMSJ9.Y1UxTEOx24iAUysPbVbJ2YwwrqWm2xZqTl7W4yWOzDKhKueS755oeD551GNy1OU2rn6RnVG5k26W8bMZy29yELEmq_QwQ6AAwZFU0BRfQ80T7aiHqQobn4Nybe5o6ceWpVdVY5EVnUe2FWZQ0DXHfGCfdHnz13aLOtLN-6rLVNUYJJcIVVmqzid9yX_1AMAAICrnvV3p1gA30TxSw-DHFhII0K4p1ei1cDGjAcLq960aQTHgLu_zX4SPXlMq8AywJEPNxovFzcJjXMAqI9HSpCuttCEh4z_mwH8MxU-0B54.RYi2dFN3mw5jBagRSpWCJcFaua419Tln2ssUD3voils&dib_tag=se&keywords=guitars&qid=1714183054&sprefix=guitars%2Caps%2C263&sr=8-26',\n",
       " 'https://www.amazon.in/Juarez-Strings-Acoustic-Cutaway-Zebrawood/dp/B072Q9L8DG/ref=sr_1_27?crid=ZHTUQUYV52AT&dib=eyJ2IjoiMSJ9.Y1UxTEOx24iAUysPbVbJ2YwwrqWm2xZqTl7W4yWOzDKhKueS755oeD551GNy1OU2rn6RnVG5k26W8bMZy29yELEmq_QwQ6AAwZFU0BRfQ80T7aiHqQobn4Nybe5o6ceWpVdVY5EVnUe2FWZQ0DXHfGCfdHnz13aLOtLN-6rLVNUYJJcIVVmqzid9yX_1AMAAICrnvV3p1gA30TxSw-DHFhII0K4p1ei1cDGjAcLq960aQTHgLu_zX4SPXlMq8AywJEPNxovFzcJjXMAqI9HSpCuttCEh4z_mwH8MxU-0B54.RYi2dFN3mw5jBagRSpWCJcFaua419Tln2ssUD3voils&dib_tag=se&keywords=guitars&qid=1714183054&sprefix=guitars%2Caps%2C263&sr=8-27',\n",
       " 'https://www.amazon.in/YAMAHA-FS80C-CONCERT-CUTAWAY-GUITAR/dp/B08WBBVMVJ/ref=sr_1_28?crid=ZHTUQUYV52AT&dib=eyJ2IjoiMSJ9.Y1UxTEOx24iAUysPbVbJ2YwwrqWm2xZqTl7W4yWOzDKhKueS755oeD551GNy1OU2rn6RnVG5k26W8bMZy29yELEmq_QwQ6AAwZFU0BRfQ80T7aiHqQobn4Nybe5o6ceWpVdVY5EVnUe2FWZQ0DXHfGCfdHnz13aLOtLN-6rLVNUYJJcIVVmqzid9yX_1AMAAICrnvV3p1gA30TxSw-DHFhII0K4p1ei1cDGjAcLq960aQTHgLu_zX4SPXlMq8AywJEPNxovFzcJjXMAqI9HSpCuttCEh4z_mwH8MxU-0B54.RYi2dFN3mw5jBagRSpWCJcFaua419Tln2ssUD3voils&dib_tag=se&keywords=guitars&qid=1714183054&sprefix=guitars%2Caps%2C263&sr=8-28',\n",
       " 'https://www.amazon.in/Yamaha-Classical-Guitar-C40-02/dp/B003UGCUFE/ref=sr_1_29?crid=ZHTUQUYV52AT&dib=eyJ2IjoiMSJ9.Y1UxTEOx24iAUysPbVbJ2YwwrqWm2xZqTl7W4yWOzDKhKueS755oeD551GNy1OU2rn6RnVG5k26W8bMZy29yELEmq_QwQ6AAwZFU0BRfQ80T7aiHqQobn4Nybe5o6ceWpVdVY5EVnUe2FWZQ0DXHfGCfdHnz13aLOtLN-6rLVNUYJJcIVVmqzid9yX_1AMAAICrnvV3p1gA30TxSw-DHFhII0K4p1ei1cDGjAcLq960aQTHgLu_zX4SPXlMq8AywJEPNxovFzcJjXMAqI9HSpCuttCEh4z_mwH8MxU-0B54.RYi2dFN3mw5jBagRSpWCJcFaua419Tln2ssUD3voils&dib_tag=se&keywords=guitars&qid=1714183054&sprefix=guitars%2Caps%2C263&sr=8-29',\n",
       " 'https://www.amazon.in/JUAREZ-JRZ38C-BKNA/dp/B0BCQNVPRB/ref=sr_1_30?crid=ZHTUQUYV52AT&dib=eyJ2IjoiMSJ9.Y1UxTEOx24iAUysPbVbJ2YwwrqWm2xZqTl7W4yWOzDKhKueS755oeD551GNy1OU2rn6RnVG5k26W8bMZy29yELEmq_QwQ6AAwZFU0BRfQ80T7aiHqQobn4Nybe5o6ceWpVdVY5EVnUe2FWZQ0DXHfGCfdHnz13aLOtLN-6rLVNUYJJcIVVmqzid9yX_1AMAAICrnvV3p1gA30TxSw-DHFhII0K4p1ei1cDGjAcLq960aQTHgLu_zX4SPXlMq8AywJEPNxovFzcJjXMAqI9HSpCuttCEh4z_mwH8MxU-0B54.RYi2dFN3mw5jBagRSpWCJcFaua419Tln2ssUD3voils&dib_tag=se&keywords=guitars&qid=1714183054&sprefix=guitars%2Caps%2C263&sr=8-30',\n",
       " 'https://www.amazon.in/Juarez-Acoustic-Cutaway-BK-Strings/dp/B076T3RHMG/ref=sr_1_31?crid=ZHTUQUYV52AT&dib=eyJ2IjoiMSJ9.Y1UxTEOx24iAUysPbVbJ2YwwrqWm2xZqTl7W4yWOzDKhKueS755oeD551GNy1OU2rn6RnVG5k26W8bMZy29yELEmq_QwQ6AAwZFU0BRfQ80T7aiHqQobn4Nybe5o6ceWpVdVY5EVnUe2FWZQ0DXHfGCfdHnz13aLOtLN-6rLVNUYJJcIVVmqzid9yX_1AMAAICrnvV3p1gA30TxSw-DHFhII0K4p1ei1cDGjAcLq960aQTHgLu_zX4SPXlMq8AywJEPNxovFzcJjXMAqI9HSpCuttCEh4z_mwH8MxU-0B54.RYi2dFN3mw5jBagRSpWCJcFaua419Tln2ssUD3voils&dib_tag=se&keywords=guitars&qid=1714183054&sprefix=guitars%2Caps%2C263&sr=8-31',\n",
       " 'https://www.amazon.in/Yamaha-FS-100C-6-String-Acoustic-without/dp/B00PAS9CK6/ref=sr_1_32?crid=ZHTUQUYV52AT&dib=eyJ2IjoiMSJ9.Y1UxTEOx24iAUysPbVbJ2YwwrqWm2xZqTl7W4yWOzDKhKueS755oeD551GNy1OU2rn6RnVG5k26W8bMZy29yELEmq_QwQ6AAwZFU0BRfQ80T7aiHqQobn4Nybe5o6ceWpVdVY5EVnUe2FWZQ0DXHfGCfdHnz13aLOtLN-6rLVNUYJJcIVVmqzid9yX_1AMAAICrnvV3p1gA30TxSw-DHFhII0K4p1ei1cDGjAcLq960aQTHgLu_zX4SPXlMq8AywJEPNxovFzcJjXMAqI9HSpCuttCEh4z_mwH8MxU-0B54.RYi2dFN3mw5jBagRSpWCJcFaua419Tln2ssUD3voils&dib_tag=se&keywords=guitars&qid=1714183054&sprefix=guitars%2Caps%2C263&sr=8-32',\n",
       " 'https://www.amazon.in/Juarez-JRZ-ST01-6-String-Electric-Without/dp/B01FYZSOGM/ref=sr_1_33?crid=ZHTUQUYV52AT&dib=eyJ2IjoiMSJ9.Y1UxTEOx24iAUysPbVbJ2YwwrqWm2xZqTl7W4yWOzDKhKueS755oeD551GNy1OU2rn6RnVG5k26W8bMZy29yELEmq_QwQ6AAwZFU0BRfQ80T7aiHqQobn4Nybe5o6ceWpVdVY5EVnUe2FWZQ0DXHfGCfdHnz13aLOtLN-6rLVNUYJJcIVVmqzid9yX_1AMAAICrnvV3p1gA30TxSw-DHFhII0K4p1ei1cDGjAcLq960aQTHgLu_zX4SPXlMq8AywJEPNxovFzcJjXMAqI9HSpCuttCEh4z_mwH8MxU-0B54.RYi2dFN3mw5jBagRSpWCJcFaua419Tln2ssUD3voils&dib_tag=se&keywords=guitars&qid=1714183054&sprefix=guitars%2Caps%2C263&sr=8-33',\n",
       " 'https://www.amazon.in/Intern-38-inch-Cutaway-Design-Acoustic/dp/B07X4PN85R/ref=sr_1_34?crid=ZHTUQUYV52AT&dib=eyJ2IjoiMSJ9.Y1UxTEOx24iAUysPbVbJ2YwwrqWm2xZqTl7W4yWOzDKhKueS755oeD551GNy1OU2rn6RnVG5k26W8bMZy29yELEmq_QwQ6AAwZFU0BRfQ80T7aiHqQobn4Nybe5o6ceWpVdVY5EVnUe2FWZQ0DXHfGCfdHnz13aLOtLN-6rLVNUYJJcIVVmqzid9yX_1AMAAICrnvV3p1gA30TxSw-DHFhII0K4p1ei1cDGjAcLq960aQTHgLu_zX4SPXlMq8AywJEPNxovFzcJjXMAqI9HSpCuttCEh4z_mwH8MxU-0B54.RYi2dFN3mw5jBagRSpWCJcFaua419Tln2ssUD3voils&dib_tag=se&keywords=guitars&qid=1714183054&sprefix=guitars%2Caps%2C263&sr=8-34',\n",
       " 'https://www.amazon.in/Yamaha-FSX80C-Acoustic-Cutaway-Guitar/dp/B09HL5WFDX/ref=sr_1_35?crid=ZHTUQUYV52AT&dib=eyJ2IjoiMSJ9.Y1UxTEOx24iAUysPbVbJ2YwwrqWm2xZqTl7W4yWOzDKhKueS755oeD551GNy1OU2rn6RnVG5k26W8bMZy29yELEmq_QwQ6AAwZFU0BRfQ80T7aiHqQobn4Nybe5o6ceWpVdVY5EVnUe2FWZQ0DXHfGCfdHnz13aLOtLN-6rLVNUYJJcIVVmqzid9yX_1AMAAICrnvV3p1gA30TxSw-DHFhII0K4p1ei1cDGjAcLq960aQTHgLu_zX4SPXlMq8AywJEPNxovFzcJjXMAqI9HSpCuttCEh4z_mwH8MxU-0B54.RYi2dFN3mw5jBagRSpWCJcFaua419Tln2ssUD3voils&dib_tag=se&keywords=guitars&qid=1714183054&sprefix=guitars%2Caps%2C263&sr=8-35',\n",
       " 'https://www.amazon.in/Kadence-Frontier-Acoustic-Guitar-Strings/dp/B01GDZ46AA/ref=sr_1_36?crid=ZHTUQUYV52AT&dib=eyJ2IjoiMSJ9.Y1UxTEOx24iAUysPbVbJ2YwwrqWm2xZqTl7W4yWOzDKhKueS755oeD551GNy1OU2rn6RnVG5k26W8bMZy29yELEmq_QwQ6AAwZFU0BRfQ80T7aiHqQobn4Nybe5o6ceWpVdVY5EVnUe2FWZQ0DXHfGCfdHnz13aLOtLN-6rLVNUYJJcIVVmqzid9yX_1AMAAICrnvV3p1gA30TxSw-DHFhII0K4p1ei1cDGjAcLq960aQTHgLu_zX4SPXlMq8AywJEPNxovFzcJjXMAqI9HSpCuttCEh4z_mwH8MxU-0B54.RYi2dFN3mw5jBagRSpWCJcFaua419Tln2ssUD3voils&dib_tag=se&keywords=guitars&qid=1714183054&sprefix=guitars%2Caps%2C263&sr=8-36',\n",
       " 'https://www.amazon.in/Kadence-Acoustica-Electric-Acoustic-fretboard/dp/B0CZ8RQYS1/ref=sr_1_37?crid=ZHTUQUYV52AT&dib=eyJ2IjoiMSJ9.Y1UxTEOx24iAUysPbVbJ2YwwrqWm2xZqTl7W4yWOzDKhKueS755oeD551GNy1OU2rn6RnVG5k26W8bMZy29yELEmq_QwQ6AAwZFU0BRfQ80T7aiHqQobn4Nybe5o6ceWpVdVY5EVnUe2FWZQ0DXHfGCfdHnz13aLOtLN-6rLVNUYJJcIVVmqzid9yX_1AMAAICrnvV3p1gA30TxSw-DHFhII0K4p1ei1cDGjAcLq960aQTHgLu_zX4SPXlMq8AywJEPNxovFzcJjXMAqI9HSpCuttCEh4z_mwH8MxU-0B54.RYi2dFN3mw5jBagRSpWCJcFaua419Tln2ssUD3voils&dib_tag=se&keywords=guitars&qid=1714183054&sprefix=guitars%2Caps%2C263&sr=8-37',\n",
       " 'https://www.amazon.in/YAMAHA-NATURAL-CONCERT-CUTAWAY-GUITAR/dp/B08KW4DRKL/ref=sr_1_38?crid=ZHTUQUYV52AT&dib=eyJ2IjoiMSJ9.Y1UxTEOx24iAUysPbVbJ2YwwrqWm2xZqTl7W4yWOzDKhKueS755oeD551GNy1OU2rn6RnVG5k26W8bMZy29yELEmq_QwQ6AAwZFU0BRfQ80T7aiHqQobn4Nybe5o6ceWpVdVY5EVnUe2FWZQ0DXHfGCfdHnz13aLOtLN-6rLVNUYJJcIVVmqzid9yX_1AMAAICrnvV3p1gA30TxSw-DHFhII0K4p1ei1cDGjAcLq960aQTHgLu_zX4SPXlMq8AywJEPNxovFzcJjXMAqI9HSpCuttCEh4z_mwH8MxU-0B54.RYi2dFN3mw5jBagRSpWCJcFaua419Tln2ssUD3voils&dib_tag=se&keywords=guitars&qid=1714183054&sprefix=guitars%2Caps%2C263&sr=8-38',\n",
       " 'https://www.amazon.in/JUAREZ-JRZ38C-Handed-Acoustic-Strings/dp/B01FYYTDW2/ref=sr_1_39?crid=ZHTUQUYV52AT&dib=eyJ2IjoiMSJ9.Y1UxTEOx24iAUysPbVbJ2YwwrqWm2xZqTl7W4yWOzDKhKueS755oeD551GNy1OU2rn6RnVG5k26W8bMZy29yELEmq_QwQ6AAwZFU0BRfQ80T7aiHqQobn4Nybe5o6ceWpVdVY5EVnUe2FWZQ0DXHfGCfdHnz13aLOtLN-6rLVNUYJJcIVVmqzid9yX_1AMAAICrnvV3p1gA30TxSw-DHFhII0K4p1ei1cDGjAcLq960aQTHgLu_zX4SPXlMq8AywJEPNxovFzcJjXMAqI9HSpCuttCEh4z_mwH8MxU-0B54.RYi2dFN3mw5jBagRSpWCJcFaua419Tln2ssUD3voils&dib_tag=se&keywords=guitars&qid=1714183054&sprefix=guitars%2Caps%2C263&sr=8-39',\n",
       " 'https://www.amazon.in/Strings-Straps-String-winder-Polishing/dp/B07RV9FJ2Z/ref=sr_1_40?crid=ZHTUQUYV52AT&dib=eyJ2IjoiMSJ9.Y1UxTEOx24iAUysPbVbJ2YwwrqWm2xZqTl7W4yWOzDKhKueS755oeD551GNy1OU2rn6RnVG5k26W8bMZy29yELEmq_QwQ6AAwZFU0BRfQ80T7aiHqQobn4Nybe5o6ceWpVdVY5EVnUe2FWZQ0DXHfGCfdHnz13aLOtLN-6rLVNUYJJcIVVmqzid9yX_1AMAAICrnvV3p1gA30TxSw-DHFhII0K4p1ei1cDGjAcLq960aQTHgLu_zX4SPXlMq8AywJEPNxovFzcJjXMAqI9HSpCuttCEh4z_mwH8MxU-0B54.RYi2dFN3mw5jBagRSpWCJcFaua419Tln2ssUD3voils&dib_tag=se&keywords=guitars&qid=1714183054&sprefix=guitars%2Caps%2C263&sr=8-40',\n",
       " 'https://www.amazon.in/Medellin-Acoustic-Guitar-learning-Strings/dp/B0CCNSN9BV/ref=sr_1_41?crid=ZHTUQUYV52AT&dib=eyJ2IjoiMSJ9.Y1UxTEOx24iAUysPbVbJ2YwwrqWm2xZqTl7W4yWOzDKhKueS755oeD551GNy1OU2rn6RnVG5k26W8bMZy29yELEmq_QwQ6AAwZFU0BRfQ80T7aiHqQobn4Nybe5o6ceWpVdVY5EVnUe2FWZQ0DXHfGCfdHnz13aLOtLN-6rLVNUYJJcIVVmqzid9yX_1AMAAICrnvV3p1gA30TxSw-DHFhII0K4p1ei1cDGjAcLq960aQTHgLu_zX4SPXlMq8AywJEPNxovFzcJjXMAqI9HSpCuttCEh4z_mwH8MxU-0B54.RYi2dFN3mw5jBagRSpWCJcFaua419Tln2ssUD3voils&dib_tag=se&keywords=guitars&qid=1714183054&sprefix=guitars%2Caps%2C263&sr=8-41',\n",
       " 'https://www.amazon.in/Yamaha-F310-6-Strings-Acoustic-Natural/dp/B000RVYW7E/ref=sr_1_42?crid=ZHTUQUYV52AT&dib=eyJ2IjoiMSJ9.Y1UxTEOx24iAUysPbVbJ2YwwrqWm2xZqTl7W4yWOzDKhKueS755oeD551GNy1OU2rn6RnVG5k26W8bMZy29yELEmq_QwQ6AAwZFU0BRfQ80T7aiHqQobn4Nybe5o6ceWpVdVY5EVnUe2FWZQ0DXHfGCfdHnz13aLOtLN-6rLVNUYJJcIVVmqzid9yX_1AMAAICrnvV3p1gA30TxSw-DHFhII0K4p1ei1cDGjAcLq960aQTHgLu_zX4SPXlMq8AywJEPNxovFzcJjXMAqI9HSpCuttCEh4z_mwH8MxU-0B54.RYi2dFN3mw5jBagRSpWCJcFaua419Tln2ssUD3voils&dib_tag=se&keywords=guitars&qid=1714183054&sprefix=guitars%2Caps%2C263&sr=8-42',\n",
       " 'https://www.amazon.in/JUAREZ-JRZ38C-3TSNA/dp/B0BCQQRDF3/ref=sr_1_43?crid=ZHTUQUYV52AT&dib=eyJ2IjoiMSJ9.Y1UxTEOx24iAUysPbVbJ2YwwrqWm2xZqTl7W4yWOzDKhKueS755oeD551GNy1OU2rn6RnVG5k26W8bMZy29yELEmq_QwQ6AAwZFU0BRfQ80T7aiHqQobn4Nybe5o6ceWpVdVY5EVnUe2FWZQ0DXHfGCfdHnz13aLOtLN-6rLVNUYJJcIVVmqzid9yX_1AMAAICrnvV3p1gA30TxSw-DHFhII0K4p1ei1cDGjAcLq960aQTHgLu_zX4SPXlMq8AywJEPNxovFzcJjXMAqI9HSpCuttCEh4z_mwH8MxU-0B54.RYi2dFN3mw5jBagRSpWCJcFaua419Tln2ssUD3voils&dib_tag=se&keywords=guitars&qid=1714183054&sprefix=guitars%2Caps%2C263&sr=8-43',\n",
       " 'https://www.amazon.in/Kadence-Slowhand-Premium-Acoustic-Instrument/dp/B077SZ667X/ref=sr_1_44?crid=ZHTUQUYV52AT&dib=eyJ2IjoiMSJ9.Y1UxTEOx24iAUysPbVbJ2YwwrqWm2xZqTl7W4yWOzDKhKueS755oeD551GNy1OU2rn6RnVG5k26W8bMZy29yELEmq_QwQ6AAwZFU0BRfQ80T7aiHqQobn4Nybe5o6ceWpVdVY5EVnUe2FWZQ0DXHfGCfdHnz13aLOtLN-6rLVNUYJJcIVVmqzid9yX_1AMAAICrnvV3p1gA30TxSw-DHFhII0K4p1ei1cDGjAcLq960aQTHgLu_zX4SPXlMq8AywJEPNxovFzcJjXMAqI9HSpCuttCEh4z_mwH8MxU-0B54.RYi2dFN3mw5jBagRSpWCJcFaua419Tln2ssUD3voils&dib_tag=se&keywords=guitars&qid=1714183054&sprefix=guitars%2Caps%2C263&sr=8-44',\n",
       " 'https://www.amazon.in/Yamaha-Acoustic-Guitar-Tobacco-Sunburst/dp/B08VXR74Q2/ref=sr_1_45?crid=ZHTUQUYV52AT&dib=eyJ2IjoiMSJ9.Y1UxTEOx24iAUysPbVbJ2YwwrqWm2xZqTl7W4yWOzDKhKueS755oeD551GNy1OU2rn6RnVG5k26W8bMZy29yELEmq_QwQ6AAwZFU0BRfQ80T7aiHqQobn4Nybe5o6ceWpVdVY5EVnUe2FWZQ0DXHfGCfdHnz13aLOtLN-6rLVNUYJJcIVVmqzid9yX_1AMAAICrnvV3p1gA30TxSw-DHFhII0K4p1ei1cDGjAcLq960aQTHgLu_zX4SPXlMq8AywJEPNxovFzcJjXMAqI9HSpCuttCEh4z_mwH8MxU-0B54.RYi2dFN3mw5jBagRSpWCJcFaua419Tln2ssUD3voils&dib_tag=se&keywords=guitars&qid=1714183054&sprefix=guitars%2Caps%2C263&sr=8-45',\n",
       " 'https://www.amazon.in/Yamaha-C40MII-Acoustic-Concert-Guitar/dp/B005LG2JRK/ref=sr_1_46?crid=ZHTUQUYV52AT&dib=eyJ2IjoiMSJ9.Y1UxTEOx24iAUysPbVbJ2YwwrqWm2xZqTl7W4yWOzDKhKueS755oeD551GNy1OU2rn6RnVG5k26W8bMZy29yELEmq_QwQ6AAwZFU0BRfQ80T7aiHqQobn4Nybe5o6ceWpVdVY5EVnUe2FWZQ0DXHfGCfdHnz13aLOtLN-6rLVNUYJJcIVVmqzid9yX_1AMAAICrnvV3p1gA30TxSw-DHFhII0K4p1ei1cDGjAcLq960aQTHgLu_zX4SPXlMq8AywJEPNxovFzcJjXMAqI9HSpCuttCEh4z_mwH8MxU-0B54.RYi2dFN3mw5jBagRSpWCJcFaua419Tln2ssUD3voils&dib_tag=se&keywords=guitars&qid=1714183054&sprefix=guitars%2Caps%2C263&sr=8-46',\n",
       " 'https://www.amazon.in/Kadence-Acoustica-Acoustic-Guitar-Zebra/dp/B07KXNKLJ2/ref=sr_1_47?crid=ZHTUQUYV52AT&dib=eyJ2IjoiMSJ9.Y1UxTEOx24iAUysPbVbJ2YwwrqWm2xZqTl7W4yWOzDKhKueS755oeD551GNy1OU2rn6RnVG5k26W8bMZy29yELEmq_QwQ6AAwZFU0BRfQ80T7aiHqQobn4Nybe5o6ceWpVdVY5EVnUe2FWZQ0DXHfGCfdHnz13aLOtLN-6rLVNUYJJcIVVmqzid9yX_1AMAAICrnvV3p1gA30TxSw-DHFhII0K4p1ei1cDGjAcLq960aQTHgLu_zX4SPXlMq8AywJEPNxovFzcJjXMAqI9HSpCuttCEh4z_mwH8MxU-0B54.RYi2dFN3mw5jBagRSpWCJcFaua419Tln2ssUD3voils&dib_tag=se&keywords=guitars&qid=1714183054&sprefix=guitars%2Caps%2C263&sr=8-47',\n",
       " 'https://www.amazon.in/Kadence-Professional-Acoustic-Rosewood-Natural/dp/B0CC927DLN/ref=sr_1_48?crid=ZHTUQUYV52AT&dib=eyJ2IjoiMSJ9.Y1UxTEOx24iAUysPbVbJ2YwwrqWm2xZqTl7W4yWOzDKhKueS755oeD551GNy1OU2rn6RnVG5k26W8bMZy29yELEmq_QwQ6AAwZFU0BRfQ80T7aiHqQobn4Nybe5o6ceWpVdVY5EVnUe2FWZQ0DXHfGCfdHnz13aLOtLN-6rLVNUYJJcIVVmqzid9yX_1AMAAICrnvV3p1gA30TxSw-DHFhII0K4p1ei1cDGjAcLq960aQTHgLu_zX4SPXlMq8AywJEPNxovFzcJjXMAqI9HSpCuttCEh4z_mwH8MxU-0B54.RYi2dFN3mw5jBagRSpWCJcFaua419Tln2ssUD3voils&dib_tag=se&keywords=guitars&qid=1714183054&sprefix=guitars%2Caps%2C263&sr=8-48',\n",
       " 'https://www.amazon.in/Fender-FA-235E-Concert-Bodied-Acoustic/dp/B07BCQ7P7Z/ref=sr_1_49?crid=ZHTUQUYV52AT&dib=eyJ2IjoiMSJ9.Y1UxTEOx24iAUysPbVbJ2YwwrqWm2xZqTl7W4yWOzDKhKueS755oeD551GNy1OU2rn6RnVG5k26W8bMZy29yELEmq_QwQ6AAwZFU0BRfQ80T7aiHqQobn4Nybe5o6ceWpVdVY5EVnUe2FWZQ0DXHfGCfdHnz13aLOtLN-6rLVNUYJJcIVVmqzid9yX_1AMAAICrnvV3p1gA30TxSw-DHFhII0K4p1ei1cDGjAcLq960aQTHgLu_zX4SPXlMq8AywJEPNxovFzcJjXMAqI9HSpCuttCEh4z_mwH8MxU-0B54.RYi2dFN3mw5jBagRSpWCJcFaua419Tln2ssUD3voils&dib_tag=se&keywords=guitars&qid=1714183054&sprefix=guitars%2Caps%2C263&sr=8-49',\n",
       " 'https://www.amazon.in/yamaha-acoustic-guitar-Dreadnought-Plectrums/dp/B07KB8VP6X/ref=sr_1_50?crid=ZHTUQUYV52AT&dib=eyJ2IjoiMSJ9.Y1UxTEOx24iAUysPbVbJ2YwwrqWm2xZqTl7W4yWOzDKhKueS755oeD551GNy1OU2rn6RnVG5k26W8bMZy29yELEmq_QwQ6AAwZFU0BRfQ80T7aiHqQobn4Nybe5o6ceWpVdVY5EVnUe2FWZQ0DXHfGCfdHnz13aLOtLN-6rLVNUYJJcIVVmqzid9yX_1AMAAICrnvV3p1gA30TxSw-DHFhII0K4p1ei1cDGjAcLq960aQTHgLu_zX4SPXlMq8AywJEPNxovFzcJjXMAqI9HSpCuttCEh4z_mwH8MxU-0B54.RYi2dFN3mw5jBagRSpWCJcFaua419Tln2ssUD3voils&dib_tag=se&keywords=guitars&qid=1714183054&sprefix=guitars%2Caps%2C263&sr=8-50',\n",
       " 'https://www.amazon.in/Juarez-Acoustic-Guitar-Cutaway-JRZ38CT/dp/B01N3TTYJQ/ref=sr_1_51?crid=ZHTUQUYV52AT&dib=eyJ2IjoiMSJ9.Y1UxTEOx24iAUysPbVbJ2YwwrqWm2xZqTl7W4yWOzDKhKueS755oeD551GNy1OU2rn6RnVG5k26W8bMZy29yELEmq_QwQ6AAwZFU0BRfQ80T7aiHqQobn4Nybe5o6ceWpVdVY5EVnUe2FWZQ0DXHfGCfdHnz13aLOtLN-6rLVNUYJJcIVVmqzid9yX_1AMAAICrnvV3p1gA30TxSw-DHFhII0K4p1ei1cDGjAcLq960aQTHgLu_zX4SPXlMq8AywJEPNxovFzcJjXMAqI9HSpCuttCEh4z_mwH8MxU-0B54.RYi2dFN3mw5jBagRSpWCJcFaua419Tln2ssUD3voils&dib_tag=se&keywords=guitars&qid=1714183054&sprefix=guitars%2Caps%2C263&sr=8-51',\n",
       " 'https://www.amazon.in/Vault-ST1-Premium-Electric-Guitar/dp/B09GLYSJ8W/ref=sr_1_52?crid=ZHTUQUYV52AT&dib=eyJ2IjoiMSJ9.Y1UxTEOx24iAUysPbVbJ2YwwrqWm2xZqTl7W4yWOzDKhKueS755oeD551GNy1OU2rn6RnVG5k26W8bMZy29yELEmq_QwQ6AAwZFU0BRfQ80T7aiHqQobn4Nybe5o6ceWpVdVY5EVnUe2FWZQ0DXHfGCfdHnz13aLOtLN-6rLVNUYJJcIVVmqzid9yX_1AMAAICrnvV3p1gA30TxSw-DHFhII0K4p1ei1cDGjAcLq960aQTHgLu_zX4SPXlMq8AywJEPNxovFzcJjXMAqI9HSpCuttCEh4z_mwH8MxU-0B54.RYi2dFN3mw5jBagRSpWCJcFaua419Tln2ssUD3voils&dib_tag=se&keywords=guitars&qid=1714183054&sprefix=guitars%2Caps%2C263&sr=8-52',\n",
       " 'https://www.amazon.in/Donner-Silent-Guitar-Mahogany/dp/B09Q8CXL2K/ref=sr_1_53?crid=ZHTUQUYV52AT&dib=eyJ2IjoiMSJ9.Y1UxTEOx24iAUysPbVbJ2YwwrqWm2xZqTl7W4yWOzDKhKueS755oeD551GNy1OU2rn6RnVG5k26W8bMZy29yELEmq_QwQ6AAwZFU0BRfQ80T7aiHqQobn4Nybe5o6ceWpVdVY5EVnUe2FWZQ0DXHfGCfdHnz13aLOtLN-6rLVNUYJJcIVVmqzid9yX_1AMAAICrnvV3p1gA30TxSw-DHFhII0K4p1ei1cDGjAcLq960aQTHgLu_zX4SPXlMq8AywJEPNxovFzcJjXMAqI9HSpCuttCEh4z_mwH8MxU-0B54.RYi2dFN3mw5jBagRSpWCJcFaua419Tln2ssUD3voils&dib_tag=se&keywords=guitars&qid=1714183054&sprefix=guitars%2Caps%2C263&sr=8-53',\n",
       " 'https://www.amazon.in/Ultimate-Concert-Cutaway-Acoustic-Bajaao/dp/B08WHWKKV5/ref=sr_1_54?crid=ZHTUQUYV52AT&dib=eyJ2IjoiMSJ9.Y1UxTEOx24iAUysPbVbJ2YwwrqWm2xZqTl7W4yWOzDKhKueS755oeD551GNy1OU2rn6RnVG5k26W8bMZy29yELEmq_QwQ6AAwZFU0BRfQ80T7aiHqQobn4Nybe5o6ceWpVdVY5EVnUe2FWZQ0DXHfGCfdHnz13aLOtLN-6rLVNUYJJcIVVmqzid9yX_1AMAAICrnvV3p1gA30TxSw-DHFhII0K4p1ei1cDGjAcLq960aQTHgLu_zX4SPXlMq8AywJEPNxovFzcJjXMAqI9HSpCuttCEh4z_mwH8MxU-0B54.RYi2dFN3mw5jBagRSpWCJcFaua419Tln2ssUD3voils&dib_tag=se&keywords=guitars&qid=1714183054&sprefix=guitars%2Caps%2C263&sr=8-54',\n",
       " 'https://www.amazon.in/Ibanez-GRGR221PA-Electric-Guitar-Burst/dp/B08SHLHBGT/ref=sr_1_55?crid=ZHTUQUYV52AT&dib=eyJ2IjoiMSJ9.Y1UxTEOx24iAUysPbVbJ2YwwrqWm2xZqTl7W4yWOzDKhKueS755oeD551GNy1OU2rn6RnVG5k26W8bMZy29yELEmq_QwQ6AAwZFU0BRfQ80T7aiHqQobn4Nybe5o6ceWpVdVY5EVnUe2FWZQ0DXHfGCfdHnz13aLOtLN-6rLVNUYJJcIVVmqzid9yX_1AMAAICrnvV3p1gA30TxSw-DHFhII0K4p1ei1cDGjAcLq960aQTHgLu_zX4SPXlMq8AywJEPNxovFzcJjXMAqI9HSpCuttCEh4z_mwH8MxU-0B54.RYi2dFN3mw5jBagRSpWCJcFaua419Tln2ssUD3voils&dib_tag=se&keywords=guitars&qid=1714183054&sprefix=guitars%2Caps%2C263&sr=8-55',\n",
       " 'https://www.amazon.in/Cort-AD810-Dreadnought-Acoustic-Guitar/dp/B07G4CB8FQ/ref=sr_1_56?crid=ZHTUQUYV52AT&dib=eyJ2IjoiMSJ9.Y1UxTEOx24iAUysPbVbJ2YwwrqWm2xZqTl7W4yWOzDKhKueS755oeD551GNy1OU2rn6RnVG5k26W8bMZy29yELEmq_QwQ6AAwZFU0BRfQ80T7aiHqQobn4Nybe5o6ceWpVdVY5EVnUe2FWZQ0DXHfGCfdHnz13aLOtLN-6rLVNUYJJcIVVmqzid9yX_1AMAAICrnvV3p1gA30TxSw-DHFhII0K4p1ei1cDGjAcLq960aQTHgLu_zX4SPXlMq8AywJEPNxovFzcJjXMAqI9HSpCuttCEh4z_mwH8MxU-0B54.RYi2dFN3mw5jBagRSpWCJcFaua419Tln2ssUD3voils&dib_tag=se&keywords=guitars&qid=1714183054&sprefix=guitars%2Caps%2C263&sr=8-56',\n",
       " 'https://www.amazon.in/sspa/click?ie=UTF8&spc=MToyNzE4Mzk3MDg0ODQ0MTE3OjE3MTQxODMwNTQ6c3BfYnRmOjIwMTI3OTkwMDI5Mzk4OjowOjo&url=%2FBlueberry-VIP-341-Natural-Acoustic%2Fdp%2FB0BVVJ8VG5%2Fref%3Dsr_1_57_sspa%3Fcrid%3DZHTUQUYV52AT%26dib%3DeyJ2IjoiMSJ9.Y1UxTEOx24iAUysPbVbJ2YwwrqWm2xZqTl7W4yWOzDKhKueS755oeD551GNy1OU2rn6RnVG5k26W8bMZy29yELEmq_QwQ6AAwZFU0BRfQ80T7aiHqQobn4Nybe5o6ceWpVdVY5EVnUe2FWZQ0DXHfGCfdHnz13aLOtLN-6rLVNUYJJcIVVmqzid9yX_1AMAAICrnvV3p1gA30TxSw-DHFhII0K4p1ei1cDGjAcLq960aQTHgLu_zX4SPXlMq8AywJEPNxovFzcJjXMAqI9HSpCuttCEh4z_mwH8MxU-0B54.RYi2dFN3mw5jBagRSpWCJcFaua419Tln2ssUD3voils%26dib_tag%3Dse%26keywords%3Dguitars%26qid%3D1714183054%26sprefix%3Dguitars%252Caps%252C263%26sr%3D8-57-spons%26sp_csd%3Dd2lkZ2V0TmFtZT1zcF9idGY%26psc%3D1',\n",
       " 'https://www.amazon.in/sspa/click?ie=UTF8&spc=MToyNzE4Mzk3MDg0ODQ0MTE3OjE3MTQxODMwNTQ6c3BfYnRmOjIwMDc4MzM2ODg1Nzk4OjowOjo&url=%2FFestra-Trussrod-Acoustic-Strings-Classic%2Fdp%2FB09VLF711S%2Fref%3Dsr_1_58_sspa%3Fcrid%3DZHTUQUYV52AT%26dib%3DeyJ2IjoiMSJ9.Y1UxTEOx24iAUysPbVbJ2YwwrqWm2xZqTl7W4yWOzDKhKueS755oeD551GNy1OU2rn6RnVG5k26W8bMZy29yELEmq_QwQ6AAwZFU0BRfQ80T7aiHqQobn4Nybe5o6ceWpVdVY5EVnUe2FWZQ0DXHfGCfdHnz13aLOtLN-6rLVNUYJJcIVVmqzid9yX_1AMAAICrnvV3p1gA30TxSw-DHFhII0K4p1ei1cDGjAcLq960aQTHgLu_zX4SPXlMq8AywJEPNxovFzcJjXMAqI9HSpCuttCEh4z_mwH8MxU-0B54.RYi2dFN3mw5jBagRSpWCJcFaua419Tln2ssUD3voils%26dib_tag%3Dse%26keywords%3Dguitars%26qid%3D1714183054%26sprefix%3Dguitars%252Caps%252C263%26sr%3D8-58-spons%26sp_csd%3Dd2lkZ2V0TmFtZT1zcF9idGY%26psc%3D1',\n",
       " 'https://www.amazon.in/sspa/click?ie=UTF8&spc=MToyNzE4Mzk3MDg0ODQ0MTE3OjE3MTQxODMwNTQ6c3BfYnRmOjIwMTI3OTkwMDI4Mzk4OjowOjo&url=%2FBlueberry-VIP-400-40Inch-TrussRod-Acoustic%2Fdp%2FB0BVYY6ND2%2Fref%3Dsr_1_59_sspa%3Fcrid%3DZHTUQUYV52AT%26dib%3DeyJ2IjoiMSJ9.Y1UxTEOx24iAUysPbVbJ2YwwrqWm2xZqTl7W4yWOzDKhKueS755oeD551GNy1OU2rn6RnVG5k26W8bMZy29yELEmq_QwQ6AAwZFU0BRfQ80T7aiHqQobn4Nybe5o6ceWpVdVY5EVnUe2FWZQ0DXHfGCfdHnz13aLOtLN-6rLVNUYJJcIVVmqzid9yX_1AMAAICrnvV3p1gA30TxSw-DHFhII0K4p1ei1cDGjAcLq960aQTHgLu_zX4SPXlMq8AywJEPNxovFzcJjXMAqI9HSpCuttCEh4z_mwH8MxU-0B54.RYi2dFN3mw5jBagRSpWCJcFaua419Tln2ssUD3voils%26dib_tag%3Dse%26keywords%3Dguitars%26qid%3D1714183054%26sprefix%3Dguitars%252Caps%252C263%26sr%3D8-59-spons%26sp_csd%3Dd2lkZ2V0TmFtZT1zcF9idGY%26psc%3D1',\n",
       " 'https://www.amazon.in/sspa/click?ie=UTF8&spc=MToyNzE4Mzk3MDg0ODQ0MTE3OjE3MTQxODMwNTQ6c3BfYnRmOjIwMDkyNjI0MDIxNTk4OjowOjo&url=%2FDreadnought-Acoustic-Gig-Bag-Strings-Polishing%2Fdp%2FB0BJJRJVHY%2Fref%3Dsr_1_60_sspa%3Fcrid%3DZHTUQUYV52AT%26dib%3DeyJ2IjoiMSJ9.Y1UxTEOx24iAUysPbVbJ2YwwrqWm2xZqTl7W4yWOzDKhKueS755oeD551GNy1OU2rn6RnVG5k26W8bMZy29yELEmq_QwQ6AAwZFU0BRfQ80T7aiHqQobn4Nybe5o6ceWpVdVY5EVnUe2FWZQ0DXHfGCfdHnz13aLOtLN-6rLVNUYJJcIVVmqzid9yX_1AMAAICrnvV3p1gA30TxSw-DHFhII0K4p1ei1cDGjAcLq960aQTHgLu_zX4SPXlMq8AywJEPNxovFzcJjXMAqI9HSpCuttCEh4z_mwH8MxU-0B54.RYi2dFN3mw5jBagRSpWCJcFaua419Tln2ssUD3voils%26dib_tag%3Dse%26keywords%3Dguitars%26qid%3D1714183054%26sprefix%3Dguitars%252Caps%252C263%26sr%3D8-60-spons%26sp_csd%3Dd2lkZ2V0TmFtZT1zcF9idGY%26psc%3D1',\n",
       " 'https://aax-eu.amazon.in/x/c/RGRlWwsIoHcnPd0aQ4Bk3k0AAAGPHUWkkAMAAAH2AQBvbm9fdHhuX2JpZDEgICBvbm9fdHhuX2ltcDEgICABdUyM/https://www.amazon.in/Inrali-Guitar-String-Winder-Cutter/dp/B08VWQ2SRB/ref=sxbs_sbv_search_btf?content-id=amzn1.sym.29651f77-3164-4105-8e83-b08340dd52f0%3Aamzn1.sym.29651f77-3164-4105-8e83-b08340dd52f0&crid=ZHTUQUYV52AT&cv_ct_cx=guitars&dib=eyJ2IjoiMSJ9.bECI8gwH2lwUSU7Ry8xMnQ.glSCNHN53jBLtTAUFXm8mtgBa21MVwd5iu5Luere0i4&dib_tag=se&keywords=guitars&pd_rd_i=B08VWQ2SRB&pd_rd_r=018bb5e8-5881-4469-89f0-a81ef22066cc&pd_rd_w=W5Msx&pd_rd_wg=OpzDs&pf_rd_p=29651f77-3164-4105-8e83-b08340dd52f0&pf_rd_r=AFD2TJSSD836PC3RS02M&qid=1714183054&sbo=RZvfv%2F%2FHxDF%2BO5021pAnSA%3D%3D&sprefix=guitars%2Caps%2C263&sr=1-1-25dedf61-9bde-4412-952b-c956ef4fc546',\n",
       " 'https://www.amazon.in/sspa/click?ie=UTF8&spc=MToyNzE4Mzk3MDg0ODQ0MTE3OjE3MTQxODMwNTQ6c3BfYXRmOjMwMDE1NTQ4NDMyMzgzMjo6MDo6&url=%2FMedellin-Acoustic-Guitar-learning-course%2Fdp%2FB0CGRX6ZMF%2Fref%3Dsr_1_1_sspa%3Fcrid%3DZHTUQUYV52AT%26dib%3DeyJ2IjoiMSJ9.Y1UxTEOx24iAUysPbVbJ2YwwrqWm2xZqTl7W4yWOzDKhKueS755oeD551GNy1OU2rn6RnVG5k26W8bMZy29yELEmq_QwQ6AAwZFU0BRfQ80T7aiHqQobn4Nybe5o6ceWpVdVY5EVnUe2FWZQ0DXHfGCfdHnz13aLOtLN-6rLVNUYJJcIVVmqzid9yX_1AMAAICrnvV3p1gA30TxSw-DHFhII0K4p1ei1cDGjAcLq960aQTHgLu_zX4SPXlMq8AywJEPNxovFzcJjXMAqI9HSpCuttCEh4z_mwH8MxU-0B54.RYi2dFN3mw5jBagRSpWCJcFaua419Tln2ssUD3voils%26dib_tag%3Dse%26keywords%3Dguitars%26qid%3D1714183054%26sprefix%3Dguitars%252Caps%252C263%26sr%3D8-1-spons%26sp_csd%3Dd2lkZ2V0TmFtZT1zcF9hdGY%26psc%3D1',\n",
       " 'https://www.amazon.in/sspa/click?ie=UTF8&spc=MToyNzE4Mzk3MDg0ODQ0MTE3OjE3MTQxODMwNTQ6c3BfYXRmOjMwMDAxNTUzNzk3OTIzMjo6MDo6&url=%2FKadence-Frontier-Acoustic-Guitar-Strings%2Fdp%2FB078GTJP5Y%2Fref%3Dsr_1_2_sspa%3Fcrid%3DZHTUQUYV52AT%26dib%3DeyJ2IjoiMSJ9.Y1UxTEOx24iAUysPbVbJ2YwwrqWm2xZqTl7W4yWOzDKhKueS755oeD551GNy1OU2rn6RnVG5k26W8bMZy29yELEmq_QwQ6AAwZFU0BRfQ80T7aiHqQobn4Nybe5o6ceWpVdVY5EVnUe2FWZQ0DXHfGCfdHnz13aLOtLN-6rLVNUYJJcIVVmqzid9yX_1AMAAICrnvV3p1gA30TxSw-DHFhII0K4p1ei1cDGjAcLq960aQTHgLu_zX4SPXlMq8AywJEPNxovFzcJjXMAqI9HSpCuttCEh4z_mwH8MxU-0B54.RYi2dFN3mw5jBagRSpWCJcFaua419Tln2ssUD3voils%26dib_tag%3Dse%26keywords%3Dguitars%26qid%3D1714183054%26sprefix%3Dguitars%252Caps%252C263%26sr%3D8-2-spons%26sp_csd%3Dd2lkZ2V0TmFtZT1zcF9hdGY%26psc%3D1',\n",
       " 'https://www.amazon.in/sspa/click?ie=UTF8&spc=MToyNzE4Mzk3MDg0ODQ0MTE3OjE3MTQxODMwNTQ6c3BfYXRmOjIwMDk2NjA4NzUwNDk4OjowOjo&url=%2FKadence-Frontier-Acoustic-Guitar-Strings%2Fdp%2FB01GDZ46AA%2Fref%3Dsr_1_3_sspa%3Fcrid%3DZHTUQUYV52AT%26dib%3DeyJ2IjoiMSJ9.Y1UxTEOx24iAUysPbVbJ2YwwrqWm2xZqTl7W4yWOzDKhKueS755oeD551GNy1OU2rn6RnVG5k26W8bMZy29yELEmq_QwQ6AAwZFU0BRfQ80T7aiHqQobn4Nybe5o6ceWpVdVY5EVnUe2FWZQ0DXHfGCfdHnz13aLOtLN-6rLVNUYJJcIVVmqzid9yX_1AMAAICrnvV3p1gA30TxSw-DHFhII0K4p1ei1cDGjAcLq960aQTHgLu_zX4SPXlMq8AywJEPNxovFzcJjXMAqI9HSpCuttCEh4z_mwH8MxU-0B54.RYi2dFN3mw5jBagRSpWCJcFaua419Tln2ssUD3voils%26dib_tag%3Dse%26keywords%3Dguitars%26qid%3D1714183054%26sprefix%3Dguitars%252Caps%252C263%26sr%3D8-3-spons%26sp_csd%3Dd2lkZ2V0TmFtZT1zcF9hdGY%26psc%3D1',\n",
       " 'https://www.amazon.in/sspa/click?ie=UTF8&spc=MToyNzE4Mzk3MDg0ODQ0MTE3OjE3MTQxODMwNTQ6c3BfYXRmOjMwMDE1NTQ4NDMyMzczMjo6MDo6&url=%2FMedellin-Acoustic-Guitar-learning-Strings%2Fdp%2FB0CCNSN6S4%2Fref%3Dsr_1_4_sspa%3Fcrid%3DZHTUQUYV52AT%26dib%3DeyJ2IjoiMSJ9.Y1UxTEOx24iAUysPbVbJ2YwwrqWm2xZqTl7W4yWOzDKhKueS755oeD551GNy1OU2rn6RnVG5k26W8bMZy29yELEmq_QwQ6AAwZFU0BRfQ80T7aiHqQobn4Nybe5o6ceWpVdVY5EVnUe2FWZQ0DXHfGCfdHnz13aLOtLN-6rLVNUYJJcIVVmqzid9yX_1AMAAICrnvV3p1gA30TxSw-DHFhII0K4p1ei1cDGjAcLq960aQTHgLu_zX4SPXlMq8AywJEPNxovFzcJjXMAqI9HSpCuttCEh4z_mwH8MxU-0B54.RYi2dFN3mw5jBagRSpWCJcFaua419Tln2ssUD3voils%26dib_tag%3Dse%26keywords%3Dguitars%26qid%3D1714183054%26sprefix%3Dguitars%252Caps%252C263%26sr%3D8-4-spons%26sp_csd%3Dd2lkZ2V0TmFtZT1zcF9hdGY%26psc%3D1',\n",
       " 'https://www.amazon.in/Ju%C3%A2rez-Acoustic-Guitar-Cutaway-Strings/dp/B0BCQNLXVM/ref=sr_1_5?crid=ZHTUQUYV52AT&dib=eyJ2IjoiMSJ9.Y1UxTEOx24iAUysPbVbJ2YwwrqWm2xZqTl7W4yWOzDKhKueS755oeD551GNy1OU2rn6RnVG5k26W8bMZy29yELEmq_QwQ6AAwZFU0BRfQ80T7aiHqQobn4Nybe5o6ceWpVdVY5EVnUe2FWZQ0DXHfGCfdHnz13aLOtLN-6rLVNUYJJcIVVmqzid9yX_1AMAAICrnvV3p1gA30TxSw-DHFhII0K4p1ei1cDGjAcLq960aQTHgLu_zX4SPXlMq8AywJEPNxovFzcJjXMAqI9HSpCuttCEh4z_mwH8MxU-0B54.RYi2dFN3mw5jBagRSpWCJcFaua419Tln2ssUD3voils&dib_tag=se&keywords=guitars&qid=1714183054&sprefix=guitars%2Caps%2C263&sr=8-5',\n",
       " 'https://www.amazon.in/Juarez-Acoustic-Cutaway-038C-Strings/dp/B017NPCSLI/ref=sr_1_6?crid=ZHTUQUYV52AT&dib=eyJ2IjoiMSJ9.Y1UxTEOx24iAUysPbVbJ2YwwrqWm2xZqTl7W4yWOzDKhKueS755oeD551GNy1OU2rn6RnVG5k26W8bMZy29yELEmq_QwQ6AAwZFU0BRfQ80T7aiHqQobn4Nybe5o6ceWpVdVY5EVnUe2FWZQ0DXHfGCfdHnz13aLOtLN-6rLVNUYJJcIVVmqzid9yX_1AMAAICrnvV3p1gA30TxSw-DHFhII0K4p1ei1cDGjAcLq960aQTHgLu_zX4SPXlMq8AywJEPNxovFzcJjXMAqI9HSpCuttCEh4z_mwH8MxU-0B54.RYi2dFN3mw5jBagRSpWCJcFaua419Tln2ssUD3voils&dib_tag=se&keywords=guitars&qid=1714183054&sprefix=guitars%2Caps%2C263&sr=8-6',\n",
       " 'https://www.amazon.in/Intern-INT-38C-Acoustic-Guitar-Black/dp/B073B6TQQY/ref=sr_1_7?crid=ZHTUQUYV52AT&dib=eyJ2IjoiMSJ9.Y1UxTEOx24iAUysPbVbJ2YwwrqWm2xZqTl7W4yWOzDKhKueS755oeD551GNy1OU2rn6RnVG5k26W8bMZy29yELEmq_QwQ6AAwZFU0BRfQ80T7aiHqQobn4Nybe5o6ceWpVdVY5EVnUe2FWZQ0DXHfGCfdHnz13aLOtLN-6rLVNUYJJcIVVmqzid9yX_1AMAAICrnvV3p1gA30TxSw-DHFhII0K4p1ei1cDGjAcLq960aQTHgLu_zX4SPXlMq8AywJEPNxovFzcJjXMAqI9HSpCuttCEh4z_mwH8MxU-0B54.RYi2dFN3mw5jBagRSpWCJcFaua419Tln2ssUD3voils&dib_tag=se&keywords=guitars&qid=1714183054&sprefix=guitars%2Caps%2C263&sr=8-7',\n",
       " 'https://www.amazon.in/Acoustic-Cutaway-RDS-Strings-Sunburst/dp/B076QGY91P/ref=sr_1_8?crid=ZHTUQUYV52AT&dib=eyJ2IjoiMSJ9.Y1UxTEOx24iAUysPbVbJ2YwwrqWm2xZqTl7W4yWOzDKhKueS755oeD551GNy1OU2rn6RnVG5k26W8bMZy29yELEmq_QwQ6AAwZFU0BRfQ80T7aiHqQobn4Nybe5o6ceWpVdVY5EVnUe2FWZQ0DXHfGCfdHnz13aLOtLN-6rLVNUYJJcIVVmqzid9yX_1AMAAICrnvV3p1gA30TxSw-DHFhII0K4p1ei1cDGjAcLq960aQTHgLu_zX4SPXlMq8AywJEPNxovFzcJjXMAqI9HSpCuttCEh4z_mwH8MxU-0B54.RYi2dFN3mw5jBagRSpWCJcFaua419Tln2ssUD3voils&dib_tag=se&keywords=guitars&qid=1714183054&sprefix=guitars%2Caps%2C263&sr=8-8',\n",
       " 'https://www.amazon.in/Medellin-Acoustic-Guitar-learning-course/dp/B0CGRX6ZMF/ref=sr_1_9?crid=ZHTUQUYV52AT&dib=eyJ2IjoiMSJ9.Y1UxTEOx24iAUysPbVbJ2YwwrqWm2xZqTl7W4yWOzDKhKueS755oeD551GNy1OU2rn6RnVG5k26W8bMZy29yELEmq_QwQ6AAwZFU0BRfQ80T7aiHqQobn4Nybe5o6ceWpVdVY5EVnUe2FWZQ0DXHfGCfdHnz13aLOtLN-6rLVNUYJJcIVVmqzid9yX_1AMAAICrnvV3p1gA30TxSw-DHFhII0K4p1ei1cDGjAcLq960aQTHgLu_zX4SPXlMq8AywJEPNxovFzcJjXMAqI9HSpCuttCEh4z_mwH8MxU-0B54.RYi2dFN3mw5jBagRSpWCJcFaua419Tln2ssUD3voils&dib_tag=se&keywords=guitars&qid=1714183054&sprefix=guitars%2Caps%2C263&sr=8-9',\n",
       " 'https://www.amazon.in/Ju%C3%A2rez-JRZ38C-WH-Strings-Acoustic/dp/B072MFK4L6/ref=sr_1_10?crid=ZHTUQUYV52AT&dib=eyJ2IjoiMSJ9.Y1UxTEOx24iAUysPbVbJ2YwwrqWm2xZqTl7W4yWOzDKhKueS755oeD551GNy1OU2rn6RnVG5k26W8bMZy29yELEmq_QwQ6AAwZFU0BRfQ80T7aiHqQobn4Nybe5o6ceWpVdVY5EVnUe2FWZQ0DXHfGCfdHnz13aLOtLN-6rLVNUYJJcIVVmqzid9yX_1AMAAICrnvV3p1gA30TxSw-DHFhII0K4p1ei1cDGjAcLq960aQTHgLu_zX4SPXlMq8AywJEPNxovFzcJjXMAqI9HSpCuttCEh4z_mwH8MxU-0B54.RYi2dFN3mw5jBagRSpWCJcFaua419Tln2ssUD3voils&dib_tag=se&keywords=guitars&qid=1714183054&sprefix=guitars%2Caps%2C263&sr=8-10',\n",
       " 'https://www.amazon.in/JUAREZ-JRZ38C-Acoustic-Sunburst-Strings/dp/B01FYYTDS6/ref=sr_1_11?crid=ZHTUQUYV52AT&dib=eyJ2IjoiMSJ9.Y1UxTEOx24iAUysPbVbJ2YwwrqWm2xZqTl7W4yWOzDKhKueS755oeD551GNy1OU2rn6RnVG5k26W8bMZy29yELEmq_QwQ6AAwZFU0BRfQ80T7aiHqQobn4Nybe5o6ceWpVdVY5EVnUe2FWZQ0DXHfGCfdHnz13aLOtLN-6rLVNUYJJcIVVmqzid9yX_1AMAAICrnvV3p1gA30TxSw-DHFhII0K4p1ei1cDGjAcLq960aQTHgLu_zX4SPXlMq8AywJEPNxovFzcJjXMAqI9HSpCuttCEh4z_mwH8MxU-0B54.RYi2dFN3mw5jBagRSpWCJcFaua419Tln2ssUD3voils&dib_tag=se&keywords=guitars&qid=1714183054&sprefix=guitars%2Caps%2C263&sr=8-11',\n",
       " 'https://www.amazon.in/Yamaha-F280-Acoustic-Guitar-Natural/dp/B08317Y4VP/ref=sr_1_12?crid=ZHTUQUYV52AT&dib=eyJ2IjoiMSJ9.Y1UxTEOx24iAUysPbVbJ2YwwrqWm2xZqTl7W4yWOzDKhKueS755oeD551GNy1OU2rn6RnVG5k26W8bMZy29yELEmq_QwQ6AAwZFU0BRfQ80T7aiHqQobn4Nybe5o6ceWpVdVY5EVnUe2FWZQ0DXHfGCfdHnz13aLOtLN-6rLVNUYJJcIVVmqzid9yX_1AMAAICrnvV3p1gA30TxSw-DHFhII0K4p1ei1cDGjAcLq960aQTHgLu_zX4SPXlMq8AywJEPNxovFzcJjXMAqI9HSpCuttCEh4z_mwH8MxU-0B54.RYi2dFN3mw5jBagRSpWCJcFaua419Tln2ssUD3voils&dib_tag=se&keywords=guitars&qid=1714183054&sprefix=guitars%2Caps%2C263&sr=8-12',\n",
       " 'https://www.amazon.in/JUAREZ-JRZ38C-Acoustic-Sunburst-Strings/dp/B01FYYTDTU/ref=sr_1_13?crid=ZHTUQUYV52AT&dib=eyJ2IjoiMSJ9.Y1UxTEOx24iAUysPbVbJ2YwwrqWm2xZqTl7W4yWOzDKhKueS755oeD551GNy1OU2rn6RnVG5k26W8bMZy29yELEmq_QwQ6AAwZFU0BRfQ80T7aiHqQobn4Nybe5o6ceWpVdVY5EVnUe2FWZQ0DXHfGCfdHnz13aLOtLN-6rLVNUYJJcIVVmqzid9yX_1AMAAICrnvV3p1gA30TxSw-DHFhII0K4p1ei1cDGjAcLq960aQTHgLu_zX4SPXlMq8AywJEPNxovFzcJjXMAqI9HSpCuttCEh4z_mwH8MxU-0B54.RYi2dFN3mw5jBagRSpWCJcFaua419Tln2ssUD3voils&dib_tag=se&keywords=guitars&qid=1714183054&sprefix=guitars%2Caps%2C263&sr=8-13',\n",
       " 'https://www.amazon.in/Kadence-Frontier-Acoustic-Guitar-Strings/dp/B078GTJP5Y/ref=sr_1_14?crid=ZHTUQUYV52AT&dib=eyJ2IjoiMSJ9.Y1UxTEOx24iAUysPbVbJ2YwwrqWm2xZqTl7W4yWOzDKhKueS755oeD551GNy1OU2rn6RnVG5k26W8bMZy29yELEmq_QwQ6AAwZFU0BRfQ80T7aiHqQobn4Nybe5o6ceWpVdVY5EVnUe2FWZQ0DXHfGCfdHnz13aLOtLN-6rLVNUYJJcIVVmqzid9yX_1AMAAICrnvV3p1gA30TxSw-DHFhII0K4p1ei1cDGjAcLq960aQTHgLu_zX4SPXlMq8AywJEPNxovFzcJjXMAqI9HSpCuttCEh4z_mwH8MxU-0B54.RYi2dFN3mw5jBagRSpWCJcFaua419Tln2ssUD3voils&dib_tag=se&keywords=guitars&qid=1714183054&sprefix=guitars%2Caps%2C263&sr=8-14',\n",
       " 'https://www.amazon.in/Acoustic-Strings-Rosette-Rosewood-Fretboard/dp/B09FPQX7RN/ref=sr_1_15?crid=ZHTUQUYV52AT&dib=eyJ2IjoiMSJ9.Y1UxTEOx24iAUysPbVbJ2YwwrqWm2xZqTl7W4yWOzDKhKueS755oeD551GNy1OU2rn6RnVG5k26W8bMZy29yELEmq_QwQ6AAwZFU0BRfQ80T7aiHqQobn4Nybe5o6ceWpVdVY5EVnUe2FWZQ0DXHfGCfdHnz13aLOtLN-6rLVNUYJJcIVVmqzid9yX_1AMAAICrnvV3p1gA30TxSw-DHFhII0K4p1ei1cDGjAcLq960aQTHgLu_zX4SPXlMq8AywJEPNxovFzcJjXMAqI9HSpCuttCEh4z_mwH8MxU-0B54.RYi2dFN3mw5jBagRSpWCJcFaua419Tln2ssUD3voils&dib_tag=se&keywords=guitars&qid=1714183054&sprefix=guitars%2Caps%2C263&sr=8-15',\n",
       " 'https://www.amazon.in/Henrix-Acoustic-Guitar-Die-cast-Dual-action/dp/B07VNDW6QF/ref=sr_1_16?crid=ZHTUQUYV52AT&dib=eyJ2IjoiMSJ9.Y1UxTEOx24iAUysPbVbJ2YwwrqWm2xZqTl7W4yWOzDKhKueS755oeD551GNy1OU2rn6RnVG5k26W8bMZy29yELEmq_QwQ6AAwZFU0BRfQ80T7aiHqQobn4Nybe5o6ceWpVdVY5EVnUe2FWZQ0DXHfGCfdHnz13aLOtLN-6rLVNUYJJcIVVmqzid9yX_1AMAAICrnvV3p1gA30TxSw-DHFhII0K4p1ei1cDGjAcLq960aQTHgLu_zX4SPXlMq8AywJEPNxovFzcJjXMAqI9HSpCuttCEh4z_mwH8MxU-0B54.RYi2dFN3mw5jBagRSpWCJcFaua419Tln2ssUD3voils&dib_tag=se&keywords=guitars&qid=1714183054&sprefix=guitars%2Caps%2C263&sr=8-16',\n",
       " 'https://www.amazon.in/Yamaha-FSX80C-Acoustic-Cutaway-Natural/dp/B09HL3GFZF/ref=sr_1_17?crid=ZHTUQUYV52AT&dib=eyJ2IjoiMSJ9.Y1UxTEOx24iAUysPbVbJ2YwwrqWm2xZqTl7W4yWOzDKhKueS755oeD551GNy1OU2rn6RnVG5k26W8bMZy29yELEmq_QwQ6AAwZFU0BRfQ80T7aiHqQobn4Nybe5o6ceWpVdVY5EVnUe2FWZQ0DXHfGCfdHnz13aLOtLN-6rLVNUYJJcIVVmqzid9yX_1AMAAICrnvV3p1gA30TxSw-DHFhII0K4p1ei1cDGjAcLq960aQTHgLu_zX4SPXlMq8AywJEPNxovFzcJjXMAqI9HSpCuttCEh4z_mwH8MxU-0B54.RYi2dFN3mw5jBagRSpWCJcFaua419Tln2ssUD3voils&dib_tag=se&keywords=guitars&qid=1714183054&sprefix=guitars%2Caps%2C263&sr=8-17',\n",
       " 'https://www.amazon.in/JRZ38C-VTS-Strings-Acoustic-Cutaway/dp/B072MFLQC9/ref=sr_1_18?crid=ZHTUQUYV52AT&dib=eyJ2IjoiMSJ9.Y1UxTEOx24iAUysPbVbJ2YwwrqWm2xZqTl7W4yWOzDKhKueS755oeD551GNy1OU2rn6RnVG5k26W8bMZy29yELEmq_QwQ6AAwZFU0BRfQ80T7aiHqQobn4Nybe5o6ceWpVdVY5EVnUe2FWZQ0DXHfGCfdHnz13aLOtLN-6rLVNUYJJcIVVmqzid9yX_1AMAAICrnvV3p1gA30TxSw-DHFhII0K4p1ei1cDGjAcLq960aQTHgLu_zX4SPXlMq8AywJEPNxovFzcJjXMAqI9HSpCuttCEh4z_mwH8MxU-0B54.RYi2dFN3mw5jBagRSpWCJcFaua419Tln2ssUD3voils&dib_tag=se&keywords=guitars&qid=1714183054&sprefix=guitars%2Caps%2C263&sr=8-18',\n",
       " 'https://www.amazon.in/Intern-Acoustic-Steel-string-plectrums-INT-38C-WH/dp/B09LR94Z2X/ref=sr_1_19?crid=ZHTUQUYV52AT&dib=eyJ2IjoiMSJ9.Y1UxTEOx24iAUysPbVbJ2YwwrqWm2xZqTl7W4yWOzDKhKueS755oeD551GNy1OU2rn6RnVG5k26W8bMZy29yELEmq_QwQ6AAwZFU0BRfQ80T7aiHqQobn4Nybe5o6ceWpVdVY5EVnUe2FWZQ0DXHfGCfdHnz13aLOtLN-6rLVNUYJJcIVVmqzid9yX_1AMAAICrnvV3p1gA30TxSw-DHFhII0K4p1ei1cDGjAcLq960aQTHgLu_zX4SPXlMq8AywJEPNxovFzcJjXMAqI9HSpCuttCEh4z_mwH8MxU-0B54.RYi2dFN3mw5jBagRSpWCJcFaua419Tln2ssUD3voils&dib_tag=se&keywords=guitars&qid=1714183054&sprefix=guitars%2Caps%2C263&sr=8-19',\n",
       " 'https://www.amazon.in/JUAREZ-JRZ38C-TBLSNA/dp/B0BCQKQ6CS/ref=sr_1_20?crid=ZHTUQUYV52AT&dib=eyJ2IjoiMSJ9.Y1UxTEOx24iAUysPbVbJ2YwwrqWm2xZqTl7W4yWOzDKhKueS755oeD551GNy1OU2rn6RnVG5k26W8bMZy29yELEmq_QwQ6AAwZFU0BRfQ80T7aiHqQobn4Nybe5o6ceWpVdVY5EVnUe2FWZQ0DXHfGCfdHnz13aLOtLN-6rLVNUYJJcIVVmqzid9yX_1AMAAICrnvV3p1gA30TxSw-DHFhII0K4p1ei1cDGjAcLq960aQTHgLu_zX4SPXlMq8AywJEPNxovFzcJjXMAqI9HSpCuttCEh4z_mwH8MxU-0B54.RYi2dFN3mw5jBagRSpWCJcFaua419Tln2ssUD3voils&dib_tag=se&keywords=guitars&qid=1714183054&sprefix=guitars%2Caps%2C263&sr=8-20',\n",
       " 'https://www.amazon.in/sspa/click?ie=UTF8&spc=MToyNzE4Mzk3MDg0ODQ0MTE3OjE3MTQxODMwNTQ6c3BfbXRmOjMwMDE1NTQ4NDMyMzYzMjo6MDo6&url=%2FMedellin-Acoustic-Guitar-learning-Strings%2Fdp%2FB0CCNSN9BV%2Fref%3Dsr_1_21_sspa%3Fcrid%3DZHTUQUYV52AT%26dib%3DeyJ2IjoiMSJ9.Y1UxTEOx24iAUysPbVbJ2YwwrqWm2xZqTl7W4yWOzDKhKueS755oeD551GNy1OU2rn6RnVG5k26W8bMZy29yELEmq_QwQ6AAwZFU0BRfQ80T7aiHqQobn4Nybe5o6ceWpVdVY5EVnUe2FWZQ0DXHfGCfdHnz13aLOtLN-6rLVNUYJJcIVVmqzid9yX_1AMAAICrnvV3p1gA30TxSw-DHFhII0K4p1ei1cDGjAcLq960aQTHgLu_zX4SPXlMq8AywJEPNxovFzcJjXMAqI9HSpCuttCEh4z_mwH8MxU-0B54.RYi2dFN3mw5jBagRSpWCJcFaua419Tln2ssUD3voils%26dib_tag%3Dse%26keywords%3Dguitars%26qid%3D1714183054%26sprefix%3Dguitars%252Caps%252C263%26sr%3D8-21-spons%26sp_csd%3Dd2lkZ2V0TmFtZT1zcF9tdGY%26psc%3D1',\n",
       " 'https://www.amazon.in/sspa/click?ie=UTF8&spc=MToyNzE4Mzk3MDg0ODQ0MTE3OjE3MTQxODMwNTQ6c3BfbXRmOjIwMDg4NDY1OTA5NDA0OjowOjo&url=%2FHenrix-Cutaway-Acoustic-Die-Cast-Tuners%2Fdp%2FB07KMXDXBV%2Fref%3Dsr_1_22_sspa%3Fcrid%3DZHTUQUYV52AT%26dib%3DeyJ2IjoiMSJ9.Y1UxTEOx24iAUysPbVbJ2YwwrqWm2xZqTl7W4yWOzDKhKueS755oeD551GNy1OU2rn6RnVG5k26W8bMZy29yELEmq_QwQ6AAwZFU0BRfQ80T7aiHqQobn4Nybe5o6ceWpVdVY5EVnUe2FWZQ0DXHfGCfdHnz13aLOtLN-6rLVNUYJJcIVVmqzid9yX_1AMAAICrnvV3p1gA30TxSw-DHFhII0K4p1ei1cDGjAcLq960aQTHgLu_zX4SPXlMq8AywJEPNxovFzcJjXMAqI9HSpCuttCEh4z_mwH8MxU-0B54.RYi2dFN3mw5jBagRSpWCJcFaua419Tln2ssUD3voils%26dib_tag%3Dse%26keywords%3Dguitars%26qid%3D1714183054%26sprefix%3Dguitars%252Caps%252C263%26sr%3D8-22-spons%26sp_csd%3Dd2lkZ2V0TmFtZT1zcF9tdGY%26psc%3D1',\n",
       " 'https://www.amazon.in/sspa/click?ie=UTF8&spc=MToyNzE4Mzk3MDg0ODQ0MTE3OjE3MTQxODMwNTQ6c3BfbXRmOjIwMTAzNTI4NjU2Nzk4OjowOjo&url=%2FBlueberry-Acoustic-Inbuilt-Strings-Classic%2Fdp%2FB09VLF7G2D%2Fref%3Dsr_1_23_sspa%3Fcrid%3DZHTUQUYV52AT%26dib%3DeyJ2IjoiMSJ9.Y1UxTEOx24iAUysPbVbJ2YwwrqWm2xZqTl7W4yWOzDKhKueS755oeD551GNy1OU2rn6RnVG5k26W8bMZy29yELEmq_QwQ6AAwZFU0BRfQ80T7aiHqQobn4Nybe5o6ceWpVdVY5EVnUe2FWZQ0DXHfGCfdHnz13aLOtLN-6rLVNUYJJcIVVmqzid9yX_1AMAAICrnvV3p1gA30TxSw-DHFhII0K4p1ei1cDGjAcLq960aQTHgLu_zX4SPXlMq8AywJEPNxovFzcJjXMAqI9HSpCuttCEh4z_mwH8MxU-0B54.RYi2dFN3mw5jBagRSpWCJcFaua419Tln2ssUD3voils%26dib_tag%3Dse%26keywords%3Dguitars%26qid%3D1714183054%26sprefix%3Dguitars%252Caps%252C263%26sr%3D8-23-spons%26sp_csd%3Dd2lkZ2V0TmFtZT1zcF9tdGY%26psc%3D1',\n",
       " 'https://www.amazon.in/sspa/click?ie=UTF8&spc=MToyNzE4Mzk3MDg0ODQ0MTE3OjE3MTQxODMwNTQ6c3BfbXRmOjMwMDE0MTgzMjcwNjkzMjo6MDo6&url=%2FRichtone-B239C-Natural-cutaway-Acoustic%2Fdp%2FB0CNW9RZ9D%2Fref%3Dsr_1_24_sspa%3Fcrid%3DZHTUQUYV52AT%26dib%3DeyJ2IjoiMSJ9.Y1UxTEOx24iAUysPbVbJ2YwwrqWm2xZqTl7W4yWOzDKhKueS755oeD551GNy1OU2rn6RnVG5k26W8bMZy29yELEmq_QwQ6AAwZFU0BRfQ80T7aiHqQobn4Nybe5o6ceWpVdVY5EVnUe2FWZQ0DXHfGCfdHnz13aLOtLN-6rLVNUYJJcIVVmqzid9yX_1AMAAICrnvV3p1gA30TxSw-DHFhII0K4p1ei1cDGjAcLq960aQTHgLu_zX4SPXlMq8AywJEPNxovFzcJjXMAqI9HSpCuttCEh4z_mwH8MxU-0B54.RYi2dFN3mw5jBagRSpWCJcFaua419Tln2ssUD3voils%26dib_tag%3Dse%26keywords%3Dguitars%26qid%3D1714183054%26sprefix%3Dguitars%252Caps%252C263%26sr%3D8-24-spons%26sp_csd%3Dd2lkZ2V0TmFtZT1zcF9tdGY%26psc%3D1',\n",
       " 'https://www.amazon.in/JUAREZ-JRZ38C-Acoustic-Natural-Strings/dp/B01FYYTDWC/ref=sr_1_25?crid=ZHTUQUYV52AT&dib=eyJ2IjoiMSJ9.Y1UxTEOx24iAUysPbVbJ2YwwrqWm2xZqTl7W4yWOzDKhKueS755oeD551GNy1OU2rn6RnVG5k26W8bMZy29yELEmq_QwQ6AAwZFU0BRfQ80T7aiHqQobn4Nybe5o6ceWpVdVY5EVnUe2FWZQ0DXHfGCfdHnz13aLOtLN-6rLVNUYJJcIVVmqzid9yX_1AMAAICrnvV3p1gA30TxSw-DHFhII0K4p1ei1cDGjAcLq960aQTHgLu_zX4SPXlMq8AywJEPNxovFzcJjXMAqI9HSpCuttCEh4z_mwH8MxU-0B54.RYi2dFN3mw5jBagRSpWCJcFaua419Tln2ssUD3voils&dib_tag=se&keywords=guitars&qid=1714183054&sprefix=guitars%2Caps%2C263&sr=8-25',\n",
       " 'https://www.amazon.in/JUAREZ-JRZ38C-Handed-Acoustic-Strings/dp/B01FYYTDX6/ref=sr_1_26?crid=ZHTUQUYV52AT&dib=eyJ2IjoiMSJ9.Y1UxTEOx24iAUysPbVbJ2YwwrqWm2xZqTl7W4yWOzDKhKueS755oeD551GNy1OU2rn6RnVG5k26W8bMZy29yELEmq_QwQ6AAwZFU0BRfQ80T7aiHqQobn4Nybe5o6ceWpVdVY5EVnUe2FWZQ0DXHfGCfdHnz13aLOtLN-6rLVNUYJJcIVVmqzid9yX_1AMAAICrnvV3p1gA30TxSw-DHFhII0K4p1ei1cDGjAcLq960aQTHgLu_zX4SPXlMq8AywJEPNxovFzcJjXMAqI9HSpCuttCEh4z_mwH8MxU-0B54.RYi2dFN3mw5jBagRSpWCJcFaua419Tln2ssUD3voils&dib_tag=se&keywords=guitars&qid=1714183054&sprefix=guitars%2Caps%2C263&sr=8-26',\n",
       " 'https://www.amazon.in/Juarez-Strings-Acoustic-Cutaway-Zebrawood/dp/B072Q9L8DG/ref=sr_1_27?crid=ZHTUQUYV52AT&dib=eyJ2IjoiMSJ9.Y1UxTEOx24iAUysPbVbJ2YwwrqWm2xZqTl7W4yWOzDKhKueS755oeD551GNy1OU2rn6RnVG5k26W8bMZy29yELEmq_QwQ6AAwZFU0BRfQ80T7aiHqQobn4Nybe5o6ceWpVdVY5EVnUe2FWZQ0DXHfGCfdHnz13aLOtLN-6rLVNUYJJcIVVmqzid9yX_1AMAAICrnvV3p1gA30TxSw-DHFhII0K4p1ei1cDGjAcLq960aQTHgLu_zX4SPXlMq8AywJEPNxovFzcJjXMAqI9HSpCuttCEh4z_mwH8MxU-0B54.RYi2dFN3mw5jBagRSpWCJcFaua419Tln2ssUD3voils&dib_tag=se&keywords=guitars&qid=1714183054&sprefix=guitars%2Caps%2C263&sr=8-27',\n",
       " 'https://www.amazon.in/YAMAHA-FS80C-CONCERT-CUTAWAY-GUITAR/dp/B08WBBVMVJ/ref=sr_1_28?crid=ZHTUQUYV52AT&dib=eyJ2IjoiMSJ9.Y1UxTEOx24iAUysPbVbJ2YwwrqWm2xZqTl7W4yWOzDKhKueS755oeD551GNy1OU2rn6RnVG5k26W8bMZy29yELEmq_QwQ6AAwZFU0BRfQ80T7aiHqQobn4Nybe5o6ceWpVdVY5EVnUe2FWZQ0DXHfGCfdHnz13aLOtLN-6rLVNUYJJcIVVmqzid9yX_1AMAAICrnvV3p1gA30TxSw-DHFhII0K4p1ei1cDGjAcLq960aQTHgLu_zX4SPXlMq8AywJEPNxovFzcJjXMAqI9HSpCuttCEh4z_mwH8MxU-0B54.RYi2dFN3mw5jBagRSpWCJcFaua419Tln2ssUD3voils&dib_tag=se&keywords=guitars&qid=1714183054&sprefix=guitars%2Caps%2C263&sr=8-28',\n",
       " 'https://www.amazon.in/Yamaha-Classical-Guitar-C40-02/dp/B003UGCUFE/ref=sr_1_29?crid=ZHTUQUYV52AT&dib=eyJ2IjoiMSJ9.Y1UxTEOx24iAUysPbVbJ2YwwrqWm2xZqTl7W4yWOzDKhKueS755oeD551GNy1OU2rn6RnVG5k26W8bMZy29yELEmq_QwQ6AAwZFU0BRfQ80T7aiHqQobn4Nybe5o6ceWpVdVY5EVnUe2FWZQ0DXHfGCfdHnz13aLOtLN-6rLVNUYJJcIVVmqzid9yX_1AMAAICrnvV3p1gA30TxSw-DHFhII0K4p1ei1cDGjAcLq960aQTHgLu_zX4SPXlMq8AywJEPNxovFzcJjXMAqI9HSpCuttCEh4z_mwH8MxU-0B54.RYi2dFN3mw5jBagRSpWCJcFaua419Tln2ssUD3voils&dib_tag=se&keywords=guitars&qid=1714183054&sprefix=guitars%2Caps%2C263&sr=8-29',\n",
       " 'https://www.amazon.in/JUAREZ-JRZ38C-BKNA/dp/B0BCQNVPRB/ref=sr_1_30?crid=ZHTUQUYV52AT&dib=eyJ2IjoiMSJ9.Y1UxTEOx24iAUysPbVbJ2YwwrqWm2xZqTl7W4yWOzDKhKueS755oeD551GNy1OU2rn6RnVG5k26W8bMZy29yELEmq_QwQ6AAwZFU0BRfQ80T7aiHqQobn4Nybe5o6ceWpVdVY5EVnUe2FWZQ0DXHfGCfdHnz13aLOtLN-6rLVNUYJJcIVVmqzid9yX_1AMAAICrnvV3p1gA30TxSw-DHFhII0K4p1ei1cDGjAcLq960aQTHgLu_zX4SPXlMq8AywJEPNxovFzcJjXMAqI9HSpCuttCEh4z_mwH8MxU-0B54.RYi2dFN3mw5jBagRSpWCJcFaua419Tln2ssUD3voils&dib_tag=se&keywords=guitars&qid=1714183054&sprefix=guitars%2Caps%2C263&sr=8-30',\n",
       " 'https://www.amazon.in/Juarez-Acoustic-Cutaway-BK-Strings/dp/B076T3RHMG/ref=sr_1_31?crid=ZHTUQUYV52AT&dib=eyJ2IjoiMSJ9.Y1UxTEOx24iAUysPbVbJ2YwwrqWm2xZqTl7W4yWOzDKhKueS755oeD551GNy1OU2rn6RnVG5k26W8bMZy29yELEmq_QwQ6AAwZFU0BRfQ80T7aiHqQobn4Nybe5o6ceWpVdVY5EVnUe2FWZQ0DXHfGCfdHnz13aLOtLN-6rLVNUYJJcIVVmqzid9yX_1AMAAICrnvV3p1gA30TxSw-DHFhII0K4p1ei1cDGjAcLq960aQTHgLu_zX4SPXlMq8AywJEPNxovFzcJjXMAqI9HSpCuttCEh4z_mwH8MxU-0B54.RYi2dFN3mw5jBagRSpWCJcFaua419Tln2ssUD3voils&dib_tag=se&keywords=guitars&qid=1714183054&sprefix=guitars%2Caps%2C263&sr=8-31',\n",
       " 'https://www.amazon.in/Yamaha-FS-100C-6-String-Acoustic-without/dp/B00PAS9CK6/ref=sr_1_32?crid=ZHTUQUYV52AT&dib=eyJ2IjoiMSJ9.Y1UxTEOx24iAUysPbVbJ2YwwrqWm2xZqTl7W4yWOzDKhKueS755oeD551GNy1OU2rn6RnVG5k26W8bMZy29yELEmq_QwQ6AAwZFU0BRfQ80T7aiHqQobn4Nybe5o6ceWpVdVY5EVnUe2FWZQ0DXHfGCfdHnz13aLOtLN-6rLVNUYJJcIVVmqzid9yX_1AMAAICrnvV3p1gA30TxSw-DHFhII0K4p1ei1cDGjAcLq960aQTHgLu_zX4SPXlMq8AywJEPNxovFzcJjXMAqI9HSpCuttCEh4z_mwH8MxU-0B54.RYi2dFN3mw5jBagRSpWCJcFaua419Tln2ssUD3voils&dib_tag=se&keywords=guitars&qid=1714183054&sprefix=guitars%2Caps%2C263&sr=8-32',\n",
       " 'https://www.amazon.in/Juarez-JRZ-ST01-6-String-Electric-Without/dp/B01FYZSOGM/ref=sr_1_33?crid=ZHTUQUYV52AT&dib=eyJ2IjoiMSJ9.Y1UxTEOx24iAUysPbVbJ2YwwrqWm2xZqTl7W4yWOzDKhKueS755oeD551GNy1OU2rn6RnVG5k26W8bMZy29yELEmq_QwQ6AAwZFU0BRfQ80T7aiHqQobn4Nybe5o6ceWpVdVY5EVnUe2FWZQ0DXHfGCfdHnz13aLOtLN-6rLVNUYJJcIVVmqzid9yX_1AMAAICrnvV3p1gA30TxSw-DHFhII0K4p1ei1cDGjAcLq960aQTHgLu_zX4SPXlMq8AywJEPNxovFzcJjXMAqI9HSpCuttCEh4z_mwH8MxU-0B54.RYi2dFN3mw5jBagRSpWCJcFaua419Tln2ssUD3voils&dib_tag=se&keywords=guitars&qid=1714183054&sprefix=guitars%2Caps%2C263&sr=8-33',\n",
       " 'https://www.amazon.in/Intern-38-inch-Cutaway-Design-Acoustic/dp/B07X4PN85R/ref=sr_1_34?crid=ZHTUQUYV52AT&dib=eyJ2IjoiMSJ9.Y1UxTEOx24iAUysPbVbJ2YwwrqWm2xZqTl7W4yWOzDKhKueS755oeD551GNy1OU2rn6RnVG5k26W8bMZy29yELEmq_QwQ6AAwZFU0BRfQ80T7aiHqQobn4Nybe5o6ceWpVdVY5EVnUe2FWZQ0DXHfGCfdHnz13aLOtLN-6rLVNUYJJcIVVmqzid9yX_1AMAAICrnvV3p1gA30TxSw-DHFhII0K4p1ei1cDGjAcLq960aQTHgLu_zX4SPXlMq8AywJEPNxovFzcJjXMAqI9HSpCuttCEh4z_mwH8MxU-0B54.RYi2dFN3mw5jBagRSpWCJcFaua419Tln2ssUD3voils&dib_tag=se&keywords=guitars&qid=1714183054&sprefix=guitars%2Caps%2C263&sr=8-34',\n",
       " 'https://www.amazon.in/Yamaha-FSX80C-Acoustic-Cutaway-Guitar/dp/B09HL5WFDX/ref=sr_1_35?crid=ZHTUQUYV52AT&dib=eyJ2IjoiMSJ9.Y1UxTEOx24iAUysPbVbJ2YwwrqWm2xZqTl7W4yWOzDKhKueS755oeD551GNy1OU2rn6RnVG5k26W8bMZy29yELEmq_QwQ6AAwZFU0BRfQ80T7aiHqQobn4Nybe5o6ceWpVdVY5EVnUe2FWZQ0DXHfGCfdHnz13aLOtLN-6rLVNUYJJcIVVmqzid9yX_1AMAAICrnvV3p1gA30TxSw-DHFhII0K4p1ei1cDGjAcLq960aQTHgLu_zX4SPXlMq8AywJEPNxovFzcJjXMAqI9HSpCuttCEh4z_mwH8MxU-0B54.RYi2dFN3mw5jBagRSpWCJcFaua419Tln2ssUD3voils&dib_tag=se&keywords=guitars&qid=1714183054&sprefix=guitars%2Caps%2C263&sr=8-35',\n",
       " 'https://www.amazon.in/Kadence-Frontier-Acoustic-Guitar-Strings/dp/B01GDZ46AA/ref=sr_1_36?crid=ZHTUQUYV52AT&dib=eyJ2IjoiMSJ9.Y1UxTEOx24iAUysPbVbJ2YwwrqWm2xZqTl7W4yWOzDKhKueS755oeD551GNy1OU2rn6RnVG5k26W8bMZy29yELEmq_QwQ6AAwZFU0BRfQ80T7aiHqQobn4Nybe5o6ceWpVdVY5EVnUe2FWZQ0DXHfGCfdHnz13aLOtLN-6rLVNUYJJcIVVmqzid9yX_1AMAAICrnvV3p1gA30TxSw-DHFhII0K4p1ei1cDGjAcLq960aQTHgLu_zX4SPXlMq8AywJEPNxovFzcJjXMAqI9HSpCuttCEh4z_mwH8MxU-0B54.RYi2dFN3mw5jBagRSpWCJcFaua419Tln2ssUD3voils&dib_tag=se&keywords=guitars&qid=1714183054&sprefix=guitars%2Caps%2C263&sr=8-36',\n",
       " 'https://www.amazon.in/Kadence-Acoustica-Electric-Acoustic-fretboard/dp/B0CZ8RQYS1/ref=sr_1_37?crid=ZHTUQUYV52AT&dib=eyJ2IjoiMSJ9.Y1UxTEOx24iAUysPbVbJ2YwwrqWm2xZqTl7W4yWOzDKhKueS755oeD551GNy1OU2rn6RnVG5k26W8bMZy29yELEmq_QwQ6AAwZFU0BRfQ80T7aiHqQobn4Nybe5o6ceWpVdVY5EVnUe2FWZQ0DXHfGCfdHnz13aLOtLN-6rLVNUYJJcIVVmqzid9yX_1AMAAICrnvV3p1gA30TxSw-DHFhII0K4p1ei1cDGjAcLq960aQTHgLu_zX4SPXlMq8AywJEPNxovFzcJjXMAqI9HSpCuttCEh4z_mwH8MxU-0B54.RYi2dFN3mw5jBagRSpWCJcFaua419Tln2ssUD3voils&dib_tag=se&keywords=guitars&qid=1714183054&sprefix=guitars%2Caps%2C263&sr=8-37',\n",
       " 'https://www.amazon.in/YAMAHA-NATURAL-CONCERT-CUTAWAY-GUITAR/dp/B08KW4DRKL/ref=sr_1_38?crid=ZHTUQUYV52AT&dib=eyJ2IjoiMSJ9.Y1UxTEOx24iAUysPbVbJ2YwwrqWm2xZqTl7W4yWOzDKhKueS755oeD551GNy1OU2rn6RnVG5k26W8bMZy29yELEmq_QwQ6AAwZFU0BRfQ80T7aiHqQobn4Nybe5o6ceWpVdVY5EVnUe2FWZQ0DXHfGCfdHnz13aLOtLN-6rLVNUYJJcIVVmqzid9yX_1AMAAICrnvV3p1gA30TxSw-DHFhII0K4p1ei1cDGjAcLq960aQTHgLu_zX4SPXlMq8AywJEPNxovFzcJjXMAqI9HSpCuttCEh4z_mwH8MxU-0B54.RYi2dFN3mw5jBagRSpWCJcFaua419Tln2ssUD3voils&dib_tag=se&keywords=guitars&qid=1714183054&sprefix=guitars%2Caps%2C263&sr=8-38',\n",
       " 'https://www.amazon.in/JUAREZ-JRZ38C-Handed-Acoustic-Strings/dp/B01FYYTDW2/ref=sr_1_39?crid=ZHTUQUYV52AT&dib=eyJ2IjoiMSJ9.Y1UxTEOx24iAUysPbVbJ2YwwrqWm2xZqTl7W4yWOzDKhKueS755oeD551GNy1OU2rn6RnVG5k26W8bMZy29yELEmq_QwQ6AAwZFU0BRfQ80T7aiHqQobn4Nybe5o6ceWpVdVY5EVnUe2FWZQ0DXHfGCfdHnz13aLOtLN-6rLVNUYJJcIVVmqzid9yX_1AMAAICrnvV3p1gA30TxSw-DHFhII0K4p1ei1cDGjAcLq960aQTHgLu_zX4SPXlMq8AywJEPNxovFzcJjXMAqI9HSpCuttCEh4z_mwH8MxU-0B54.RYi2dFN3mw5jBagRSpWCJcFaua419Tln2ssUD3voils&dib_tag=se&keywords=guitars&qid=1714183054&sprefix=guitars%2Caps%2C263&sr=8-39',\n",
       " 'https://www.amazon.in/Strings-Straps-String-winder-Polishing/dp/B07RV9FJ2Z/ref=sr_1_40?crid=ZHTUQUYV52AT&dib=eyJ2IjoiMSJ9.Y1UxTEOx24iAUysPbVbJ2YwwrqWm2xZqTl7W4yWOzDKhKueS755oeD551GNy1OU2rn6RnVG5k26W8bMZy29yELEmq_QwQ6AAwZFU0BRfQ80T7aiHqQobn4Nybe5o6ceWpVdVY5EVnUe2FWZQ0DXHfGCfdHnz13aLOtLN-6rLVNUYJJcIVVmqzid9yX_1AMAAICrnvV3p1gA30TxSw-DHFhII0K4p1ei1cDGjAcLq960aQTHgLu_zX4SPXlMq8AywJEPNxovFzcJjXMAqI9HSpCuttCEh4z_mwH8MxU-0B54.RYi2dFN3mw5jBagRSpWCJcFaua419Tln2ssUD3voils&dib_tag=se&keywords=guitars&qid=1714183054&sprefix=guitars%2Caps%2C263&sr=8-40',\n",
       " 'https://www.amazon.in/Medellin-Acoustic-Guitar-learning-Strings/dp/B0CCNSN9BV/ref=sr_1_41?crid=ZHTUQUYV52AT&dib=eyJ2IjoiMSJ9.Y1UxTEOx24iAUysPbVbJ2YwwrqWm2xZqTl7W4yWOzDKhKueS755oeD551GNy1OU2rn6RnVG5k26W8bMZy29yELEmq_QwQ6AAwZFU0BRfQ80T7aiHqQobn4Nybe5o6ceWpVdVY5EVnUe2FWZQ0DXHfGCfdHnz13aLOtLN-6rLVNUYJJcIVVmqzid9yX_1AMAAICrnvV3p1gA30TxSw-DHFhII0K4p1ei1cDGjAcLq960aQTHgLu_zX4SPXlMq8AywJEPNxovFzcJjXMAqI9HSpCuttCEh4z_mwH8MxU-0B54.RYi2dFN3mw5jBagRSpWCJcFaua419Tln2ssUD3voils&dib_tag=se&keywords=guitars&qid=1714183054&sprefix=guitars%2Caps%2C263&sr=8-41',\n",
       " 'https://www.amazon.in/Yamaha-F310-6-Strings-Acoustic-Natural/dp/B000RVYW7E/ref=sr_1_42?crid=ZHTUQUYV52AT&dib=eyJ2IjoiMSJ9.Y1UxTEOx24iAUysPbVbJ2YwwrqWm2xZqTl7W4yWOzDKhKueS755oeD551GNy1OU2rn6RnVG5k26W8bMZy29yELEmq_QwQ6AAwZFU0BRfQ80T7aiHqQobn4Nybe5o6ceWpVdVY5EVnUe2FWZQ0DXHfGCfdHnz13aLOtLN-6rLVNUYJJcIVVmqzid9yX_1AMAAICrnvV3p1gA30TxSw-DHFhII0K4p1ei1cDGjAcLq960aQTHgLu_zX4SPXlMq8AywJEPNxovFzcJjXMAqI9HSpCuttCEh4z_mwH8MxU-0B54.RYi2dFN3mw5jBagRSpWCJcFaua419Tln2ssUD3voils&dib_tag=se&keywords=guitars&qid=1714183054&sprefix=guitars%2Caps%2C263&sr=8-42',\n",
       " 'https://www.amazon.in/JUAREZ-JRZ38C-3TSNA/dp/B0BCQQRDF3/ref=sr_1_43?crid=ZHTUQUYV52AT&dib=eyJ2IjoiMSJ9.Y1UxTEOx24iAUysPbVbJ2YwwrqWm2xZqTl7W4yWOzDKhKueS755oeD551GNy1OU2rn6RnVG5k26W8bMZy29yELEmq_QwQ6AAwZFU0BRfQ80T7aiHqQobn4Nybe5o6ceWpVdVY5EVnUe2FWZQ0DXHfGCfdHnz13aLOtLN-6rLVNUYJJcIVVmqzid9yX_1AMAAICrnvV3p1gA30TxSw-DHFhII0K4p1ei1cDGjAcLq960aQTHgLu_zX4SPXlMq8AywJEPNxovFzcJjXMAqI9HSpCuttCEh4z_mwH8MxU-0B54.RYi2dFN3mw5jBagRSpWCJcFaua419Tln2ssUD3voils&dib_tag=se&keywords=guitars&qid=1714183054&sprefix=guitars%2Caps%2C263&sr=8-43',\n",
       " 'https://www.amazon.in/Kadence-Slowhand-Premium-Acoustic-Instrument/dp/B077SZ667X/ref=sr_1_44?crid=ZHTUQUYV52AT&dib=eyJ2IjoiMSJ9.Y1UxTEOx24iAUysPbVbJ2YwwrqWm2xZqTl7W4yWOzDKhKueS755oeD551GNy1OU2rn6RnVG5k26W8bMZy29yELEmq_QwQ6AAwZFU0BRfQ80T7aiHqQobn4Nybe5o6ceWpVdVY5EVnUe2FWZQ0DXHfGCfdHnz13aLOtLN-6rLVNUYJJcIVVmqzid9yX_1AMAAICrnvV3p1gA30TxSw-DHFhII0K4p1ei1cDGjAcLq960aQTHgLu_zX4SPXlMq8AywJEPNxovFzcJjXMAqI9HSpCuttCEh4z_mwH8MxU-0B54.RYi2dFN3mw5jBagRSpWCJcFaua419Tln2ssUD3voils&dib_tag=se&keywords=guitars&qid=1714183054&sprefix=guitars%2Caps%2C263&sr=8-44',\n",
       " 'https://www.amazon.in/Yamaha-Acoustic-Guitar-Tobacco-Sunburst/dp/B08VXR74Q2/ref=sr_1_45?crid=ZHTUQUYV52AT&dib=eyJ2IjoiMSJ9.Y1UxTEOx24iAUysPbVbJ2YwwrqWm2xZqTl7W4yWOzDKhKueS755oeD551GNy1OU2rn6RnVG5k26W8bMZy29yELEmq_QwQ6AAwZFU0BRfQ80T7aiHqQobn4Nybe5o6ceWpVdVY5EVnUe2FWZQ0DXHfGCfdHnz13aLOtLN-6rLVNUYJJcIVVmqzid9yX_1AMAAICrnvV3p1gA30TxSw-DHFhII0K4p1ei1cDGjAcLq960aQTHgLu_zX4SPXlMq8AywJEPNxovFzcJjXMAqI9HSpCuttCEh4z_mwH8MxU-0B54.RYi2dFN3mw5jBagRSpWCJcFaua419Tln2ssUD3voils&dib_tag=se&keywords=guitars&qid=1714183054&sprefix=guitars%2Caps%2C263&sr=8-45',\n",
       " 'https://www.amazon.in/Yamaha-C40MII-Acoustic-Concert-Guitar/dp/B005LG2JRK/ref=sr_1_46?crid=ZHTUQUYV52AT&dib=eyJ2IjoiMSJ9.Y1UxTEOx24iAUysPbVbJ2YwwrqWm2xZqTl7W4yWOzDKhKueS755oeD551GNy1OU2rn6RnVG5k26W8bMZy29yELEmq_QwQ6AAwZFU0BRfQ80T7aiHqQobn4Nybe5o6ceWpVdVY5EVnUe2FWZQ0DXHfGCfdHnz13aLOtLN-6rLVNUYJJcIVVmqzid9yX_1AMAAICrnvV3p1gA30TxSw-DHFhII0K4p1ei1cDGjAcLq960aQTHgLu_zX4SPXlMq8AywJEPNxovFzcJjXMAqI9HSpCuttCEh4z_mwH8MxU-0B54.RYi2dFN3mw5jBagRSpWCJcFaua419Tln2ssUD3voils&dib_tag=se&keywords=guitars&qid=1714183054&sprefix=guitars%2Caps%2C263&sr=8-46',\n",
       " 'https://www.amazon.in/Kadence-Acoustica-Acoustic-Guitar-Zebra/dp/B07KXNKLJ2/ref=sr_1_47?crid=ZHTUQUYV52AT&dib=eyJ2IjoiMSJ9.Y1UxTEOx24iAUysPbVbJ2YwwrqWm2xZqTl7W4yWOzDKhKueS755oeD551GNy1OU2rn6RnVG5k26W8bMZy29yELEmq_QwQ6AAwZFU0BRfQ80T7aiHqQobn4Nybe5o6ceWpVdVY5EVnUe2FWZQ0DXHfGCfdHnz13aLOtLN-6rLVNUYJJcIVVmqzid9yX_1AMAAICrnvV3p1gA30TxSw-DHFhII0K4p1ei1cDGjAcLq960aQTHgLu_zX4SPXlMq8AywJEPNxovFzcJjXMAqI9HSpCuttCEh4z_mwH8MxU-0B54.RYi2dFN3mw5jBagRSpWCJcFaua419Tln2ssUD3voils&dib_tag=se&keywords=guitars&qid=1714183054&sprefix=guitars%2Caps%2C263&sr=8-47',\n",
       " 'https://www.amazon.in/Kadence-Professional-Acoustic-Rosewood-Natural/dp/B0CC927DLN/ref=sr_1_48?crid=ZHTUQUYV52AT&dib=eyJ2IjoiMSJ9.Y1UxTEOx24iAUysPbVbJ2YwwrqWm2xZqTl7W4yWOzDKhKueS755oeD551GNy1OU2rn6RnVG5k26W8bMZy29yELEmq_QwQ6AAwZFU0BRfQ80T7aiHqQobn4Nybe5o6ceWpVdVY5EVnUe2FWZQ0DXHfGCfdHnz13aLOtLN-6rLVNUYJJcIVVmqzid9yX_1AMAAICrnvV3p1gA30TxSw-DHFhII0K4p1ei1cDGjAcLq960aQTHgLu_zX4SPXlMq8AywJEPNxovFzcJjXMAqI9HSpCuttCEh4z_mwH8MxU-0B54.RYi2dFN3mw5jBagRSpWCJcFaua419Tln2ssUD3voils&dib_tag=se&keywords=guitars&qid=1714183054&sprefix=guitars%2Caps%2C263&sr=8-48',\n",
       " 'https://www.amazon.in/Fender-FA-235E-Concert-Bodied-Acoustic/dp/B07BCQ7P7Z/ref=sr_1_49?crid=ZHTUQUYV52AT&dib=eyJ2IjoiMSJ9.Y1UxTEOx24iAUysPbVbJ2YwwrqWm2xZqTl7W4yWOzDKhKueS755oeD551GNy1OU2rn6RnVG5k26W8bMZy29yELEmq_QwQ6AAwZFU0BRfQ80T7aiHqQobn4Nybe5o6ceWpVdVY5EVnUe2FWZQ0DXHfGCfdHnz13aLOtLN-6rLVNUYJJcIVVmqzid9yX_1AMAAICrnvV3p1gA30TxSw-DHFhII0K4p1ei1cDGjAcLq960aQTHgLu_zX4SPXlMq8AywJEPNxovFzcJjXMAqI9HSpCuttCEh4z_mwH8MxU-0B54.RYi2dFN3mw5jBagRSpWCJcFaua419Tln2ssUD3voils&dib_tag=se&keywords=guitars&qid=1714183054&sprefix=guitars%2Caps%2C263&sr=8-49',\n",
       " 'https://www.amazon.in/yamaha-acoustic-guitar-Dreadnought-Plectrums/dp/B07KB8VP6X/ref=sr_1_50?crid=ZHTUQUYV52AT&dib=eyJ2IjoiMSJ9.Y1UxTEOx24iAUysPbVbJ2YwwrqWm2xZqTl7W4yWOzDKhKueS755oeD551GNy1OU2rn6RnVG5k26W8bMZy29yELEmq_QwQ6AAwZFU0BRfQ80T7aiHqQobn4Nybe5o6ceWpVdVY5EVnUe2FWZQ0DXHfGCfdHnz13aLOtLN-6rLVNUYJJcIVVmqzid9yX_1AMAAICrnvV3p1gA30TxSw-DHFhII0K4p1ei1cDGjAcLq960aQTHgLu_zX4SPXlMq8AywJEPNxovFzcJjXMAqI9HSpCuttCEh4z_mwH8MxU-0B54.RYi2dFN3mw5jBagRSpWCJcFaua419Tln2ssUD3voils&dib_tag=se&keywords=guitars&qid=1714183054&sprefix=guitars%2Caps%2C263&sr=8-50',\n",
       " 'https://www.amazon.in/Juarez-Acoustic-Guitar-Cutaway-JRZ38CT/dp/B01N3TTYJQ/ref=sr_1_51?crid=ZHTUQUYV52AT&dib=eyJ2IjoiMSJ9.Y1UxTEOx24iAUysPbVbJ2YwwrqWm2xZqTl7W4yWOzDKhKueS755oeD551GNy1OU2rn6RnVG5k26W8bMZy29yELEmq_QwQ6AAwZFU0BRfQ80T7aiHqQobn4Nybe5o6ceWpVdVY5EVnUe2FWZQ0DXHfGCfdHnz13aLOtLN-6rLVNUYJJcIVVmqzid9yX_1AMAAICrnvV3p1gA30TxSw-DHFhII0K4p1ei1cDGjAcLq960aQTHgLu_zX4SPXlMq8AywJEPNxovFzcJjXMAqI9HSpCuttCEh4z_mwH8MxU-0B54.RYi2dFN3mw5jBagRSpWCJcFaua419Tln2ssUD3voils&dib_tag=se&keywords=guitars&qid=1714183054&sprefix=guitars%2Caps%2C263&sr=8-51',\n",
       " 'https://www.amazon.in/Vault-ST1-Premium-Electric-Guitar/dp/B09GLYSJ8W/ref=sr_1_52?crid=ZHTUQUYV52AT&dib=eyJ2IjoiMSJ9.Y1UxTEOx24iAUysPbVbJ2YwwrqWm2xZqTl7W4yWOzDKhKueS755oeD551GNy1OU2rn6RnVG5k26W8bMZy29yELEmq_QwQ6AAwZFU0BRfQ80T7aiHqQobn4Nybe5o6ceWpVdVY5EVnUe2FWZQ0DXHfGCfdHnz13aLOtLN-6rLVNUYJJcIVVmqzid9yX_1AMAAICrnvV3p1gA30TxSw-DHFhII0K4p1ei1cDGjAcLq960aQTHgLu_zX4SPXlMq8AywJEPNxovFzcJjXMAqI9HSpCuttCEh4z_mwH8MxU-0B54.RYi2dFN3mw5jBagRSpWCJcFaua419Tln2ssUD3voils&dib_tag=se&keywords=guitars&qid=1714183054&sprefix=guitars%2Caps%2C263&sr=8-52',\n",
       " 'https://www.amazon.in/Donner-Silent-Guitar-Mahogany/dp/B09Q8CXL2K/ref=sr_1_53?crid=ZHTUQUYV52AT&dib=eyJ2IjoiMSJ9.Y1UxTEOx24iAUysPbVbJ2YwwrqWm2xZqTl7W4yWOzDKhKueS755oeD551GNy1OU2rn6RnVG5k26W8bMZy29yELEmq_QwQ6AAwZFU0BRfQ80T7aiHqQobn4Nybe5o6ceWpVdVY5EVnUe2FWZQ0DXHfGCfdHnz13aLOtLN-6rLVNUYJJcIVVmqzid9yX_1AMAAICrnvV3p1gA30TxSw-DHFhII0K4p1ei1cDGjAcLq960aQTHgLu_zX4SPXlMq8AywJEPNxovFzcJjXMAqI9HSpCuttCEh4z_mwH8MxU-0B54.RYi2dFN3mw5jBagRSpWCJcFaua419Tln2ssUD3voils&dib_tag=se&keywords=guitars&qid=1714183054&sprefix=guitars%2Caps%2C263&sr=8-53',\n",
       " 'https://www.amazon.in/Ultimate-Concert-Cutaway-Acoustic-Bajaao/dp/B08WHWKKV5/ref=sr_1_54?crid=ZHTUQUYV52AT&dib=eyJ2IjoiMSJ9.Y1UxTEOx24iAUysPbVbJ2YwwrqWm2xZqTl7W4yWOzDKhKueS755oeD551GNy1OU2rn6RnVG5k26W8bMZy29yELEmq_QwQ6AAwZFU0BRfQ80T7aiHqQobn4Nybe5o6ceWpVdVY5EVnUe2FWZQ0DXHfGCfdHnz13aLOtLN-6rLVNUYJJcIVVmqzid9yX_1AMAAICrnvV3p1gA30TxSw-DHFhII0K4p1ei1cDGjAcLq960aQTHgLu_zX4SPXlMq8AywJEPNxovFzcJjXMAqI9HSpCuttCEh4z_mwH8MxU-0B54.RYi2dFN3mw5jBagRSpWCJcFaua419Tln2ssUD3voils&dib_tag=se&keywords=guitars&qid=1714183054&sprefix=guitars%2Caps%2C263&sr=8-54',\n",
       " 'https://www.amazon.in/Ibanez-GRGR221PA-Electric-Guitar-Burst/dp/B08SHLHBGT/ref=sr_1_55?crid=ZHTUQUYV52AT&dib=eyJ2IjoiMSJ9.Y1UxTEOx24iAUysPbVbJ2YwwrqWm2xZqTl7W4yWOzDKhKueS755oeD551GNy1OU2rn6RnVG5k26W8bMZy29yELEmq_QwQ6AAwZFU0BRfQ80T7aiHqQobn4Nybe5o6ceWpVdVY5EVnUe2FWZQ0DXHfGCfdHnz13aLOtLN-6rLVNUYJJcIVVmqzid9yX_1AMAAICrnvV3p1gA30TxSw-DHFhII0K4p1ei1cDGjAcLq960aQTHgLu_zX4SPXlMq8AywJEPNxovFzcJjXMAqI9HSpCuttCEh4z_mwH8MxU-0B54.RYi2dFN3mw5jBagRSpWCJcFaua419Tln2ssUD3voils&dib_tag=se&keywords=guitars&qid=1714183054&sprefix=guitars%2Caps%2C263&sr=8-55',\n",
       " 'https://www.amazon.in/Cort-AD810-Dreadnought-Acoustic-Guitar/dp/B07G4CB8FQ/ref=sr_1_56?crid=ZHTUQUYV52AT&dib=eyJ2IjoiMSJ9.Y1UxTEOx24iAUysPbVbJ2YwwrqWm2xZqTl7W4yWOzDKhKueS755oeD551GNy1OU2rn6RnVG5k26W8bMZy29yELEmq_QwQ6AAwZFU0BRfQ80T7aiHqQobn4Nybe5o6ceWpVdVY5EVnUe2FWZQ0DXHfGCfdHnz13aLOtLN-6rLVNUYJJcIVVmqzid9yX_1AMAAICrnvV3p1gA30TxSw-DHFhII0K4p1ei1cDGjAcLq960aQTHgLu_zX4SPXlMq8AywJEPNxovFzcJjXMAqI9HSpCuttCEh4z_mwH8MxU-0B54.RYi2dFN3mw5jBagRSpWCJcFaua419Tln2ssUD3voils&dib_tag=se&keywords=guitars&qid=1714183054&sprefix=guitars%2Caps%2C263&sr=8-56',\n",
       " 'https://www.amazon.in/sspa/click?ie=UTF8&spc=MToyNzE4Mzk3MDg0ODQ0MTE3OjE3MTQxODMwNTQ6c3BfYnRmOjIwMTI3OTkwMDI5Mzk4OjowOjo&url=%2FBlueberry-VIP-341-Natural-Acoustic%2Fdp%2FB0BVVJ8VG5%2Fref%3Dsr_1_57_sspa%3Fcrid%3DZHTUQUYV52AT%26dib%3DeyJ2IjoiMSJ9.Y1UxTEOx24iAUysPbVbJ2YwwrqWm2xZqTl7W4yWOzDKhKueS755oeD551GNy1OU2rn6RnVG5k26W8bMZy29yELEmq_QwQ6AAwZFU0BRfQ80T7aiHqQobn4Nybe5o6ceWpVdVY5EVnUe2FWZQ0DXHfGCfdHnz13aLOtLN-6rLVNUYJJcIVVmqzid9yX_1AMAAICrnvV3p1gA30TxSw-DHFhII0K4p1ei1cDGjAcLq960aQTHgLu_zX4SPXlMq8AywJEPNxovFzcJjXMAqI9HSpCuttCEh4z_mwH8MxU-0B54.RYi2dFN3mw5jBagRSpWCJcFaua419Tln2ssUD3voils%26dib_tag%3Dse%26keywords%3Dguitars%26qid%3D1714183054%26sprefix%3Dguitars%252Caps%252C263%26sr%3D8-57-spons%26sp_csd%3Dd2lkZ2V0TmFtZT1zcF9idGY%26psc%3D1',\n",
       " 'https://www.amazon.in/sspa/click?ie=UTF8&spc=MToyNzE4Mzk3MDg0ODQ0MTE3OjE3MTQxODMwNTQ6c3BfYnRmOjIwMDc4MzM2ODg1Nzk4OjowOjo&url=%2FFestra-Trussrod-Acoustic-Strings-Classic%2Fdp%2FB09VLF711S%2Fref%3Dsr_1_58_sspa%3Fcrid%3DZHTUQUYV52AT%26dib%3DeyJ2IjoiMSJ9.Y1UxTEOx24iAUysPbVbJ2YwwrqWm2xZqTl7W4yWOzDKhKueS755oeD551GNy1OU2rn6RnVG5k26W8bMZy29yELEmq_QwQ6AAwZFU0BRfQ80T7aiHqQobn4Nybe5o6ceWpVdVY5EVnUe2FWZQ0DXHfGCfdHnz13aLOtLN-6rLVNUYJJcIVVmqzid9yX_1AMAAICrnvV3p1gA30TxSw-DHFhII0K4p1ei1cDGjAcLq960aQTHgLu_zX4SPXlMq8AywJEPNxovFzcJjXMAqI9HSpCuttCEh4z_mwH8MxU-0B54.RYi2dFN3mw5jBagRSpWCJcFaua419Tln2ssUD3voils%26dib_tag%3Dse%26keywords%3Dguitars%26qid%3D1714183054%26sprefix%3Dguitars%252Caps%252C263%26sr%3D8-58-spons%26sp_csd%3Dd2lkZ2V0TmFtZT1zcF9idGY%26psc%3D1',\n",
       " 'https://www.amazon.in/sspa/click?ie=UTF8&spc=MToyNzE4Mzk3MDg0ODQ0MTE3OjE3MTQxODMwNTQ6c3BfYnRmOjIwMTI3OTkwMDI4Mzk4OjowOjo&url=%2FBlueberry-VIP-400-40Inch-TrussRod-Acoustic%2Fdp%2FB0BVYY6ND2%2Fref%3Dsr_1_59_sspa%3Fcrid%3DZHTUQUYV52AT%26dib%3DeyJ2IjoiMSJ9.Y1UxTEOx24iAUysPbVbJ2YwwrqWm2xZqTl7W4yWOzDKhKueS755oeD551GNy1OU2rn6RnVG5k26W8bMZy29yELEmq_QwQ6AAwZFU0BRfQ80T7aiHqQobn4Nybe5o6ceWpVdVY5EVnUe2FWZQ0DXHfGCfdHnz13aLOtLN-6rLVNUYJJcIVVmqzid9yX_1AMAAICrnvV3p1gA30TxSw-DHFhII0K4p1ei1cDGjAcLq960aQTHgLu_zX4SPXlMq8AywJEPNxovFzcJjXMAqI9HSpCuttCEh4z_mwH8MxU-0B54.RYi2dFN3mw5jBagRSpWCJcFaua419Tln2ssUD3voils%26dib_tag%3Dse%26keywords%3Dguitars%26qid%3D1714183054%26sprefix%3Dguitars%252Caps%252C263%26sr%3D8-59-spons%26sp_csd%3Dd2lkZ2V0TmFtZT1zcF9idGY%26psc%3D1',\n",
       " 'https://www.amazon.in/sspa/click?ie=UTF8&spc=MToyNzE4Mzk3MDg0ODQ0MTE3OjE3MTQxODMwNTQ6c3BfYnRmOjIwMDkyNjI0MDIxNTk4OjowOjo&url=%2FDreadnought-Acoustic-Gig-Bag-Strings-Polishing%2Fdp%2FB0BJJRJVHY%2Fref%3Dsr_1_60_sspa%3Fcrid%3DZHTUQUYV52AT%26dib%3DeyJ2IjoiMSJ9.Y1UxTEOx24iAUysPbVbJ2YwwrqWm2xZqTl7W4yWOzDKhKueS755oeD551GNy1OU2rn6RnVG5k26W8bMZy29yELEmq_QwQ6AAwZFU0BRfQ80T7aiHqQobn4Nybe5o6ceWpVdVY5EVnUe2FWZQ0DXHfGCfdHnz13aLOtLN-6rLVNUYJJcIVVmqzid9yX_1AMAAICrnvV3p1gA30TxSw-DHFhII0K4p1ei1cDGjAcLq960aQTHgLu_zX4SPXlMq8AywJEPNxovFzcJjXMAqI9HSpCuttCEh4z_mwH8MxU-0B54.RYi2dFN3mw5jBagRSpWCJcFaua419Tln2ssUD3voils%26dib_tag%3Dse%26keywords%3Dguitars%26qid%3D1714183054%26sprefix%3Dguitars%252Caps%252C263%26sr%3D8-60-spons%26sp_csd%3Dd2lkZ2V0TmFtZT1zcF9idGY%26psc%3D1',\n",
       " 'https://aax-eu.amazon.in/x/c/RGRlWwsIoHcnPd0aQ4Bk3k0AAAGPHUWkkAMAAAH2AQBvbm9fdHhuX2JpZDEgICBvbm9fdHhuX2ltcDEgICABdUyM/https://www.amazon.in/Inrali-Guitar-String-Winder-Cutter/dp/B08VWQ2SRB/ref=sxbs_sbv_search_btf?content-id=amzn1.sym.29651f77-3164-4105-8e83-b08340dd52f0%3Aamzn1.sym.29651f77-3164-4105-8e83-b08340dd52f0&crid=ZHTUQUYV52AT&cv_ct_cx=guitars&dib=eyJ2IjoiMSJ9.bECI8gwH2lwUSU7Ry8xMnQ.glSCNHN53jBLtTAUFXm8mtgBa21MVwd5iu5Luere0i4&dib_tag=se&keywords=guitars&pd_rd_i=B08VWQ2SRB&pd_rd_r=018bb5e8-5881-4469-89f0-a81ef22066cc&pd_rd_w=W5Msx&pd_rd_wg=OpzDs&pf_rd_p=29651f77-3164-4105-8e83-b08340dd52f0&pf_rd_r=AFD2TJSSD836PC3RS02M&qid=1714183054&sbo=RZvfv%2F%2FHxDF%2BO5021pAnSA%3D%3D&sprefix=guitars%2Caps%2C263&sr=1-1-25dedf61-9bde-4412-952b-c956ef4fc546']"
      ]
     },
     "execution_count": 10,
     "metadata": {},
     "output_type": "execute_result"
    }
   ],
   "source": [
    "product_url"
   ]
  },
  {
   "cell_type": "code",
   "execution_count": 11,
   "id": "ed93bc2d",
   "metadata": {},
   "outputs": [],
   "source": [
    "brand_name=[]\n",
    "name_product=[]\n",
    "price=[]\n",
    "return_exchange=[]\n",
    "expected_delivery=[]\n",
    "Availability=[]\n",
    "\n",
    "for i in product_url:\n",
    "    driver.get(i)\n",
    "    time.sleep(3)\n",
    "    try:\n",
    "        brand_names=driver.find_element(By.XPATH,'//span[@class=\"a-size-base po-break-word\"]')\n",
    "        brand_name.append(brand_names.text)\n",
    "\n",
    "        name_products=driver.find_element(By.XPATH,'//span[@class=\"a-size-large product-title-word-break\"]')\n",
    "        name_product.append(name_products.text)\n",
    "\n",
    "        prices=driver.find_element(By.XPATH,'//span[@class=\"a-price-whole\"]')\n",
    "        price.append(prices.text)\n",
    "        \n",
    "        return_exchanges=driver.find_element(By.XPATH,'//span[@class=\"a-size-small a-color-link a-text-normal\"]')\n",
    "        return_exchange.append(return_exchanges.text)\n",
    "        \n",
    "        expected_deliverys=driver.find_element(By.XPATH,'//span[@class=\"a-text-bold\"]')\n",
    "        expected_delivery.append(expected_deliverys.text)\n",
    "        \n",
    "        Availabilitys=driver.find_element(By.XPATH,'//span[@class=\"a-size-medium a-color-success\"]')\n",
    "        Availability.append(Availabilitys.text)\n",
    "        \n",
    "    except NoSuchElementException:\n",
    "        brand_name.append('-')\n",
    "        name_product.append('-')\n",
    "        price.append('-')\n",
    "        return_exchange.append('-')\n",
    "        expected_delivery.append('-')\n",
    "        Availability.append('-')\n",
    "        \n"
   ]
  },
  {
   "cell_type": "code",
   "execution_count": 12,
   "id": "73b21151",
   "metadata": {},
   "outputs": [
    {
     "name": "stdout",
     "output_type": "stream",
     "text": [
      "207 207 207 207 207 183\n"
     ]
    }
   ],
   "source": [
    "print(len(brand_name),len(name_product),len(price),len(return_exchange),len(expected_delivery),len(Availability))"
   ]
  },
  {
   "cell_type": "code",
   "execution_count": 13,
   "id": "b8e4310d",
   "metadata": {},
   "outputs": [
    {
     "data": {
      "text/html": [
       "<div>\n",
       "<style scoped>\n",
       "    .dataframe tbody tr th:only-of-type {\n",
       "        vertical-align: middle;\n",
       "    }\n",
       "\n",
       "    .dataframe tbody tr th {\n",
       "        vertical-align: top;\n",
       "    }\n",
       "\n",
       "    .dataframe thead th {\n",
       "        text-align: right;\n",
       "    }\n",
       "</style>\n",
       "<table border=\"1\" class=\"dataframe\">\n",
       "  <thead>\n",
       "    <tr style=\"text-align: right;\">\n",
       "      <th></th>\n",
       "      <th>Brand Name</th>\n",
       "      <th>Product Name</th>\n",
       "      <th>Price</th>\n",
       "      <th>Return/Exchange</th>\n",
       "      <th>Expected Delivery</th>\n",
       "    </tr>\n",
       "  </thead>\n",
       "  <tbody>\n",
       "    <tr>\n",
       "      <th>0</th>\n",
       "      <td>Medellin</td>\n",
       "      <td>Medellin 38” Acoustic Guitar with (free learni...</td>\n",
       "      <td>1,849</td>\n",
       "      <td>Free Delivery</td>\n",
       "      <td>Monday, 29 April</td>\n",
       "    </tr>\n",
       "    <tr>\n",
       "      <th>1</th>\n",
       "      <td>Kadence</td>\n",
       "      <td>Kadence rosewood Guitar Frontier Series, Elect...</td>\n",
       "      <td>4,899</td>\n",
       "      <td>Free Delivery</td>\n",
       "      <td>Monday, 29 April</td>\n",
       "    </tr>\n",
       "    <tr>\n",
       "      <th>2</th>\n",
       "      <td>Kadence</td>\n",
       "      <td>Kadence Frontier guitar with Online Guitar lea...</td>\n",
       "      <td>4,799</td>\n",
       "      <td>Free Delivery</td>\n",
       "      <td>Monday, 29 April</td>\n",
       "    </tr>\n",
       "    <tr>\n",
       "      <th>3</th>\n",
       "      <td>Medellin</td>\n",
       "      <td>Medellin Acoustic Guitar (with guitar learning...</td>\n",
       "      <td>2,499</td>\n",
       "      <td>Free Delivery</td>\n",
       "      <td>Monday, 29 April</td>\n",
       "    </tr>\n",
       "    <tr>\n",
       "      <th>4</th>\n",
       "      <td>JUAREZ</td>\n",
       "      <td>Juârez Acoustic Guitar, 38 Inch Cutaway, 038C ...</td>\n",
       "      <td>2,199</td>\n",
       "      <td>Free Delivery</td>\n",
       "      <td>Monday, 29 April</td>\n",
       "    </tr>\n",
       "    <tr>\n",
       "      <th>...</th>\n",
       "      <td>...</td>\n",
       "      <td>...</td>\n",
       "      <td>...</td>\n",
       "      <td>...</td>\n",
       "      <td>...</td>\n",
       "    </tr>\n",
       "    <tr>\n",
       "      <th>202</th>\n",
       "      <td>blueberry</td>\n",
       "      <td>BLUEBERRY VIP 341, Sapele Natural Wood Finsh A...</td>\n",
       "      <td>3,290</td>\n",
       "      <td>Free Delivery</td>\n",
       "      <td>Tuesday, 30 April</td>\n",
       "    </tr>\n",
       "    <tr>\n",
       "      <th>203</th>\n",
       "      <td>Festra</td>\n",
       "      <td>Festra R-40, Truss Rod Acoustic Guitar Kit wit...</td>\n",
       "      <td>4,555</td>\n",
       "      <td>Free Delivery</td>\n",
       "      <td>Tuesday, 30 April</td>\n",
       "    </tr>\n",
       "    <tr>\n",
       "      <th>204</th>\n",
       "      <td>blueberry</td>\n",
       "      <td>BLUEBERRY VIP-400, Truss Rod Acoustic Guitar K...</td>\n",
       "      <td>4,590</td>\n",
       "      <td>Free Delivery</td>\n",
       "      <td>Tuesday, 30 April</td>\n",
       "    </tr>\n",
       "    <tr>\n",
       "      <th>205</th>\n",
       "      <td>VAULT</td>\n",
       "      <td>Vault DA20 Dreadnought Acoustic Guitar With Gi...</td>\n",
       "      <td>4,899</td>\n",
       "      <td>Free Delivery</td>\n",
       "      <td>Monday, 29 April</td>\n",
       "    </tr>\n",
       "    <tr>\n",
       "      <th>206</th>\n",
       "      <td>-</td>\n",
       "      <td>-</td>\n",
       "      <td>-</td>\n",
       "      <td>-</td>\n",
       "      <td>-</td>\n",
       "    </tr>\n",
       "  </tbody>\n",
       "</table>\n",
       "<p>207 rows × 5 columns</p>\n",
       "</div>"
      ],
      "text/plain": [
       "    Brand Name                                       Product Name  Price  \\\n",
       "0     Medellin  Medellin 38” Acoustic Guitar with (free learni...  1,849   \n",
       "1      Kadence  Kadence rosewood Guitar Frontier Series, Elect...  4,899   \n",
       "2      Kadence  Kadence Frontier guitar with Online Guitar lea...  4,799   \n",
       "3     Medellin  Medellin Acoustic Guitar (with guitar learning...  2,499   \n",
       "4       JUAREZ  Juârez Acoustic Guitar, 38 Inch Cutaway, 038C ...  2,199   \n",
       "..         ...                                                ...    ...   \n",
       "202  blueberry  BLUEBERRY VIP 341, Sapele Natural Wood Finsh A...  3,290   \n",
       "203     Festra  Festra R-40, Truss Rod Acoustic Guitar Kit wit...  4,555   \n",
       "204  blueberry  BLUEBERRY VIP-400, Truss Rod Acoustic Guitar K...  4,590   \n",
       "205      VAULT  Vault DA20 Dreadnought Acoustic Guitar With Gi...  4,899   \n",
       "206          -                                                  -      -   \n",
       "\n",
       "    Return/Exchange  Expected Delivery  \n",
       "0     Free Delivery   Monday, 29 April  \n",
       "1     Free Delivery   Monday, 29 April  \n",
       "2     Free Delivery   Monday, 29 April  \n",
       "3     Free Delivery   Monday, 29 April  \n",
       "4     Free Delivery   Monday, 29 April  \n",
       "..              ...                ...  \n",
       "202   Free Delivery  Tuesday, 30 April  \n",
       "203   Free Delivery  Tuesday, 30 April  \n",
       "204   Free Delivery  Tuesday, 30 April  \n",
       "205   Free Delivery   Monday, 29 April  \n",
       "206               -                  -  \n",
       "\n",
       "[207 rows x 5 columns]"
      ]
     },
     "execution_count": 13,
     "metadata": {},
     "output_type": "execute_result"
    }
   ],
   "source": [
    "df=pd.DataFrame({'Brand Name':brand_name,'Product Name':name_product, 'Price':price, 'Return/Exchange':return_exchange, 'Expected Delivery':expected_delivery})\n",
    "\n",
    "df"
   ]
  },
  {
   "cell_type": "code",
   "execution_count": 14,
   "id": "ff8c0206",
   "metadata": {},
   "outputs": [],
   "source": [
    "df.to_csv('webscrap3.csv', index=False)"
   ]
  },
  {
   "cell_type": "code",
   "execution_count": 15,
   "id": "d60f6ad7",
   "metadata": {},
   "outputs": [],
   "source": [
    "assisgnment_3=df.to_csv('webscrap3.csv', index=False)"
   ]
  },
  {
   "cell_type": "code",
   "execution_count": 16,
   "id": "25768682",
   "metadata": {},
   "outputs": [],
   "source": [
    "import selenium \n",
    "from selenium import webdriver\n",
    "from selenium.webdriver.common.by import By\n",
    "import pandas as pd\n",
    "from selenium.common.exceptions import NoSuchElementException\n",
    "from selenium.common.exceptions import StaleElementReferenceException\n",
    "from selenium.webdriver.support.ui import WebDriverWait\n",
    "from selenium.webdriver.support import expected_conditions as EC\n",
    "import bs4 as BeautufulSoup\n",
    "import requests\n",
    "import warnings\n",
    "warnings.filterwarnings ('ignore')\n",
    "import time"
   ]
  },
  {
   "cell_type": "markdown",
   "id": "1254f222",
   "metadata": {},
   "source": [
    "3. Write a python program to access the search bar and search button on images.google.com and scrape 10 images each for keywords ‘fruits’, ‘cars’ and ‘Machine Learning’, ‘Guitar’, ‘Cakes’."
   ]
  },
  {
   "cell_type": "code",
   "execution_count": 17,
   "id": "6995ea97",
   "metadata": {},
   "outputs": [],
   "source": [
    "driver=webdriver.Chrome()"
   ]
  },
  {
   "cell_type": "code",
   "execution_count": 18,
   "id": "5cbd739d",
   "metadata": {},
   "outputs": [],
   "source": [
    "driver.get('https://images.google.com/')"
   ]
  },
  {
   "cell_type": "code",
   "execution_count": 19,
   "id": "696fad9b",
   "metadata": {},
   "outputs": [],
   "source": [
    "designation=driver.find_element(By.XPATH,'/html/body/div[1]/div[3]/form/div[1]/div[1]/div[1]/div/div[2]/textarea')\n",
    "designation.send_keys('fruits')"
   ]
  },
  {
   "cell_type": "code",
   "execution_count": 20,
   "id": "3e89cdf2",
   "metadata": {},
   "outputs": [],
   "source": [
    "search_button=driver.find_element(By.XPATH,'/html/body/div[1]/div[3]/form/div[1]/div[1]/div[1]/button/div')\n",
    "search_button.click()"
   ]
  },
  {
   "cell_type": "code",
   "execution_count": 21,
   "id": "f35408f7",
   "metadata": {},
   "outputs": [],
   "source": [
    "fruit=[]\n",
    "fruits_img= driver.find_elements(By.XPATH,'//img[@class=\"YQ4gaf\"]')\n",
    "for i in fruits_img:\n",
    "    source=i.get_attribute('src')\n",
    "    if source is None:\n",
    "        if(source[0:4] == 'http'):\n",
    "            fruit.append(source)\n",
    "                       \n",
    "for x in range(len(fruit)):\n",
    "    if x > 10:\n",
    "        breakBy.XPATH,\n",
    "    print(\"Downloading {0} of {1} images\" .format(1,10))\n",
    "    response=requests.get(fruit[x])\n",
    "    file= open(r\"C:\\Users\\PC\\Desktop\\img for ass\"+str(x)+\".jpg\",\"wb\")\n",
    "    file.write(response.content)\n",
    "    "
   ]
  },
  {
   "cell_type": "code",
   "execution_count": 22,
   "id": "9c2032a4",
   "metadata": {},
   "outputs": [],
   "source": [
    "import selenium \n",
    "from selenium import webdriver\n",
    "from selenium.webdriver.common.by import By\n",
    "import pandas as pd\n",
    "from selenium.common.exceptions import NoSuchElementException\n",
    "from selenium.common.exceptions import StaleElementReferenceException\n",
    "from selenium.webdriver.support.ui import WebDriverWait\n",
    "from selenium.webdriver.support import expected_conditions as EC\n",
    "import bs4 as BeautufulSoup\n",
    "import requests\n",
    "import warnings\n",
    "warnings.filterwarnings ('ignore')\n",
    "import time"
   ]
  },
  {
   "cell_type": "markdown",
   "id": "b243df22",
   "metadata": {},
   "source": [
    "4. Write a python program to search for a smartphone(e.g.: Oneplus Nord, pixel 4A, etc.) on www.flipkart.com and scrape following details for all the search results displayed on 1st page. Details to be scraped: “Brand Name”, “Smartphone name”, “Colour”, “RAM”, “Storage(ROM)”, “Primary Camera”,\n",
    "“Secondary Camera”, “Display Size”, “Battery Capacity”, “Price”, “Product URL”. Incase if any of the details is missing then replace it by “- “. Save your results in a dataframe and CSV."
   ]
  },
  {
   "cell_type": "code",
   "execution_count": 23,
   "id": "93c1f3e2",
   "metadata": {},
   "outputs": [],
   "source": [
    "driver=webdriver.Chrome()\n",
    "driver.get('https://www.flipkart.com/')"
   ]
  },
  {
   "cell_type": "code",
   "execution_count": 24,
   "id": "fb3c34dc",
   "metadata": {},
   "outputs": [],
   "source": [
    "designation=driver.find_element(By.XPATH,'/html/body/div[1]/div/div[1]/div/div/div/div/div[1]/div/div[1]/div/div[1]/div[1]/header/div[1]/div[2]/form/div/div/input')\n",
    "designation.send_keys('Oneplus Nord, pixel 4A')\n",
    "search_button=driver.find_element(By.XPATH,'/html/body/div[1]/div/div[1]/div/div/div/div/div[1]/div/div[1]/div/div[1]/div[1]/header/div[1]/div[2]/form/div/button')\n",
    "search_button.click()"
   ]
  },
  {
   "cell_type": "code",
   "execution_count": 25,
   "id": "7170f38d",
   "metadata": {},
   "outputs": [],
   "source": [
    "product_url=[]\n",
    "start = 0\n",
    "end = 1\n",
    "\n",
    "for page in range(start,end):\n",
    "    url=driver.find_elements(By.XPATH,'//a[@class=\"CGtC98\"]')\n",
    "    for i in url:\n",
    "        product_url.append(i.get_attribute('href'))\n",
    "   "
   ]
  },
  {
   "cell_type": "code",
   "execution_count": 26,
   "id": "fc1d2439",
   "metadata": {},
   "outputs": [
    {
     "data": {
      "text/plain": [
       "['https://www.flipkart.com/oneplus-nord-ce-2-5g-gray-mirror-128-gb/p/itm2a9883679c57c?pid=MOBGDHWMFQBKFV5F&lid=LSTMOBGDHWMFQBKFV5FF8LEGA&marketplace=FLIPKART&q=Oneplus+Nord%2C+pixel+4A&store=tyy%2F4io&srno=s_1_1&otracker=search&otracker1=search&fm=organic&iid=e0e8dcb4-59a5-49c5-b9f4-2d94baad8bfd.MOBGDHWMFQBKFV5F.SEARCH&ppt=hp&ppn=homepage&ssid=ab99enthgw0000001714185242298&qH=51e22a8c2f127b5e',\n",
       " 'https://www.flipkart.com/oneplus-nord-ce-2-5g-bahama-blue-128-gb/p/itm2a9883679c57c?pid=MOBGJMUH64MTF6PK&lid=LSTMOBGJMUH64MTF6PKHMZAIE&marketplace=FLIPKART&q=Oneplus+Nord%2C+pixel+4A&store=tyy%2F4io&srno=s_1_2&otracker=search&otracker1=search&fm=organic&iid=e0e8dcb4-59a5-49c5-b9f4-2d94baad8bfd.MOBGJMUH64MTF6PK.SEARCH&ppt=hp&ppn=homepage&ssid=ab99enthgw0000001714185242298&qH=51e22a8c2f127b5e',\n",
       " 'https://www.flipkart.com/oneplus-nord-blue-marble-128-gb/p/itm3f93c90430130?pid=MOBFUE5JWYDZX6HX&lid=LSTMOBFUE5JWYDZX6HXVKC6BE&marketplace=FLIPKART&q=Oneplus+Nord%2C+pixel+4A&store=tyy%2F4io&srno=s_1_3&otracker=search&otracker1=search&fm=organic&iid=e0e8dcb4-59a5-49c5-b9f4-2d94baad8bfd.MOBFUE5JWYDZX6HX.SEARCH&ppt=hp&ppn=homepage&ssid=ab99enthgw0000001714185242298&qH=51e22a8c2f127b5e',\n",
       " 'https://www.flipkart.com/oneplus-nord-gray-onyx-64-gb/p/itm49f817b591982?pid=MOBFUE5H57THFNVJ&lid=LSTMOBFUE5H57THFNVJ8QEWXD&marketplace=FLIPKART&q=Oneplus+Nord%2C+pixel+4A&store=tyy%2F4io&srno=s_1_4&otracker=search&otracker1=search&fm=organic&iid=e0e8dcb4-59a5-49c5-b9f4-2d94baad8bfd.MOBFUE5H57THFNVJ.SEARCH&ppt=hp&ppn=homepage&ssid=ab99enthgw0000001714185242298&qH=51e22a8c2f127b5e',\n",
       " 'https://www.flipkart.com/oneplus-nord-gray-onyx-128-gb/p/itm3f93c90430130?pid=MOBFUE5HW4XUUGBN&lid=LSTMOBFUE5HW4XUUGBNRL8OX6&marketplace=FLIPKART&q=Oneplus+Nord%2C+pixel+4A&store=tyy%2F4io&srno=s_1_5&otracker=search&otracker1=search&fm=organic&iid=e0e8dcb4-59a5-49c5-b9f4-2d94baad8bfd.MOBFUE5HW4XUUGBN.SEARCH&ppt=hp&ppn=homepage&ssid=ab99enthgw0000001714185242298&qH=51e22a8c2f127b5e',\n",
       " 'https://www.flipkart.com/oneplus-nord-blue-marble-256-gb/p/itm3f93c90430130?pid=MOBFUE5HUU5ZYGRY&lid=LSTMOBFUE5HUU5ZYGRY4ZWZZN&marketplace=FLIPKART&q=Oneplus+Nord%2C+pixel+4A&store=tyy%2F4io&srno=s_1_6&otracker=search&otracker1=search&fm=organic&iid=e0e8dcb4-59a5-49c5-b9f4-2d94baad8bfd.MOBFUE5HUU5ZYGRY.SEARCH&ppt=hp&ppn=homepage&ssid=ab99enthgw0000001714185242298&qH=51e22a8c2f127b5e',\n",
       " 'https://www.flipkart.com/oneplus-nord-blue-marble-64-gb/p/itm49f817b591982?pid=MOBFUE5N7KAGZHHC&lid=LSTMOBFUE5N7KAGZHHCUOBN3W&marketplace=FLIPKART&q=Oneplus+Nord%2C+pixel+4A&store=tyy%2F4io&srno=s_1_7&otracker=search&otracker1=search&fm=organic&iid=e0e8dcb4-59a5-49c5-b9f4-2d94baad8bfd.MOBFUE5N7KAGZHHC.SEARCH&ppt=hp&ppn=homepage&ssid=ab99enthgw0000001714185242298&qH=51e22a8c2f127b5e',\n",
       " 'https://www.flipkart.com/oneplus-nord-gray-onyx-256-gb/p/itm49f817b591982?pid=MOBFUE5GGWHFC37J&lid=LSTMOBFUE5GGWHFC37JNXZLYZ&marketplace=FLIPKART&q=Oneplus+Nord%2C+pixel+4A&store=tyy%2F4io&srno=s_1_8&otracker=search&otracker1=search&fm=organic&iid=e0e8dcb4-59a5-49c5-b9f4-2d94baad8bfd.MOBFUE5GGWHFC37J.SEARCH&ppt=hp&ppn=homepage&ssid=ab99enthgw0000001714185242298&qH=51e22a8c2f127b5e',\n",
       " 'https://www.flipkart.com/oneplus-nord-ce-2-5g-gray-mirror-128-gb/p/itme3c94dc3fc910?pid=MOBGJMUHX7ACJ44Z&lid=LSTMOBGJMUHX7ACJ44ZRM2XKB&marketplace=FLIPKART&q=Oneplus+Nord%2C+pixel+4A&store=tyy%2F4io&srno=s_1_9&otracker=search&otracker1=search&fm=organic&iid=e0e8dcb4-59a5-49c5-b9f4-2d94baad8bfd.MOBGJMUHX7ACJ44Z.SEARCH&ppt=hp&ppn=homepage&ssid=ab99enthgw0000001714185242298&qH=51e22a8c2f127b5e']"
      ]
     },
     "execution_count": 26,
     "metadata": {},
     "output_type": "execute_result"
    }
   ],
   "source": [
    "product_url"
   ]
  },
  {
   "cell_type": "code",
   "execution_count": 27,
   "id": "656bdd46",
   "metadata": {},
   "outputs": [
    {
     "data": {
      "text/plain": [
       "9"
      ]
     },
     "execution_count": 27,
     "metadata": {},
     "output_type": "execute_result"
    }
   ],
   "source": [
    "len(product_url)"
   ]
  },
  {
   "cell_type": "code",
   "execution_count": 28,
   "id": "056d14f9",
   "metadata": {},
   "outputs": [],
   "source": [
    "brand_name=[]\n",
    "smart_name=[]\n",
    "colour=[]\n",
    "ram=[]\n",
    "rom=[]\n",
    "primary_camera=[]\n",
    "secondary_camere=[]\n",
    "display_size=[]\n",
    "battery_capacity=[]\n",
    "price=[]\n",
    "\n",
    "for i in product_url:\n",
    "    driver.get(i)\n",
    "    time.sleep(5)\n",
    "    try:\n",
    "        brand_names=driver.find_element(By.XPATH,'//*[@id=\"container\"]/div/div[3]/div[1]/div[2]/div[9]/div[5]/div/div[2]/div[1]/div[1]/table/tbody/tr[2]/td[2]/ul/li')\n",
    "        brand_name.append(brand_names.text)\n",
    "\n",
    "        smart_names=driver.find_element(By.XPATH,'//*[@id=\"container\"]/div/div[3]/div[1]/div[2]/div[9]/div[5]/div/div[2]/div/div[1]/table/tbody/tr[3]/td[2]/ul/li')\n",
    "        smart_name.append(smart_names.text)\n",
    "\n",
    "        colours=driver.find_element(By.XPATH,'//*[@id=\"container\"]/div/div[3]/div[1]/div[2]/div[9]/div[5]/div/div[2]/div/div[1]/table/tbody/tr[4]/td[2]/ul/li')\n",
    "        colour.append(colours.text)\n",
    "        \n",
    "        rams=driver.find_element(By.XPATH,'//*[@id=\"container\"]/div/div[3]/div[1]/div[2]/div[9]/div[5]/div/div[2]/div[1]/div[4]/table/tbody/tr[2]/td[2]')\n",
    "        ram.append(rams.text)\n",
    "        \n",
    "        roms=driver.find_element(By.XPATH,'//*[@id=\"container\"]/div/div[3]/div[1]/div[2]/div[9]/div[5]/div/div[2]/div[1]/div[4]/table/tbody/tr[1]/td[2]/ul/li')\n",
    "        rom.append(roms.text)\n",
    "        \n",
    "        primary_cameras=driver.find_element(By.XPATH,'//*[@id=\"container\"]/div/div[3]/div[1]/div[2]/div[9]/div[5]/div/div[2]/div[1]/div[5]/table/tbody/tr[1]/td[2]/ul/li')\n",
    "        primary_camera.append(primary_cameras.text)\n",
    "        \n",
    "        secondary_cameres=driver.find_element(By.XPATH,'//*[@id=\"container\"]/div/div[3]/div[1]/div[2]/div[9]/div[5]/div/div[2]/div[1]/div[5]/table/tbody/tr[2]/td[2]/ul/li')\n",
    "        secondary_camere.append(secondary_cameres.text)\n",
    "        \n",
    "        display_sizes=driver.find_element(By.XPATH,'//*[@id=\"container\"]/div/div[3]/div[1]/div[2]/div[9]/div[5]/div/div[2]/div[1]/div[2]/table/tbody/tr[1]/td[2]/ul/li')\n",
    "        display_size.append(display_sizes.text)\n",
    "        \n",
    "        battery_capacitys=driver.find_element(By.XPATH,'//*[@id=\"container\"]/div/div[3]/div[1]/div[2]/div[9]/div[5]/div/div[2]/div[1]/div[7]/table/tbody/tr/td[2]/ul/li')\n",
    "        battery_capacity.append(battery_capacitys.text)\n",
    "        \n",
    "        prices=driver.find_element(By.XPATH,'//div[@class=\"Nx9bqj CxhGGd\"]')\n",
    "        price.append(prices.text)\n",
    "        \n",
    "    except NoSuchElementException:\n",
    "        brand_name.append('-')\n",
    "        smart_name.append('-')\n",
    "        colour.append('-')\n",
    "        ram.append('-')\n",
    "        rom.append('-')\n",
    "        primary_camera.append('-')\n",
    "        secondary_camere.append('-')\n",
    "        display_size.append('-')\n",
    "        battery_capacity.append('-')\n",
    "        price.append('-')"
   ]
  },
  {
   "cell_type": "code",
   "execution_count": 29,
   "id": "71847ca8",
   "metadata": {},
   "outputs": [
    {
     "name": "stdout",
     "output_type": "stream",
     "text": [
      "9 9 9 9 9 9 9 9 9 9\n"
     ]
    }
   ],
   "source": [
    "print(len(brand_name),len(smart_name),len(colour),len(ram),len(rom),len(primary_camera),len(secondary_camere),len(display_size),len(battery_capacity),len(price))"
   ]
  },
  {
   "cell_type": "code",
   "execution_count": 30,
   "id": "8c05d807",
   "metadata": {},
   "outputs": [
    {
     "data": {
      "text/html": [
       "<div>\n",
       "<style scoped>\n",
       "    .dataframe tbody tr th:only-of-type {\n",
       "        vertical-align: middle;\n",
       "    }\n",
       "\n",
       "    .dataframe tbody tr th {\n",
       "        vertical-align: top;\n",
       "    }\n",
       "\n",
       "    .dataframe thead th {\n",
       "        text-align: right;\n",
       "    }\n",
       "</style>\n",
       "<table border=\"1\" class=\"dataframe\">\n",
       "  <thead>\n",
       "    <tr style=\"text-align: right;\">\n",
       "      <th></th>\n",
       "      <th>Brand Name</th>\n",
       "      <th>Smartphone Name</th>\n",
       "      <th>Colour</th>\n",
       "      <th>RAM Size</th>\n",
       "      <th>ROM</th>\n",
       "      <th>Primary Camera</th>\n",
       "      <th>Secondary Camera</th>\n",
       "      <th>Display Size</th>\n",
       "      <th>Battery Capacity</th>\n",
       "      <th>Price</th>\n",
       "    </tr>\n",
       "  </thead>\n",
       "  <tbody>\n",
       "    <tr>\n",
       "      <th>0</th>\n",
       "      <td>-</td>\n",
       "      <td>-</td>\n",
       "      <td>-</td>\n",
       "      <td>-</td>\n",
       "      <td>-</td>\n",
       "      <td>-</td>\n",
       "      <td>-</td>\n",
       "      <td>-</td>\n",
       "      <td>-</td>\n",
       "      <td>-</td>\n",
       "    </tr>\n",
       "    <tr>\n",
       "      <th>1</th>\n",
       "      <td>-</td>\n",
       "      <td>-</td>\n",
       "      <td>-</td>\n",
       "      <td>-</td>\n",
       "      <td>-</td>\n",
       "      <td>-</td>\n",
       "      <td>-</td>\n",
       "      <td>-</td>\n",
       "      <td>-</td>\n",
       "      <td>-</td>\n",
       "    </tr>\n",
       "    <tr>\n",
       "      <th>2</th>\n",
       "      <td>-</td>\n",
       "      <td>-</td>\n",
       "      <td>-</td>\n",
       "      <td>-</td>\n",
       "      <td>-</td>\n",
       "      <td>-</td>\n",
       "      <td>-</td>\n",
       "      <td>-</td>\n",
       "      <td>-</td>\n",
       "      <td>-</td>\n",
       "    </tr>\n",
       "    <tr>\n",
       "      <th>3</th>\n",
       "      <td>-</td>\n",
       "      <td>-</td>\n",
       "      <td>-</td>\n",
       "      <td>-</td>\n",
       "      <td>-</td>\n",
       "      <td>-</td>\n",
       "      <td>-</td>\n",
       "      <td>-</td>\n",
       "      <td>-</td>\n",
       "      <td>-</td>\n",
       "    </tr>\n",
       "    <tr>\n",
       "      <th>4</th>\n",
       "      <td>-</td>\n",
       "      <td>-</td>\n",
       "      <td>-</td>\n",
       "      <td>-</td>\n",
       "      <td>-</td>\n",
       "      <td>-</td>\n",
       "      <td>-</td>\n",
       "      <td>-</td>\n",
       "      <td>-</td>\n",
       "      <td>-</td>\n",
       "    </tr>\n",
       "    <tr>\n",
       "      <th>5</th>\n",
       "      <td>-</td>\n",
       "      <td>-</td>\n",
       "      <td>-</td>\n",
       "      <td>-</td>\n",
       "      <td>-</td>\n",
       "      <td>-</td>\n",
       "      <td>-</td>\n",
       "      <td>-</td>\n",
       "      <td>-</td>\n",
       "      <td>-</td>\n",
       "    </tr>\n",
       "    <tr>\n",
       "      <th>6</th>\n",
       "      <td>-</td>\n",
       "      <td>-</td>\n",
       "      <td>-</td>\n",
       "      <td>-</td>\n",
       "      <td>-</td>\n",
       "      <td>-</td>\n",
       "      <td>-</td>\n",
       "      <td>-</td>\n",
       "      <td>-</td>\n",
       "      <td>-</td>\n",
       "    </tr>\n",
       "    <tr>\n",
       "      <th>7</th>\n",
       "      <td>-</td>\n",
       "      <td>-</td>\n",
       "      <td>-</td>\n",
       "      <td>-</td>\n",
       "      <td>-</td>\n",
       "      <td>-</td>\n",
       "      <td>-</td>\n",
       "      <td>-</td>\n",
       "      <td>-</td>\n",
       "      <td>-</td>\n",
       "    </tr>\n",
       "    <tr>\n",
       "      <th>8</th>\n",
       "      <td>-</td>\n",
       "      <td>-</td>\n",
       "      <td>-</td>\n",
       "      <td>-</td>\n",
       "      <td>-</td>\n",
       "      <td>-</td>\n",
       "      <td>-</td>\n",
       "      <td>-</td>\n",
       "      <td>-</td>\n",
       "      <td>-</td>\n",
       "    </tr>\n",
       "  </tbody>\n",
       "</table>\n",
       "</div>"
      ],
      "text/plain": [
       "  Brand Name Smartphone Name Colour RAM Size ROM Primary Camera  \\\n",
       "0          -               -      -        -   -              -   \n",
       "1          -               -      -        -   -              -   \n",
       "2          -               -      -        -   -              -   \n",
       "3          -               -      -        -   -              -   \n",
       "4          -               -      -        -   -              -   \n",
       "5          -               -      -        -   -              -   \n",
       "6          -               -      -        -   -              -   \n",
       "7          -               -      -        -   -              -   \n",
       "8          -               -      -        -   -              -   \n",
       "\n",
       "  Secondary Camera Display Size Battery Capacity Price  \n",
       "0                -            -                -     -  \n",
       "1                -            -                -     -  \n",
       "2                -            -                -     -  \n",
       "3                -            -                -     -  \n",
       "4                -            -                -     -  \n",
       "5                -            -                -     -  \n",
       "6                -            -                -     -  \n",
       "7                -            -                -     -  \n",
       "8                -            -                -     -  "
      ]
     },
     "execution_count": 30,
     "metadata": {},
     "output_type": "execute_result"
    }
   ],
   "source": [
    "df4=pd.DataFrame({'Brand Name':brand_name,'Smartphone Name':smart_name, 'Colour':colour, 'RAM Size':ram, 'ROM':rom,'Primary Camera':primary_camera, 'Secondary Camera':secondary_camere, 'Display Size':display_size, 'Battery Capacity':battery_capacity,'Price':price})\n",
    "\n",
    "df4"
   ]
  },
  {
   "cell_type": "code",
   "execution_count": 31,
   "id": "9e579a56",
   "metadata": {},
   "outputs": [],
   "source": [
    "df4.to_csv('webscrap4.csv', index=False)"
   ]
  },
  {
   "cell_type": "code",
   "execution_count": 32,
   "id": "57ccb314",
   "metadata": {},
   "outputs": [],
   "source": [
    "assisgnment_no4=df4.to_csv('webscrap4.csv', index=False)"
   ]
  },
  {
   "cell_type": "code",
   "execution_count": null,
   "id": "5094f098",
   "metadata": {},
   "outputs": [],
   "source": []
  },
  {
   "cell_type": "markdown",
   "id": "681fb7bb",
   "metadata": {},
   "source": [
    "5. Write a program to scrap geospatial coordinates (latitude, longitude) of a city searched on google maps."
   ]
  },
  {
   "cell_type": "code",
   "execution_count": 33,
   "id": "16f66e67",
   "metadata": {},
   "outputs": [],
   "source": [
    "driver=webdriver.Chrome()\n",
    "driver.get('https://www.google.co.uk/maps/')"
   ]
  },
  {
   "cell_type": "code",
   "execution_count": 34,
   "id": "fb7bd5e3",
   "metadata": {},
   "outputs": [],
   "source": [
    "current_url=driver.find_element(By.XPATH,'/html/body/div[1]/div[3]/div[8]/div[3]/div[1]/div[1]/div/div[2]/form/input')\n",
    "current_url.send_keys('Portsmouth')\n",
    "search_button=driver.find_element(By.XPATH,'/html/body/div[1]/div[3]/div[8]/div[3]/div[1]/div[1]/div/div[2]/div[1]/button/span')\n",
    "search_button.click()"
   ]
  },
  {
   "cell_type": "code",
   "execution_count": 35,
   "id": "904218b6",
   "metadata": {},
   "outputs": [
    {
     "name": "stdout",
     "output_type": "stream",
     "text": [
      "URL Extracted: https://www.google.co.uk/maps/place/Portsmouth/@50.7886994,-1.0750918,14z/data=!4m6!3m5!1s0x487442a41814f1e9:0x45b683ea03373b79!8m2!3d50.8197675!4d-1.0879769!16zL20vMDYxOV8?entry=ttu\n"
     ]
    }
   ],
   "source": [
    "try:\n",
    "    url_string=driver.current_url\n",
    "    print(\"URL Extracted:\", url_string)\n",
    "        \n",
    "except:\n",
    "    print(\"No URL Found\")\n",
    "    \n"
   ]
  },
  {
   "cell_type": "code",
   "execution_count": 36,
   "id": "060eb6ff",
   "metadata": {},
   "outputs": [],
   "source": [
    "import re\n",
    "lat_lng=re.findall(r'@(.*)data',url_string)\n"
   ]
  },
  {
   "cell_type": "code",
   "execution_count": 37,
   "id": "8cfd975f",
   "metadata": {},
   "outputs": [
    {
     "data": {
      "text/plain": [
       "['50.7886994,-1.0750918,14z/']"
      ]
     },
     "execution_count": 37,
     "metadata": {},
     "output_type": "execute_result"
    }
   ],
   "source": [
    "lat_lng"
   ]
  },
  {
   "cell_type": "code",
   "execution_count": 38,
   "id": "e078ffda",
   "metadata": {},
   "outputs": [
    {
     "name": "stdout",
     "output_type": "stream",
     "text": [
      "Latitude and Longitude: 50.7886994,-1.0750918,14z/\n"
     ]
    }
   ],
   "source": [
    "for i in lat_lng:\n",
    "    i.split(',')\n",
    "\n",
    "print(\"Latitude and Longitude:\", i)\n"
   ]
  },
  {
   "cell_type": "markdown",
   "id": "25279156",
   "metadata": {},
   "source": [
    "6. Write a program to scrap all the available details of best gaming laptops from digit.in"
   ]
  },
  {
   "cell_type": "code",
   "execution_count": 39,
   "id": "f091a45c",
   "metadata": {},
   "outputs": [],
   "source": [
    "driver=webdriver.Chrome()\n",
    "driver.get('https://www.digit.in/')"
   ]
  },
  {
   "cell_type": "code",
   "execution_count": 41,
   "id": "3c1220ad",
   "metadata": {},
   "outputs": [],
   "source": [
    "designation=driver.find_element(By.XPATH,'/html/body/div[1]/header/div/div[1]/div/div/div[2]/form/input[1]')\n",
    "designation.send_keys('Top 10 Gaming Laptops')\n",
    "search_button=driver.find_element(By.XPATH,'/html/body/div[1]/header/div/div[1]/div/div/div[2]/form/button/i')\n",
    "search_button.click()"
   ]
  },
  {
   "cell_type": "code",
   "execution_count": 42,
   "id": "dfda5080",
   "metadata": {},
   "outputs": [],
   "source": [
    "product_url=[]\n",
    "url=driver.find_elements(By.XPATH,'//h3[@class=\"font130 mt0 mb10 mobilesblockdisplay \"]/a')    \n",
    "for i in url:\n",
    "    product_url.append(i.get_attribute('href'))"
   ]
  },
  {
   "cell_type": "code",
   "execution_count": 44,
   "id": "1ae48f57",
   "metadata": {},
   "outputs": [
    {
     "data": {
      "text/plain": [
       "[]"
      ]
     },
     "execution_count": 44,
     "metadata": {},
     "output_type": "execute_result"
    }
   ],
   "source": [
    "product_url"
   ]
  },
  {
   "cell_type": "code",
   "execution_count": 45,
   "id": "05b554fc",
   "metadata": {},
   "outputs": [],
   "source": [
    "name_product=[]\n",
    "operating_system=[]\n",
    "display_size=[]\n",
    "processor=[]\n",
    "\n",
    "for i in product_url:\n",
    "    driver.get(i)\n",
    "    time.sleep(3)\n",
    "    try:\n",
    "        \n",
    "        name_products=driver.find_element(By.XPATH,'//h3[@class=\"font130 mt0 mb10 mobilesblockdisplay \"]/a')\n",
    "        name_product.append(name_products.text)\n",
    "\n",
    "        operating_systems=driver.find_element(By.XPATH,'/html/body/div[1]/div[3]/div/div/article/div[5]/div/div[2]/div[1]/div/div/div/div[2]/div[3]/div[2]/div[1]/div/span[2]')\n",
    "        operating_system.append(operating_systems.text)\n",
    "        \n",
    "        display_sizes=driver.find_element(By.XPATH,'/html/body/div[1]/div[3]/div/div/article/div[5]/div/div[2]/div[2]/div/div/div/div[2]/div[3]/div[2]/div[2]/div/span[2]')\n",
    "        display_size.append(display_sizes.text)\n",
    "        \n",
    "        processors=driver.find_element(By.XPATH,'/html/body/div[1]/div[3]/div/div/article/div[5]/div/div[2]/div[2]/div/div/div/div[2]/div[3]/div[2]/div[4]/div/span[2]')\n",
    "        processor.append(processors.text)\n",
    "        \n",
    "    except NoSuchElementException:\n",
    "        name_product.append('-')\n",
    "        operating_system.append('-')\n",
    "        display_size.append('-')\n",
    "        processor.append('-')\n",
    "        \n",
    "        \n"
   ]
  },
  {
   "cell_type": "code",
   "execution_count": 46,
   "id": "1e448960",
   "metadata": {},
   "outputs": [
    {
     "name": "stdout",
     "output_type": "stream",
     "text": [
      "0 0 0 0\n"
     ]
    }
   ],
   "source": [
    "print(len(name_product), len(operating_system), len(display_size), len(processor))"
   ]
  },
  {
   "cell_type": "code",
   "execution_count": 47,
   "id": "54edd4cf",
   "metadata": {},
   "outputs": [
    {
     "data": {
      "text/html": [
       "<div>\n",
       "<style scoped>\n",
       "    .dataframe tbody tr th:only-of-type {\n",
       "        vertical-align: middle;\n",
       "    }\n",
       "\n",
       "    .dataframe tbody tr th {\n",
       "        vertical-align: top;\n",
       "    }\n",
       "\n",
       "    .dataframe thead th {\n",
       "        text-align: right;\n",
       "    }\n",
       "</style>\n",
       "<table border=\"1\" class=\"dataframe\">\n",
       "  <thead>\n",
       "    <tr style=\"text-align: right;\">\n",
       "      <th></th>\n",
       "      <th>Product Name</th>\n",
       "      <th>Operating System</th>\n",
       "      <th>Display Size</th>\n",
       "      <th>Processor</th>\n",
       "    </tr>\n",
       "  </thead>\n",
       "  <tbody>\n",
       "  </tbody>\n",
       "</table>\n",
       "</div>"
      ],
      "text/plain": [
       "Empty DataFrame\n",
       "Columns: [Product Name, Operating System, Display Size, Processor]\n",
       "Index: []"
      ]
     },
     "execution_count": 47,
     "metadata": {},
     "output_type": "execute_result"
    }
   ],
   "source": [
    "df6=pd.DataFrame({'Product Name': name_product,'Operating System': operating_system,'Display Size': display_size,'Processor':processor})\n",
    "\n",
    "df6"
   ]
  },
  {
   "cell_type": "code",
   "execution_count": null,
   "id": "f28584dd",
   "metadata": {},
   "outputs": [],
   "source": []
  },
  {
   "cell_type": "code",
   "execution_count": null,
   "id": "08a4dc0f",
   "metadata": {},
   "outputs": [],
   "source": []
  },
  {
   "cell_type": "markdown",
   "id": "9cfe13f6",
   "metadata": {},
   "source": [
    "7. Write a python program to scrape the details for all billionaires from www.forbes.com. Details to be scrapped:\n",
    "“Rank”, “Name”, “Net worth”, “Age”, “Citizenship”, “Source”, “Industry”. \n"
   ]
  },
  {
   "cell_type": "code",
   "execution_count": 48,
   "id": "450eeb19",
   "metadata": {},
   "outputs": [],
   "source": [
    "driver=webdriver.Chrome()\n",
    "driver.get('https://www.forbes.com/billionaires/')"
   ]
  },
  {
   "cell_type": "code",
   "execution_count": 50,
   "id": "db269c23",
   "metadata": {},
   "outputs": [],
   "source": [
    "world_b_url=[]\n",
    "start = 0\n",
    "end = 1\n",
    "\n",
    "for page in range(start,end):\n",
    "    url=driver.find_elements(By.XPATH,'//a[@class=\"RelatedContent_link__2BNHq\"]')\n",
    "    for i in url:\n",
    "        world_b_url.append(i.get_attribute('href'))\n",
    "    next_page=driver.find_elements(By.XPATH,'/html/body/div[1]/div[2]/div/div/div[3]/div[2]/div[2]/div/div[2]/div[27]/div[7]/div[1]/nav/div/button[7]/svg' )\n",
    "    time.sleep(3)"
   ]
  },
  {
   "cell_type": "code",
   "execution_count": 51,
   "id": "356ff357",
   "metadata": {},
   "outputs": [
    {
     "data": {
      "text/plain": [
       "['https://www.forbes.com/sites/chasewithorn/2024/04/02/forbes-38th-annual-worlds-billionaires-list-facts-and-figures-2024/',\n",
       " 'https://www.forbes.com/sites/segunolakoyenikan/2024/04/02/new-billionaires-2024-taylor-swift-magic-johnson-and-263-others-join-the-ranks-this-year/',\n",
       " 'https://www.forbes.com/sites/monicahunter-hart/2024/03/31/worlds-youngest-billionaires-2024-john-collison-ben-francis-evan-spiegel/',\n",
       " 'https://www.forbes.com/sites/samanthakroontje/2024/04/02/the-richest-women-in-the-world-francoise_bettencourt-meyers-taylor-swift-alice-walton-2024/',\n",
       " 'https://www.forbes.com/sites/phoebeliu/2024/04/02/the-billionaires-getting-rich-from-ai-2024/',\n",
       " 'https://www.forbes.com/sites/hyunsoorim/2024/04/02/the-10-biggest-billionaire-gainers-2024/',\n",
       " 'https://www.forbes.com/sites/devinseanmartin/2024/04/02/the-countries-with-the-most-billionaires-2024/',\n",
       " 'https://www.forbes.com/sites/devinseanmartin/2024/04/02/the-worlds-celebrity-billionaires-2024-taylor-swift-kim-kardashian-oprah/',\n",
       " 'https://www.forbes.com/sites/johnhyatt/2024/04/02/the-richest-crypto-and-bitcoin-billionaires-in-the-world-2024/',\n",
       " 'https://www.forbes.com/sites/naazneenkarmali/2024/04/02/indian-billionaires-soar-to-record-highs/',\n",
       " 'https://www.forbes.com/sites/russellflannery/2024/04/02/the-10-richest-chinese-billionaires-2024/',\n",
       " 'https://www.forbes.com/sites/chasewithorn/2024/04/02/the-100-billion-club-these-14-people-have-12-figure-fortunes/',\n",
       " 'https://www.forbes.com/sites/richardjchang/2024/04/02/heres-who-fell-off-forbes-2024-billionaires-list/']"
      ]
     },
     "execution_count": 51,
     "metadata": {},
     "output_type": "execute_result"
    }
   ],
   "source": [
    " world_b_url\n"
   ]
  },
  {
   "cell_type": "code",
   "execution_count": 52,
   "id": "2242dee0",
   "metadata": {},
   "outputs": [],
   "source": [
    "rank=[]\n",
    "name=[]\n",
    "networth=[]\n",
    "age=[]\n",
    "citizenship=[]\n",
    "source=[]\n",
    "industry=[]\n",
    "\n",
    "for i in world_b_url:\n",
    "    driver.get(i)\n",
    "    time.sleep(5)\n",
    "    try:\n",
    "        ranks=driver.find_element(By.XPATH,'//div[@class=\"Table_rank__X4MKf\"]')\n",
    "        rank.append(ranks.text)\n",
    "\n",
    "        names=driver.find_element(By.XPATH,'//div[@class=\"Table_personName__Bus2E\"]')\n",
    "        name.append(names.text)\n",
    "        \n",
    "        networths=driver.find_element(By.XPATH,'//div[@class=\"Table_finalWorth__UZA6k\"]')\n",
    "        networth.append(networths.text)\n",
    "        \n",
    "        industrys=driver.find_element(By.XPATH,'/html/body/div[1]/div[2]/div/div/div[3]/div[2]/div[2]/div/div[2]/div[1]/div[2]/div[4]')\n",
    "        industry.append(industrys.text)\n",
    "        \n",
    "    except NoSuchElementException:\n",
    "        rank.append('-')\n",
    "        name.append('-')\n",
    "        age.append('-')\n",
    "        citizenship.append('-')\n",
    "        source.append('-')\n",
    "        industry.append('-')\n",
    "    "
   ]
  },
  {
   "cell_type": "code",
   "execution_count": 53,
   "id": "053696ce",
   "metadata": {},
   "outputs": [
    {
     "name": "stdout",
     "output_type": "stream",
     "text": [
      "13 13 13 13 13 13\n"
     ]
    }
   ],
   "source": [
    "print(len(rank),len(name),len(age),len(citizenship),len(source),len(industry))"
   ]
  },
  {
   "cell_type": "code",
   "execution_count": 54,
   "id": "71bb5811",
   "metadata": {},
   "outputs": [
    {
     "data": {
      "text/html": [
       "<div>\n",
       "<style scoped>\n",
       "    .dataframe tbody tr th:only-of-type {\n",
       "        vertical-align: middle;\n",
       "    }\n",
       "\n",
       "    .dataframe tbody tr th {\n",
       "        vertical-align: top;\n",
       "    }\n",
       "\n",
       "    .dataframe thead th {\n",
       "        text-align: right;\n",
       "    }\n",
       "</style>\n",
       "<table border=\"1\" class=\"dataframe\">\n",
       "  <thead>\n",
       "    <tr style=\"text-align: right;\">\n",
       "      <th></th>\n",
       "      <th>Rank</th>\n",
       "      <th>Name</th>\n",
       "      <th>Age</th>\n",
       "      <th>Citizenship</th>\n",
       "      <th>Industry</th>\n",
       "    </tr>\n",
       "  </thead>\n",
       "  <tbody>\n",
       "    <tr>\n",
       "      <th>0</th>\n",
       "      <td>-</td>\n",
       "      <td>-</td>\n",
       "      <td>-</td>\n",
       "      <td>-</td>\n",
       "      <td>-</td>\n",
       "    </tr>\n",
       "    <tr>\n",
       "      <th>1</th>\n",
       "      <td>-</td>\n",
       "      <td>-</td>\n",
       "      <td>-</td>\n",
       "      <td>-</td>\n",
       "      <td>-</td>\n",
       "    </tr>\n",
       "    <tr>\n",
       "      <th>2</th>\n",
       "      <td>-</td>\n",
       "      <td>-</td>\n",
       "      <td>-</td>\n",
       "      <td>-</td>\n",
       "      <td>-</td>\n",
       "    </tr>\n",
       "    <tr>\n",
       "      <th>3</th>\n",
       "      <td>-</td>\n",
       "      <td>-</td>\n",
       "      <td>-</td>\n",
       "      <td>-</td>\n",
       "      <td>-</td>\n",
       "    </tr>\n",
       "    <tr>\n",
       "      <th>4</th>\n",
       "      <td>-</td>\n",
       "      <td>-</td>\n",
       "      <td>-</td>\n",
       "      <td>-</td>\n",
       "      <td>-</td>\n",
       "    </tr>\n",
       "    <tr>\n",
       "      <th>5</th>\n",
       "      <td>-</td>\n",
       "      <td>-</td>\n",
       "      <td>-</td>\n",
       "      <td>-</td>\n",
       "      <td>-</td>\n",
       "    </tr>\n",
       "    <tr>\n",
       "      <th>6</th>\n",
       "      <td>-</td>\n",
       "      <td>-</td>\n",
       "      <td>-</td>\n",
       "      <td>-</td>\n",
       "      <td>-</td>\n",
       "    </tr>\n",
       "    <tr>\n",
       "      <th>7</th>\n",
       "      <td>-</td>\n",
       "      <td>-</td>\n",
       "      <td>-</td>\n",
       "      <td>-</td>\n",
       "      <td>-</td>\n",
       "    </tr>\n",
       "    <tr>\n",
       "      <th>8</th>\n",
       "      <td>-</td>\n",
       "      <td>-</td>\n",
       "      <td>-</td>\n",
       "      <td>-</td>\n",
       "      <td>-</td>\n",
       "    </tr>\n",
       "    <tr>\n",
       "      <th>9</th>\n",
       "      <td>-</td>\n",
       "      <td>-</td>\n",
       "      <td>-</td>\n",
       "      <td>-</td>\n",
       "      <td>-</td>\n",
       "    </tr>\n",
       "    <tr>\n",
       "      <th>10</th>\n",
       "      <td>-</td>\n",
       "      <td>-</td>\n",
       "      <td>-</td>\n",
       "      <td>-</td>\n",
       "      <td>-</td>\n",
       "    </tr>\n",
       "    <tr>\n",
       "      <th>11</th>\n",
       "      <td>-</td>\n",
       "      <td>-</td>\n",
       "      <td>-</td>\n",
       "      <td>-</td>\n",
       "      <td>-</td>\n",
       "    </tr>\n",
       "    <tr>\n",
       "      <th>12</th>\n",
       "      <td>-</td>\n",
       "      <td>-</td>\n",
       "      <td>-</td>\n",
       "      <td>-</td>\n",
       "      <td>-</td>\n",
       "    </tr>\n",
       "  </tbody>\n",
       "</table>\n",
       "</div>"
      ],
      "text/plain": [
       "   Rank Name Age Citizenship Industry\n",
       "0     -    -   -           -        -\n",
       "1     -    -   -           -        -\n",
       "2     -    -   -           -        -\n",
       "3     -    -   -           -        -\n",
       "4     -    -   -           -        -\n",
       "5     -    -   -           -        -\n",
       "6     -    -   -           -        -\n",
       "7     -    -   -           -        -\n",
       "8     -    -   -           -        -\n",
       "9     -    -   -           -        -\n",
       "10    -    -   -           -        -\n",
       "11    -    -   -           -        -\n",
       "12    -    -   -           -        -"
      ]
     },
     "execution_count": 54,
     "metadata": {},
     "output_type": "execute_result"
    }
   ],
   "source": [
    "df7=pd.DataFrame({'Rank':rank,'Name':name, 'Age':age, 'Citizenship':citizenship, 'Industry':industry})\n",
    "\n",
    "df7"
   ]
  },
  {
   "cell_type": "markdown",
   "id": "c294d80f",
   "metadata": {},
   "source": [
    "8. Write a program to extract at least 500 Comments, Comment upvote and time when comment was posted\n",
    "from any YouTube Video. "
   ]
  },
  {
   "cell_type": "code",
   "execution_count": 55,
   "id": "c1857e61",
   "metadata": {},
   "outputs": [],
   "source": [
    "driver=webdriver.Chrome()\n",
    "driver.get('https://www.youtube.com/')"
   ]
  },
  {
   "cell_type": "code",
   "execution_count": null,
   "id": "cd249390",
   "metadata": {},
   "outputs": [],
   "source": []
  },
  {
   "cell_type": "markdown",
   "id": "bd64c868",
   "metadata": {},
   "source": [
    "9 Write a python program to scrape a data for all available Hostels from https://www.hostelworld.com/ in “London” location. You have to scrape hostel name, distance from city centre, ratings, total reviews, overall reviews, privates from price, dorms from price, facilities and property description."
   ]
  },
  {
   "cell_type": "code",
   "execution_count": 56,
   "id": "915b77d0",
   "metadata": {},
   "outputs": [],
   "source": [
    "driver=webdriver.Chrome()\n",
    "driver.get('https://www.hostelworld.com/')"
   ]
  },
  {
   "cell_type": "code",
   "execution_count": 57,
   "id": "faef6f7f",
   "metadata": {},
   "outputs": [],
   "source": [
    "designation=driver.find_element(By.XPATH,'/html/body/div[3]/div/div[2]/main/header/div/div[2]/div[1]/div[1]/div/div[1]/div[1]/div/div[2]/input')\n",
    "designation.send_keys('London')\n"
   ]
  },
  {
   "cell_type": "code",
   "execution_count": 58,
   "id": "35a967bb",
   "metadata": {},
   "outputs": [],
   "source": [
    "search_button=driver.find_element(By.XPATH,'//div[@class=\"icon-container icon-end\"]')\n",
    "search_button.click()"
   ]
  },
  {
   "cell_type": "code",
   "execution_count": 59,
   "id": "fc5fddcb",
   "metadata": {},
   "outputs": [],
   "source": [
    "product_url=[]\n",
    "start = 0\n",
    "end = 1\n",
    "\n",
    "for page in range(start,end):\n",
    "    url=driver.find_elements(By.XPATH,'//a[@class=\"property-card-container horizontal\"]')\n",
    "    for i in url:\n",
    "        product_url.append(i.get_attribute('href'))\n",
    "    next_page=driver.find_elements(By.XPATH,'/html/body/div[3]/div/div/div[2]/div[2]/div[1]/div/div/div[6]/div/button[2]/div/svg')\n",
    "    time.sleep(2)  "
   ]
  },
  {
   "cell_type": "code",
   "execution_count": 60,
   "id": "90aac3ff",
   "metadata": {},
   "outputs": [
    {
     "data": {
      "text/plain": [
       "[\"https://www.hostelworld.com/pwa/hosteldetails.php/Wombat's%20City%20Hostel%20London/London/88047?from=2024-04-28&to=2024-05-01&guests=2\",\n",
       " 'https://www.hostelworld.com/pwa/hosteldetails.php/Palmers%20Lodge%20-%20Swiss%20Cottage/London/14348?from=2024-04-28&to=2024-05-01&guests=2',\n",
       " 'https://www.hostelworld.com/pwa/hosteldetails.php/NX%20London%20Hostel/London/15204?from=2024-04-28&to=2024-05-01&guests=2',\n",
       " 'https://www.hostelworld.com/pwa/hosteldetails.php/Urbany%20Hostel%20London/London/303427?from=2024-04-28&to=2024-05-01&guests=2',\n",
       " 'https://www.hostelworld.com/pwa/hosteldetails.php/Onefam%20Notting%20Hill/London/291433?from=2024-04-28&to=2024-05-01&guests=2',\n",
       " 'https://www.hostelworld.com/pwa/hosteldetails.php/Onefam%20Waterloo/London/39493?from=2024-04-28&to=2024-05-01&guests=2',\n",
       " 'https://www.hostelworld.com/pwa/hosteldetails.php/Generator%20London/London/510?from=2024-04-28&to=2024-05-01&guests=2',\n",
       " \"https://www.hostelworld.com/pwa/hosteldetails.php/St%20Christopher's%20Village/London/502?from=2024-04-28&to=2024-05-01&guests=2\",\n",
       " 'https://www.hostelworld.com/pwa/hosteldetails.php/Clink261/London/516?from=2024-04-28&to=2024-05-01&guests=2',\n",
       " 'https://www.hostelworld.com/pwa/hosteldetails.php/Safestay%20London%20Elephant%20&%20Castle/London/55551?from=2024-04-28&to=2024-05-01&guests=2',\n",
       " 'https://www.hostelworld.com/pwa/hosteldetails.php/No.8%20Seven%20Sisters/London/91108?from=2024-04-28&to=2024-05-01&guests=2',\n",
       " 'https://www.hostelworld.com/pwa/hosteldetails.php/No.8%20Willesden%20Hostel%20London/London/18420?from=2024-04-28&to=2024-05-01&guests=2',\n",
       " 'https://www.hostelworld.com/pwa/hosteldetails.php/Smart%20Russell%20Square%20Hostel/London/29412?from=2024-04-28&to=2024-05-01&guests=2',\n",
       " 'https://www.hostelworld.com/pwa/hosteldetails.php/Astor%20Hyde%20Park/London/25678?from=2024-04-28&to=2024-05-01&guests=2',\n",
       " 'https://www.hostelworld.com/pwa/hosteldetails.php/Astor%20Museum%20Inn/London/520?from=2024-04-28&to=2024-05-01&guests=2',\n",
       " 'https://www.hostelworld.com/pwa/hosteldetails.php/Destinations%20Hostels%20@%20The%20Gallery/London/314563?from=2024-04-28&to=2024-05-01&guests=2',\n",
       " 'https://www.hostelworld.com/pwa/hosteldetails.php/Queen%20Elizabeth%20Chelsea/London/50443?from=2024-04-28&to=2024-05-01&guests=2',\n",
       " 'https://www.hostelworld.com/pwa/hosteldetails.php/Safestay%20London%20Kensington%20Holland%20Park/London/93920?from=2024-04-28&to=2024-05-01&guests=2',\n",
       " 'https://www.hostelworld.com/pwa/hosteldetails.php/The%20Walrus%20Hostel/London/58378?from=2024-04-28&to=2024-05-01&guests=2',\n",
       " 'https://www.hostelworld.com/pwa/hosteldetails.php/Phoenix%20Hostel/London/48221?from=2024-04-28&to=2024-05-01&guests=2',\n",
       " 'https://www.hostelworld.com/pwa/hosteldetails.php/Hostelle%20-%20women%20only%20hostel%20London/London/316723?from=2024-04-28&to=2024-05-01&guests=2',\n",
       " 'https://www.hostelworld.com/pwa/hosteldetails.php/Smart%20Hyde%20Park%20Inn%20Hostel/London/517?from=2024-04-28&to=2024-05-01&guests=2',\n",
       " 'https://www.hostelworld.com/pwa/hosteldetails.php/London%20Backpackers/London/527?from=2024-04-28&to=2024-05-01&guests=2',\n",
       " \"https://www.hostelworld.com/pwa/hosteldetails.php/St%20Christopher's%20Inn%20-%20London%20Bridge/London/503?from=2024-04-28&to=2024-05-01&guests=2\",\n",
       " 'https://www.hostelworld.com/pwa/hosteldetails.php/YHA%20London%20Central/London/23598?from=2024-04-28&to=2024-05-01&guests=2',\n",
       " 'https://www.hostelworld.com/pwa/hosteldetails.php/Kabannas%20London%20St%20Pancras/London/7010?from=2024-04-28&to=2024-05-01&guests=2',\n",
       " 'https://www.hostelworld.com/pwa/hosteldetails.php/Barmy%20Badger%20Backpackers/London/64746?from=2024-04-28&to=2024-05-01&guests=2',\n",
       " 'https://www.hostelworld.com/pwa/hosteldetails.php/Astor%20Victoria/London/524?from=2024-04-28&to=2024-05-01&guests=2',\n",
       " 'https://www.hostelworld.com/pwa/hosteldetails.php/Smart%20Camden%20Inn%20Hostel/London/596?from=2024-04-28&to=2024-05-01&guests=2',\n",
       " 'https://www.hostelworld.com/pwa/hosteldetails.php/Astor%20Kensington/London/523?from=2024-04-28&to=2024-05-01&guests=2']"
      ]
     },
     "execution_count": 60,
     "metadata": {},
     "output_type": "execute_result"
    }
   ],
   "source": [
    "product_url"
   ]
  },
  {
   "cell_type": "code",
   "execution_count": 61,
   "id": "ac143d4d",
   "metadata": {},
   "outputs": [],
   "source": [
    "hostel_name=[]\n",
    "distance=[]\n",
    "rating=[]\n",
    "total_review=[]\n",
    "overview_re=[]\n",
    "private_price=[]\n",
    "dorm_price=[]\n",
    "property_descrip=[]\n",
    "\n",
    "for i in product_url:\n",
    "    driver.get(i)\n",
    "    time.sleep(5)\n",
    "    try:\n",
    "        hostel_names=driver.find_elements(By.XPATH,'//div[@class=\"property-name\"]/span')\n",
    "        hostel_name.append(hostel_names)\n",
    "\n",
    "        distances=driver.find_elements(By.XPATH,'//span[@class=\"distance-description\"]')\n",
    "        distance.append(distances)\n",
    "\n",
    "        ratings=driver.find_elements(By.XPATH,'//span[@class=\"number\"]')\n",
    "        rating.append(ratings)\n",
    "        \n",
    "        total_reviews=driver.find_elements(By.XPATH,'//span[@class=\"left-margin\"]')\n",
    "        total_review.append(total_reviews)\n",
    "        \n",
    "        overview_res=driver.find_elements(By.XPATH,'//span[@class=\"keyword\"]')\n",
    "        overview_re.append(overview_res)\n",
    "        \n",
    "        private_prices=driver.find_elements(By.XPATH,'/html/body/div[3]/div/div/div[2]/div[2]/div[1]/div/div/div[5]/div[1]/a/a/div[2]/div[4]/div/div[1]/div[3]/strong')\n",
    "        private_price.append(private_prices)\n",
    "        \n",
    "        dorm_prices=driver.find_elements(By.XPATH,'/html/body/div[3]/div/div/div[2]/div[2]/div[1]/div/div/div[5]/div[2]/a/a/div[2]/div[4]/div/div[2]/div[3]/strong')\n",
    "        dorm_price.append(dorm_prices)\n",
    "        \n",
    "        property_descrips=driver.find_elements(By.XPATH,'/html/body/div[3]/div/div/div[2]/div[2]/div[1]/div/div/div[5]/div[2]/a/a/div[2]/div[4]/div/div[2]/div[3]/strong')\n",
    "        property_descrip.append(property_descrips)\n",
    "        \n",
    "        \n",
    "    except NoSuchElementException:\n",
    "        hostel_name.append('-')\n",
    "        distance.append('-')\n",
    "        rating.append('-')\n",
    "        total_review.append('-')\n",
    "        overview_res.append('-')\n",
    "        private_price.append('-')\n",
    "        dorm_price.append('-')\n",
    "        property_descrip.append('-')"
   ]
  },
  {
   "cell_type": "code",
   "execution_count": 62,
   "id": "b51f8033",
   "metadata": {},
   "outputs": [
    {
     "name": "stdout",
     "output_type": "stream",
     "text": [
      "30 30 30 30 0 30 30 30\n"
     ]
    }
   ],
   "source": [
    "print(len(hostel_name),len(distance),len(rating),len(total_review),len(overview_res),len(private_price),len(dorm_price),len(property_descrip))"
   ]
  },
  {
   "cell_type": "code",
   "execution_count": null,
   "id": "f0c83abe",
   "metadata": {},
   "outputs": [],
   "source": []
  }
 ],
 "metadata": {
  "kernelspec": {
   "display_name": "Python 3 (ipykernel)",
   "language": "python",
   "name": "python3"
  },
  "language_info": {
   "codemirror_mode": {
    "name": "ipython",
    "version": 3
   },
   "file_extension": ".py",
   "mimetype": "text/x-python",
   "name": "python",
   "nbconvert_exporter": "python",
   "pygments_lexer": "ipython3",
   "version": "3.11.3"
  }
 },
 "nbformat": 4,
 "nbformat_minor": 5
}
